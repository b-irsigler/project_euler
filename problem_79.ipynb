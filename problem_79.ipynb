{
 "cells": [
  {
   "cell_type": "code",
   "execution_count": null,
   "id": "piano-shopper",
   "metadata": {},
   "outputs": [],
   "source": [
    "\"\"\"\n",
    "\n",
    "\n",
    "A common security method used for online banking is to ask the user for three random \n",
    "characters from a passcode. For example, if the passcode was 531278, they may ask for the \n",
    "2nd, 3rd, and 5th characters; the expected reply would be: 317.\n",
    "\n",
    "The text file, keylog.txt, contains fifty successful login attempts.\n",
    "\n",
    "Given that the three characters are always asked for in order, analyse the file so as to \n",
    "determine the shortest possible secret passcode of unknown length.\n",
    "\n",
    "\"\"\""
   ]
  },
  {
   "cell_type": "code",
   "execution_count": 4,
   "id": "falling-reverse",
   "metadata": {},
   "outputs": [
    {
     "name": "stdout",
     "output_type": "stream",
     "text": [
      "319\n",
      "\n",
      "680\n",
      "\n",
      "180\n",
      "\n",
      "690\n",
      "\n",
      "129\n",
      "\n",
      "620\n",
      "\n",
      "762\n",
      "\n",
      "689\n",
      "\n",
      "762\n",
      "\n",
      "318\n",
      "\n",
      "368\n",
      "\n",
      "710\n",
      "\n",
      "720\n",
      "\n",
      "710\n",
      "\n",
      "629\n",
      "\n",
      "168\n",
      "\n",
      "160\n",
      "\n",
      "689\n",
      "\n",
      "716\n",
      "\n",
      "731\n",
      "\n",
      "736\n",
      "\n",
      "729\n",
      "\n",
      "316\n",
      "\n",
      "729\n",
      "\n",
      "729\n",
      "\n",
      "710\n",
      "\n",
      "769\n",
      "\n",
      "290\n",
      "\n",
      "719\n",
      "\n",
      "680\n",
      "\n",
      "318\n",
      "\n",
      "389\n",
      "\n",
      "162\n",
      "\n",
      "289\n",
      "\n",
      "162\n",
      "\n",
      "718\n",
      "\n",
      "729\n",
      "\n",
      "319\n",
      "\n",
      "790\n",
      "\n",
      "680\n",
      "\n",
      "890\n",
      "\n",
      "362\n",
      "\n",
      "319\n",
      "\n",
      "760\n",
      "\n",
      "316\n",
      "\n",
      "729\n",
      "\n",
      "380\n",
      "\n",
      "319\n",
      "\n",
      "728\n",
      "\n",
      "716\n",
      "\n"
     ]
    }
   ],
   "source": [
    "import urllib\n",
    "\n",
    "url = \"https://projecteuler.net/project/resources/p079_keylog.txt\"\n",
    "\n",
    "file = urllib.request.urlopen(url)\n",
    "\n",
    "list_of_logins = []\n",
    "\n",
    "for line in file:\n",
    "    decoded_line = line.decode(\"utf-8\")\n",
    "    list_of_logins += [int(decoded_line)]\n",
    "    print(decoded_line)"
   ]
  },
  {
   "cell_type": "code",
   "execution_count": 5,
   "id": "massive-qatar",
   "metadata": {},
   "outputs": [
    {
     "data": {
      "text/plain": [
       "[319,\n",
       " 680,\n",
       " 180,\n",
       " 690,\n",
       " 129,\n",
       " 620,\n",
       " 762,\n",
       " 689,\n",
       " 762,\n",
       " 318,\n",
       " 368,\n",
       " 710,\n",
       " 720,\n",
       " 710,\n",
       " 629,\n",
       " 168,\n",
       " 160,\n",
       " 689,\n",
       " 716,\n",
       " 731,\n",
       " 736,\n",
       " 729,\n",
       " 316,\n",
       " 729,\n",
       " 729,\n",
       " 710,\n",
       " 769,\n",
       " 290,\n",
       " 719,\n",
       " 680,\n",
       " 318,\n",
       " 389,\n",
       " 162,\n",
       " 289,\n",
       " 162,\n",
       " 718,\n",
       " 729,\n",
       " 319,\n",
       " 790,\n",
       " 680,\n",
       " 890,\n",
       " 362,\n",
       " 319,\n",
       " 760,\n",
       " 316,\n",
       " 729,\n",
       " 380,\n",
       " 319,\n",
       " 728,\n",
       " 716]"
      ]
     },
     "execution_count": 5,
     "metadata": {},
     "output_type": "execute_result"
    }
   ],
   "source": [
    "list_of_logins"
   ]
  },
  {
   "cell_type": "code",
   "execution_count": 10,
   "id": "frequent-lotus",
   "metadata": {},
   "outputs": [],
   "source": [
    "first_digit = list(map(lambda x: int(x/100), list_of_logins))"
   ]
  },
  {
   "cell_type": "code",
   "execution_count": 14,
   "id": "matched-recommendation",
   "metadata": {},
   "outputs": [],
   "source": [
    "second_digit = list(map(lambda x: int(x/10) % 10, list_of_logins))"
   ]
  },
  {
   "cell_type": "code",
   "execution_count": 18,
   "id": "binding-oxide",
   "metadata": {},
   "outputs": [],
   "source": [
    "third_digit = list(map(lambda x: x % 10, list_of_logins))"
   ]
  },
  {
   "cell_type": "code",
   "execution_count": 19,
   "id": "thirty-father",
   "metadata": {},
   "outputs": [
    {
     "data": {
      "text/plain": [
       "[9,\n",
       " 0,\n",
       " 0,\n",
       " 0,\n",
       " 9,\n",
       " 0,\n",
       " 2,\n",
       " 9,\n",
       " 2,\n",
       " 8,\n",
       " 8,\n",
       " 0,\n",
       " 0,\n",
       " 0,\n",
       " 9,\n",
       " 8,\n",
       " 0,\n",
       " 9,\n",
       " 6,\n",
       " 1,\n",
       " 6,\n",
       " 9,\n",
       " 6,\n",
       " 9,\n",
       " 9,\n",
       " 0,\n",
       " 9,\n",
       " 0,\n",
       " 9,\n",
       " 0,\n",
       " 8,\n",
       " 9,\n",
       " 2,\n",
       " 9,\n",
       " 2,\n",
       " 8,\n",
       " 9,\n",
       " 9,\n",
       " 0,\n",
       " 0,\n",
       " 0,\n",
       " 2,\n",
       " 9,\n",
       " 0,\n",
       " 6,\n",
       " 9,\n",
       " 0,\n",
       " 9,\n",
       " 8,\n",
       " 6]"
      ]
     },
     "execution_count": 19,
     "metadata": {},
     "output_type": "execute_result"
    }
   ],
   "source": [
    "third_digit"
   ]
  },
  {
   "cell_type": "code",
   "execution_count": 9,
   "id": "internal-evidence",
   "metadata": {},
   "outputs": [],
   "source": [
    "import matplotlib.pyplot as plt"
   ]
  },
  {
   "cell_type": "code",
   "execution_count": 23,
   "id": "powered-citation",
   "metadata": {},
   "outputs": [
    {
     "data": {
      "text/plain": [
       "(array([16.,  1.,  5.,  0.,  0.,  0.,  5.,  0., 23.]),\n",
       " array([0, 1, 2, 3, 4, 5, 6, 7, 8, 9]),\n",
       " <BarContainer object of 9 artists>)"
      ]
     },
     "execution_count": 23,
     "metadata": {},
     "output_type": "execute_result"
    },
    {
     "data": {
      "image/png": "[encoded data removed]",
      "text/plain": [
       "<Figure size 432x288 with 1 Axes>"
      ]
     },
     "metadata": {
      "needs_background": "light"
     },
     "output_type": "display_data"
    }
   ],
   "source": [
    "plt.hist(first_digit,bins=range(10))\n",
    "plt.hist(second_digit,bins=range(10))\n",
    "plt.hist(third_digit,bins=range(10))"
   ]
  },
  {
   "cell_type": "code",
   "execution_count": null,
   "id": "south-grace",
   "metadata": {},
   "outputs": [],
   "source": []
  }
 ],
 "metadata": {
  "kernelspec": {
   "display_name": "Python 3",
   "language": "python",
   "name": "python3"
  },
  "language_info": {
   "codemirror_mode": {
    "name": "ipython",
    "version": 3
   },
   "file_extension": ".py",
   "mimetype": "text/x-python",
   "name": "python",
   "nbconvert_exporter": "python",
   "pygments_lexer": "ipython3",
   "version": "3.9.1"
  }
 },
 "nbformat": 4,
 "nbformat_minor": 5
}
