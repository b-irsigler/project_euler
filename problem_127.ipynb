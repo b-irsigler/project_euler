{
 "cells": [
  {
   "cell_type": "code",
   "execution_count": null,
   "id": "senior-subject",
   "metadata": {},
   "outputs": [],
   "source": [
    "\"\"\"\n",
    "\n",
    "\n",
    "The radical of n, rad(n), is the product of distinct prime factors of n. For example, \n",
    "504 = 23 × 32 × 7, so rad(504) = 2 × 3 × 7 = 42.\n",
    "\n",
    "We shall define the triplet of positive integers (a, b, c) to be an abc-hit if:\n",
    "\n",
    "    GCD(a, b) = GCD(a, c) = GCD(b, c) = 1\n",
    "    a < b\n",
    "    a + b = c\n",
    "    rad(abc) < c\n",
    "\n",
    "For example, (5, 27, 32) is an abc-hit, because:\n",
    "\n",
    "    GCD(5, 27) = GCD(5, 32) = GCD(27, 32) = 1\n",
    "    5 < 27\n",
    "    5 + 27 = 32\n",
    "    rad(4320) = 30 < 32\n",
    "\n",
    "It turns out that abc-hits are quite rare and there are only thirty-one abc-hits for \n",
    "c < 1000, with ∑c = 12523.\n",
    "\n",
    "Find ∑c for c < 120000.\n",
    "\n",
    "\"\"\""
   ]
  },
  {
   "cell_type": "code",
   "execution_count": 1,
   "id": "dangerous-enforcement",
   "metadata": {},
   "outputs": [],
   "source": [
    "def prime_factor(number):\n",
    "    assert number > 0\n",
    "    if number == 1:\n",
    "        return []\n",
    "    else:\n",
    "        for i in range(2, number+1):\n",
    "            if number % i == 0:\n",
    "                number = int(number / i)\n",
    "                return prime_factor(number) + [i]\n",
    "        return [2]"
   ]
  },
  {
   "cell_type": "code",
   "execution_count": 10,
   "id": "reliable-palestinian",
   "metadata": {},
   "outputs": [],
   "source": [
    "from math import prod"
   ]
  },
  {
   "cell_type": "code",
   "execution_count": 15,
   "id": "silver-reliance",
   "metadata": {},
   "outputs": [],
   "source": [
    "def rad(n):\n",
    "    factors = prime_factor(n)\n",
    "    factors = set(factors)\n",
    "    return prod(factors)"
   ]
  },
  {
   "cell_type": "code",
   "execution_count": 16,
   "id": "qualified-finder",
   "metadata": {},
   "outputs": [
    {
     "data": {
      "text/plain": [
       "42"
      ]
     },
     "execution_count": 16,
     "metadata": {},
     "output_type": "execute_result"
    }
   ],
   "source": [
    "rad(504)"
   ]
  },
  {
   "cell_type": "code",
   "execution_count": 30,
   "id": "varied-engine",
   "metadata": {},
   "outputs": [],
   "source": [
    "def gcd(num1, num2):\n",
    "    fac1 = set(prime_factor(num1))\n",
    "    fac2 = set(prime_factor(num2))\n",
    "    inter = fac1.intersection(fac2)\n",
    "    if len(inter) == 0:\n",
    "        return 1\n",
    "    else:\n",
    "        return max(inter)"
   ]
  },
  {
   "cell_type": "code",
   "execution_count": 38,
   "id": "intense-least",
   "metadata": {},
   "outputs": [
    {
     "data": {
      "text/plain": [
       "1"
      ]
     },
     "execution_count": 38,
     "metadata": {},
     "output_type": "execute_result"
    }
   ],
   "source": [
    "gcd(445, 254)"
   ]
  },
  {
   "cell_type": "code",
   "execution_count": 57,
   "id": "sustainable-haven",
   "metadata": {},
   "outputs": [],
   "source": [
    "def abc_hit(a, b, c):\n",
    "    # a, b, c are ordered\n",
    "    cond1 = gcd(a, b) == gcd(a, c) == gcd(b, c) == 1\n",
    "    cond2 = a + b == c\n",
    "    cond3 = rad(a * b * c) < c\n",
    "\n",
    "    return cond1 and cond2 and cond3"
   ]
  },
  {
   "cell_type": "code",
   "execution_count": 58,
   "id": "quality-athens",
   "metadata": {},
   "outputs": [
    {
     "data": {
      "text/plain": [
       "True"
      ]
     },
     "execution_count": 58,
     "metadata": {},
     "output_type": "execute_result"
    }
   ],
   "source": [
    "abc_hit(5, 27, 32)"
   ]
  },
  {
   "cell_type": "code",
   "execution_count": 67,
   "id": "proud-kidney",
   "metadata": {},
   "outputs": [
    {
     "name": "stdout",
     "output_type": "stream",
     "text": [
      "1 9\n",
      "2 41\n",
      "3 90\n",
      "4 154\n",
      "5 235\n",
      "6 316\n",
      "7 441\n",
      "8 569\n",
      "9 794\n",
      "10 1037\n",
      "11 1282\n",
      "12 1532\n",
      "13 1788\n",
      "14 2044\n",
      "15 2333\n",
      "16 2676\n",
      "17 3051\n",
      "18 3563\n",
      "19 4075\n",
      "20 4588\n",
      "21 5127\n",
      "22 5752\n",
      "23 6377\n",
      "24 7002\n",
      "25 7678\n",
      "26 8407\n",
      "27 9136\n",
      "28 9865\n",
      "29 10594\n",
      "30 11555\n",
      "31 12523\n"
     ]
    }
   ],
   "source": [
    "c_sum = 0\n",
    "abc_count = 0\n",
    "for c in range(1000):\n",
    "    for b in range(int(c/2)+1,c):\n",
    "        a = c - b\n",
    "        abc = abc_hit(a, b, c)\n",
    "        if abc:\n",
    "            abc_count += 1\n",
    "            c_sum += c\n",
    "            print(abc_count, c_sum)"
   ]
  },
  {
   "cell_type": "code",
   "execution_count": null,
   "id": "configured-karaoke",
   "metadata": {},
   "outputs": [
    {
     "name": "stdout",
     "output_type": "stream",
     "text": [
      "9 1 9\n",
      "32 2 41\n",
      "49 3 90\n",
      "64 4 154\n",
      "81 5 235\n",
      "81 6 316\n",
      "125 7 441\n",
      "128 8 569\n",
      "225 9 794\n",
      "243 10 1037\n",
      "245 11 1282\n",
      "250 12 1532\n",
      "256 13 1788\n",
      "256 14 2044\n",
      "289 15 2333\n",
      "343 16 2676\n",
      "375 17 3051\n",
      "512 18 3563\n",
      "512 19 4075\n",
      "513 20 4588\n",
      "539 21 5127\n",
      "625 22 5752\n",
      "625 23 6377\n",
      "625 24 7002\n",
      "676 25 7678\n",
      "729 26 8407\n",
      "729 27 9136\n",
      "729 28 9865\n",
      "729 29 10594\n",
      "961 30 11555\n",
      "968 31 12523\n",
      "1025 32 13548\n",
      "1029 33 14577\n",
      "1216 34 15793\n",
      "1331 35 17124\n",
      "1331 36 18455\n",
      "1331 37 19786\n",
      "1369 38 21155\n",
      "1587 39 22742\n",
      "1681 40 24423\n",
      "2048 41 26471\n",
      "2048 42 28519\n",
      "2048 43 30567\n",
      "2057 44 32624\n",
      "2187 45 34811\n",
      "2187 46 36998\n",
      "2187 47 39185\n",
      "2197 48 41382\n",
      "2197 49 43579\n",
      "2304 50 45883\n",
      "2312 51 48195\n",
      "2401 52 50596\n",
      "2401 53 52997\n",
      "2401 54 55398\n",
      "2401 55 57799\n",
      "2500 56 60299\n",
      "2673 57 62972\n",
      "3025 58 65997\n",
      "3072 59 69069\n",
      "3125 60 72194\n",
      "3125 61 75319\n",
      "3136 62 78455\n",
      "3211 63 81666\n",
      "3481 64 85147\n",
      "3584 65 88731\n",
      "3773 66 92504\n",
      "3773 67 96277\n",
      "3888 68 100165\n",
      "3969 69 104134\n",
      "3993 70 108127\n",
      "4000 71 112127\n",
      "4096 72 116223\n",
      "4096 73 120319\n",
      "4096 74 124415\n",
      "4107 75 128522\n",
      "4131 76 132653\n",
      "4225 77 136878\n",
      "4235 78 141113\n",
      "4375 79 145488\n",
      "4913 80 150401\n",
      "5041 81 155442\n",
      "5120 82 160562\n",
      "5312 83 165874\n",
      "5427 84 171301\n",
      "5632 85 176933\n",
      "5776 86 182709\n",
      "5832 87 188541\n",
      "6144 88 194685\n",
      "6250 89 200935\n",
      "6400 90 207335\n",
      "6561 91 213896\n",
      "6561 92 220457\n",
      "6561 93 227018\n",
      "6561 94 233579\n",
      "6561 95 240140\n",
      "6561 96 246701\n",
      "6561 97 253262\n",
      "6561 98 259823\n",
      "6625 99 266448\n",
      "6655 100 273103\n",
      "6656 101 279759\n",
      "6859 102 286618\n",
      "6860 103 293478\n",
      "6875 104 300353\n",
      "6912 105 307265\n",
      "7744 106 315009\n",
      "8000 107 323009\n",
      "8019 108 331028\n",
      "8192 109 339220\n",
      "8192 110 347412\n",
      "8576 111 355988\n",
      "8748 112 364736\n",
      "9261 113 373997\n",
      "9317 114 383314\n",
      "9375 115 392689\n",
      "9376 116 402065\n",
      "9409 117 411474\n",
      "9801 118 421275\n",
      "9826 119 431101\n",
      "9984 120 441085\n",
      "10000 121 451085\n",
      "10648 122 461733\n"
     ]
    }
   ],
   "source": [
    "c_sum = 0\n",
    "abc_count = 0\n",
    "for c in range(120000):\n",
    "    for b in range(int(c/2)+1,c):\n",
    "        a = c - b\n",
    "        abc = abc_hit(a, b, c)\n",
    "        if abc:\n",
    "            abc_count += 1\n",
    "            c_sum += c\n",
    "            print(c, abc_count, c_sum)"
   ]
  },
  {
   "cell_type": "code",
   "execution_count": null,
   "id": "worst-marshall",
   "metadata": {},
   "outputs": [],
   "source": []
  }
 ],
 "metadata": {
  "kernelspec": {
   "display_name": "Python 3",
   "language": "python",
   "name": "python3"
  },
  "language_info": {
   "codemirror_mode": {
    "name": "ipython",
    "version": 3
   },
   "file_extension": ".py",
   "mimetype": "text/x-python",
   "name": "python",
   "nbconvert_exporter": "python",
   "pygments_lexer": "ipython3",
   "version": "3.9.1"
  }
 },
 "nbformat": 4,
 "nbformat_minor": 5
}
