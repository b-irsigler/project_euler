{
 "cells": [
  {
   "cell_type": "code",
   "execution_count": null,
   "id": "permanent-alexandria",
   "metadata": {},
   "outputs": [],
   "source": [
    "\"\"\"\n",
    "\n",
    "\n",
    "A permutation is an ordered arrangement of objects. For example, 3124 is one possible \n",
    "permutation of the digits 1, 2, 3 and 4. If all of the permutations are listed numerically \n",
    "or alphabetically, we call it lexicographic order. The lexicographic permutations of 0, 1 \n",
    "and 2 are:\n",
    "\n",
    "012   021   102   120   201   210\n",
    "\n",
    "What is the millionth lexicographic permutation of the digits 0, 1, 2, 3, 4, 5, 6, 7, 8 \n",
    "and 9?\n",
    "\n",
    "\"\"\""
   ]
  },
  {
   "cell_type": "code",
   "execution_count": 27,
   "id": "hairy-boating",
   "metadata": {},
   "outputs": [],
   "source": [
    "import copy"
   ]
  },
  {
   "cell_type": "code",
   "execution_count": 28,
   "id": "indonesian-right",
   "metadata": {},
   "outputs": [],
   "source": [
    "class Permutation:\n",
    "    def __init__(self, pool):\n",
    "        self.pool = pool\n",
    "        \n",
    "    def swap(self, i, j):\n",
    "        temp = self.pool[i]\n",
    "        self.pool[i] = self.pool[j]\n",
    "        self.pool[j] = temp\n",
    "        \n",
    "    def recursive_feed(self, pool):\n",
    "        if \n",
    "        res = []\n",
    "        for i in self.pool:\n",
    "            temp = copy.copy(self.pool)\n",
    "            temp.remove(i)\n",
    "            res += [[i] + recursive_feed()]\n",
    "        return res\n",
    "            \n",
    "        "
   ]
  },
  {
   "cell_type": "code",
   "execution_count": 17,
   "id": "spread-replication",
   "metadata": {},
   "outputs": [],
   "source": [
    "perm = Permutation([0,1,2])"
   ]
  },
  {
   "cell_type": "code",
   "execution_count": 18,
   "id": "introductory-baghdad",
   "metadata": {},
   "outputs": [],
   "source": [
    "perm.swap(0,1)"
   ]
  },
  {
   "cell_type": "code",
   "execution_count": 19,
   "id": "spread-literacy",
   "metadata": {},
   "outputs": [
    {
     "data": {
      "text/plain": [
       "[1, 0, 2]"
      ]
     },
     "execution_count": 19,
     "metadata": {},
     "output_type": "execute_result"
    }
   ],
   "source": [
    "perm.pool"
   ]
  },
  {
   "cell_type": "code",
   "execution_count": 23,
   "id": "conditional-collector",
   "metadata": {},
   "outputs": [],
   "source": [
    "a = [1,2,3]"
   ]
  },
  {
   "cell_type": "code",
   "execution_count": 24,
   "id": "external-cuisine",
   "metadata": {},
   "outputs": [],
   "source": [
    "b = a"
   ]
  },
  {
   "cell_type": "code",
   "execution_count": 25,
   "id": "suspended-madagascar",
   "metadata": {},
   "outputs": [],
   "source": [
    "b.remove(2)"
   ]
  },
  {
   "cell_type": "code",
   "execution_count": 26,
   "id": "dutch-knowing",
   "metadata": {},
   "outputs": [
    {
     "data": {
      "text/plain": [
       "[1, 3]"
      ]
     },
     "execution_count": 26,
     "metadata": {},
     "output_type": "execute_result"
    }
   ],
   "source": [
    "a"
   ]
  },
  {
   "cell_type": "code",
   "execution_count": 41,
   "id": "deadly-removal",
   "metadata": {},
   "outputs": [],
   "source": [
    "def recursive_feed(pool):\n",
    "    if len(pool) == 1:\n",
    "        return pool\n",
    "    else:\n",
    "        res = []\n",
    "        for i in pool:\n",
    "            temp = copy.copy(pool)\n",
    "            temp.remove(i)\n",
    "            res += [i] + recursive_feed(temp)\n",
    "        return res"
   ]
  },
  {
   "cell_type": "code",
   "execution_count": 42,
   "id": "honest-teacher",
   "metadata": {},
   "outputs": [
    {
     "data": {
      "text/plain": [
       "[0, 1, 2, 2, 1, 1, 0, 2, 2, 0, 2, 0, 1, 1, 0]"
      ]
     },
     "execution_count": 42,
     "metadata": {},
     "output_type": "execute_result"
    }
   ],
   "source": [
    "recursive_feed([0, 1, 2])"
   ]
  },
  {
   "cell_type": "code",
   "execution_count": null,
   "id": "hairy-seafood",
   "metadata": {},
   "outputs": [],
   "source": []
  }
 ],
 "metadata": {
  "kernelspec": {
   "display_name": "Python 3",
   "language": "python",
   "name": "python3"
  },
  "language_info": {
   "codemirror_mode": {
    "name": "ipython",
    "version": 3
   },
   "file_extension": ".py",
   "mimetype": "text/x-python",
   "name": "python",
   "nbconvert_exporter": "python",
   "pygments_lexer": "ipython3",
   "version": "3.9.1"
  }
 },
 "nbformat": 4,
 "nbformat_minor": 5
}
