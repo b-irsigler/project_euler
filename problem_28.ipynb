{
 "cells": [
  {
   "cell_type": "code",
   "execution_count": null,
   "id": "lesser-lightweight",
   "metadata": {},
   "outputs": [],
   "source": [
    "\"\"\"\n",
    "\n",
    "\n",
    "Starting with the number 1 and moving to the right in a clockwise direction a 5 by 5 \n",
    "spiral is formed as follows:\n",
    "\n",
    "21 22 23 24 25\n",
    "20  7  8  9 10\n",
    "19  6  1  2 11\n",
    "18  5  4  3 12\n",
    "17 16 15 14 13\n",
    "\n",
    "It can be verified that the sum of the numbers on the diagonals is 101.\n",
    "\n",
    "What is the sum of the numbers on the diagonals in a 1001 by 1001 spiral formed in the \n",
    "same way?\n",
    "\n",
    "\"\"\""
   ]
  },
  {
   "cell_type": "code",
   "execution_count": 3,
   "id": "specific-strip",
   "metadata": {},
   "outputs": [],
   "source": [
    "import numpy as np"
   ]
  },
  {
   "cell_type": "code",
   "execution_count": 47,
   "id": "objective-delicious",
   "metadata": {},
   "outputs": [],
   "source": [
    "def spiral(size):\n",
    "    assert size % 2 == 1\n",
    "    grid = np.zeros((size, size))\n",
    "    mid_pos = (size // 2, size // 2)\n",
    "    \n",
    "    grid[mid_pos[0], mid_pos[1]] = 1\n",
    "    \n",
    "    cnt = 1\n",
    "    cur_pos = list(mid_pos)\n",
    "    for i in range(1, size + 1):\n",
    "        if i % 2 == 0:\n",
    "            # R\n",
    "            for j in range(i):\n",
    "                cnt += 1\n",
    "                cur_pos[1] -= 1\n",
    "                grid[cur_pos[0], cur_pos[1]] = cnt\n",
    "            \n",
    "            # D\n",
    "            for j in range(i):\n",
    "                cnt += 1\n",
    "                cur_pos[0] -= 1\n",
    "                grid[cur_pos[0], cur_pos[1]] = cnt\n",
    "        else:\n",
    "            # L\n",
    "            for j in range(i):\n",
    "                if j == size - 1:\n",
    "                    return grid\n",
    "                cnt += 1\n",
    "                cur_pos[1] += 1\n",
    "                grid[cur_pos[0], cur_pos[1]] = cnt\n",
    "            \n",
    "                \n",
    "            # U\n",
    "            for j in range(i):\n",
    "                cnt += 1\n",
    "                cur_pos[0] += 1\n",
    "                grid[cur_pos[0], cur_pos[1]] = cnt\n"
   ]
  },
  {
   "cell_type": "code",
   "execution_count": 57,
   "id": "fantastic-longitude",
   "metadata": {},
   "outputs": [],
   "source": [
    "sprl = spiral(1001)"
   ]
  },
  {
   "cell_type": "code",
   "execution_count": 64,
   "id": "cross-chemical",
   "metadata": {},
   "outputs": [
    {
     "data": {
      "text/plain": [
       "array([[43., 44., 45., 46., 47., 48., 49.],\n",
       "       [42., 21., 22., 23., 24., 25., 26.],\n",
       "       [41., 20.,  7.,  8.,  9., 10., 27.],\n",
       "       [40., 19.,  6.,  1.,  2., 11., 28.],\n",
       "       [39., 18.,  5.,  4.,  3., 12., 29.],\n",
       "       [38., 17., 16., 15., 14., 13., 30.],\n",
       "       [37., 36., 35., 34., 33., 32., 31.]])"
      ]
     },
     "execution_count": 64,
     "metadata": {},
     "output_type": "execute_result"
    }
   ],
   "source": [
    "sprl[497:504, 497:504]"
   ]
  },
  {
   "cell_type": "code",
   "execution_count": 66,
   "id": "continuous-interference",
   "metadata": {},
   "outputs": [],
   "source": [
    "size = 1001"
   ]
  },
  {
   "cell_type": "code",
   "execution_count": 67,
   "id": "hindu-judgment",
   "metadata": {},
   "outputs": [
    {
     "data": {
      "text/plain": [
       "669171001.0"
      ]
     },
     "execution_count": 67,
     "metadata": {},
     "output_type": "execute_result"
    }
   ],
   "source": [
    "sum([sprl[i, i] + sprl[size - 1 - i, i] for i in range(size)]) - 1"
   ]
  },
  {
   "cell_type": "code",
   "execution_count": null,
   "id": "adjacent-representative",
   "metadata": {},
   "outputs": [],
   "source": []
  }
 ],
 "metadata": {
  "kernelspec": {
   "display_name": "Python 3",
   "language": "python",
   "name": "python3"
  },
  "language_info": {
   "codemirror_mode": {
    "name": "ipython",
    "version": 3
   },
   "file_extension": ".py",
   "mimetype": "text/x-python",
   "name": "python",
   "nbconvert_exporter": "python",
   "pygments_lexer": "ipython3",
   "version": "3.8.6"
  }
 },
 "nbformat": 4,
 "nbformat_minor": 5
}
