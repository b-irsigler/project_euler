{
 "cells": [
  {
   "cell_type": "code",
   "execution_count": null,
   "id": "ready-television",
   "metadata": {},
   "outputs": [],
   "source": [
    "\"\"\"\n",
    "\n",
    "\n",
    "By listing the first six prime numbers: 2, 3, 5, 7, 11, and 13, we can see that the 6th prime is 13.\n",
    "\n",
    "What is the 10 001st prime number?\n",
    "\n",
    "\"\"\""
   ]
  },
  {
   "cell_type": "code",
   "execution_count": 8,
   "id": "widespread-glass",
   "metadata": {},
   "outputs": [],
   "source": [
    "def prime_factors(number):\n",
    "    if number == 1:\n",
    "        return []\n",
    "    else:\n",
    "        for i in range(2, number):\n",
    "            if number % i == 0:\n",
    "                new_number = int(number/i)\n",
    "                return [new_number] + prime_factors(new_number)\n",
    "        return [2]"
   ]
  },
  {
   "cell_type": "code",
   "execution_count": 9,
   "id": "intensive-retailer",
   "metadata": {},
   "outputs": [
    {
     "data": {
      "text/plain": [
       "[117, 39, 13, 2]"
      ]
     },
     "execution_count": 9,
     "metadata": {},
     "output_type": "execute_result"
    }
   ],
   "source": [
    "prime_factors(234)"
   ]
  },
  {
   "cell_type": "code",
   "execution_count": 6,
   "id": "hungry-design",
   "metadata": {},
   "outputs": [
    {
     "data": {
      "text/plain": [
       "169"
      ]
     },
     "execution_count": 6,
     "metadata": {},
     "output_type": "execute_result"
    }
   ],
   "source": [
    "13*13"
   ]
  },
  {
   "cell_type": "code",
   "execution_count": null,
   "id": "unsigned-interest",
   "metadata": {},
   "outputs": [],
   "source": []
  }
 ],
 "metadata": {
  "kernelspec": {
   "display_name": "Python 3",
   "language": "python",
   "name": "python3"
  },
  "language_info": {
   "codemirror_mode": {
    "name": "ipython",
    "version": 3
   },
   "file_extension": ".py",
   "mimetype": "text/x-python",
   "name": "python",
   "nbconvert_exporter": "python",
   "pygments_lexer": "ipython3",
   "version": "3.9.1"
  }
 },
 "nbformat": 4,
 "nbformat_minor": 5
}
