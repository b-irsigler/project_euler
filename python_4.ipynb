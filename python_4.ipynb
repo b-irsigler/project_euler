{
 "cells": [
  {
   "cell_type": "code",
   "execution_count": null,
   "id": "likely-baker",
   "metadata": {},
   "outputs": [],
   "source": [
    "\"\"\"\n",
    "\n",
    "\n",
    "A palindromic number reads the same both ways. The largest palindrome made from the product \n",
    "of two 2-digit numbers is 9009 = 91 × 99.\n",
    "\n",
    "Find the largest palindrome made from the product of two 3-digit numbers.\n",
    "\n",
    "\"\"\""
   ]
  },
  {
   "cell_type": "code",
   "execution_count": 1,
   "id": "foster-intake",
   "metadata": {},
   "outputs": [
    {
     "data": {
      "text/plain": [
       "998001"
      ]
     },
     "execution_count": 1,
     "metadata": {},
     "output_type": "execute_result"
    }
   ],
   "source": [
    "999*999"
   ]
  },
  {
   "cell_type": "code",
   "execution_count": 3,
   "id": "extensive-spell",
   "metadata": {},
   "outputs": [
    {
     "data": {
      "text/plain": [
       "10000"
      ]
     },
     "execution_count": 3,
     "metadata": {},
     "output_type": "execute_result"
    }
   ],
   "source": [
    "100*100"
   ]
  },
  {
   "cell_type": "code",
   "execution_count": 7,
   "id": "ethical-grill",
   "metadata": {},
   "outputs": [],
   "source": [
    "number = 23432"
   ]
  },
  {
   "cell_type": "code",
   "execution_count": 8,
   "id": "national-presence",
   "metadata": {},
   "outputs": [
    {
     "data": {
      "text/plain": [
       "True"
      ]
     },
     "execution_count": 8,
     "metadata": {},
     "output_type": "execute_result"
    }
   ],
   "source": [
    "str(number) == str(number)[::-1]"
   ]
  },
  {
   "cell_type": "code",
   "execution_count": 2,
   "id": "quiet-handling",
   "metadata": {},
   "outputs": [
    {
     "data": {
      "text/plain": [
       "8001"
      ]
     },
     "execution_count": 2,
     "metadata": {},
     "output_type": "execute_result"
    }
   ],
   "source": [
    "def check_palidrome(number):\n",
    "    if str(number) == str(number)[::-1]:\n",
    "        True"
   ]
  },
  {
   "cell_type": "code",
   "execution_count": 10,
   "id": "other-specific",
   "metadata": {},
   "outputs": [],
   "source": [
    "largest_palindrome = 0\n",
    "for number1 in range(100, 999):\n",
    "    for number2 in range(number1, 999):\n",
    "        number = number1 * number2\n",
    "        if str(number) == str(number)[::-1]:\n",
    "            if largest_palindrome < number:\n",
    "                largest_palindrome = number"
   ]
  },
  {
   "cell_type": "code",
   "execution_count": 11,
   "id": "serious-nashville",
   "metadata": {},
   "outputs": [
    {
     "data": {
      "text/plain": [
       "906609"
      ]
     },
     "execution_count": 11,
     "metadata": {},
     "output_type": "execute_result"
    }
   ],
   "source": [
    "largest_palindrome"
   ]
  },
  {
   "cell_type": "code",
   "execution_count": null,
   "id": "fifteen-fellowship",
   "metadata": {},
   "outputs": [],
   "source": []
  }
 ],
 "metadata": {
  "kernelspec": {
   "display_name": "Python 3",
   "language": "python",
   "name": "python3"
  },
  "language_info": {
   "codemirror_mode": {
    "name": "ipython",
    "version": 3
   },
   "file_extension": ".py",
   "mimetype": "text/x-python",
   "name": "python",
   "nbconvert_exporter": "python",
   "pygments_lexer": "ipython3",
   "version": "3.9.1"
  }
 },
 "nbformat": 4,
 "nbformat_minor": 5
}
