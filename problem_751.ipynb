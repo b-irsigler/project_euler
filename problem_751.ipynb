{
 "cells": [
  {
   "cell_type": "code",
   "execution_count": 1,
   "id": "multiple-house",
   "metadata": {},
   "outputs": [
    {
     "data": {
      "text/plain": [
       "'\\nA non-decreasing sequence of integers can be generated from any positive real value by the \\nfollowing procedure:\\nWhere\\n\\nis the floor function.\\n\\nFor example,\\ngenerates the Fibonacci sequence: The concatenation of a sequence of positive integers is a \\nreal value denoted constructed by concatenating the elements of the sequence after the \\ndecimal point, starting at : For example, the Fibonacci sequence constructed from yields \\nthe concatenation Clearly, for this value of\\n\\n.\\n\\nFind the only value of\\nfor which the generated sequence starts at and the concatenation of the generated sequence \\nequals the original value: . Give your answer rounded to 24 places after the decimal point.\\n'"
      ]
     },
     "execution_count": 1,
     "metadata": {},
     "output_type": "execute_result"
    }
   ],
   "source": [
    "\"\"\"\n",
    "A non-decreasing sequence of integers can be generated from any positive real value by the \n",
    "following procedure:\n",
    "Where\n",
    "\n",
    "is the floor function.\n",
    "\n",
    "For example,\n",
    "generates the Fibonacci sequence: The concatenation of a sequence of positive integers is a \n",
    "real value denoted constructed by concatenating the elements of the sequence after the \n",
    "decimal point, starting at : For example, the Fibonacci sequence constructed from yields \n",
    "the concatenation Clearly, for this value of\n",
    "\n",
    ".\n",
    "\n",
    "Find the only value of\n",
    "for which the generated sequence starts at and the concatenation of the generated sequence \n",
    "equals the original value: . Give your answer rounded to 24 places after the decimal point.\n",
    "\"\"\""
   ]
  },
  {
   "cell_type": "code",
   "execution_count": 2,
   "id": "powered-tourism",
   "metadata": {},
   "outputs": [],
   "source": [
    "from math import floor\n",
    "from decimal import Decimal"
   ]
  },
  {
   "cell_type": "code",
   "execution_count": 3,
   "id": "conceptual-internet",
   "metadata": {},
   "outputs": [],
   "source": [
    "def b(n, theta):\n",
    "    assert n >= 1\n",
    "    if n == 1:\n",
    "        return theta\n",
    "    else:\n",
    "        b_ = b(n-1, theta)\n",
    "        return floor(b_) * (b_ - floor(b_) + 1)"
   ]
  },
  {
   "cell_type": "code",
   "execution_count": 4,
   "id": "welcome-adobe",
   "metadata": {},
   "outputs": [
    {
     "data": {
      "text/plain": [
       "89.62484932445363"
      ]
     },
     "execution_count": 4,
     "metadata": {},
     "output_type": "execute_result"
    }
   ],
   "source": [
    "b(9, 2.956938891377)"
   ]
  },
  {
   "cell_type": "code",
   "execution_count": 5,
   "id": "radio-annex",
   "metadata": {},
   "outputs": [],
   "source": [
    "def a(n, theta):\n",
    "    return floor(b(n, theta))"
   ]
  },
  {
   "cell_type": "code",
   "execution_count": 6,
   "id": "capital-static",
   "metadata": {},
   "outputs": [
    {
     "name": "stdout",
     "output_type": "stream",
     "text": [
      "2\n",
      "3\n",
      "5\n",
      "8\n",
      "13\n",
      "21\n",
      "34\n",
      "55\n",
      "89\n"
     ]
    }
   ],
   "source": [
    "for i in range(1,10):\n",
    "    print(a(i, 2.956938891377))"
   ]
  },
  {
   "cell_type": "code",
   "execution_count": 85,
   "id": "quarterly-sender",
   "metadata": {},
   "outputs": [],
   "source": [
    "def concatenation(theta, max_digits_after_point):\n",
    "    res_str = str(a(1, theta)) + '.'\n",
    "    digits_after_point = 0\n",
    "    for i in range(2, max_digits_after_point + 2):\n",
    "        res_str += str(a(i, theta))\n",
    "        digits_after_point = len(res_str) - 2\n",
    "        #print(res_str, i)\n",
    "        if digits_after_point >= max_digits_after_point:\n",
    "            return Decimal(res_str)"
   ]
  },
  {
   "cell_type": "code",
   "execution_count": 8,
   "id": "eight-chester",
   "metadata": {},
   "outputs": [
    {
     "name": "stdout",
     "output_type": "stream",
     "text": [
      "2.3\n",
      "2.35\n",
      "2.358\n",
      "2.35813\n",
      "2.3581321\n",
      "2.358132134\n",
      "2.35813213455\n",
      "2.3581321345589\n",
      "2.3581321345589144\n",
      "2.3581321345589144232\n",
      "2.3581321345589144232247\n",
      "2.3581321345589144232247492\n",
      "2.3581321345589144232247492818\n",
      "2.35813213455891442322474928181260\n"
     ]
    },
    {
     "data": {
      "text/plain": [
       "Decimal('2.35813213455891442322474928181260')"
      ]
     },
     "execution_count": 8,
     "metadata": {},
     "output_type": "execute_result"
    }
   ],
   "source": [
    "concatenation(2.956938891377, 30)"
   ]
  },
  {
   "cell_type": "code",
   "execution_count": 83,
   "id": "matched-finnish",
   "metadata": {},
   "outputs": [],
   "source": [
    "def minimization_function(theta, max_digits_after_point):\n",
    "    #print(theta, max_digits_after_point, concatenation(theta, max_digits_after_point))\n",
    "    return theta - concatenation(theta, max_digits_after_point)"
   ]
  },
  {
   "cell_type": "code",
   "execution_count": null,
   "id": "gothic-dominant",
   "metadata": {},
   "outputs": [],
   "source": []
  },
  {
   "cell_type": "code",
   "execution_count": 91,
   "id": "blessed-wales",
   "metadata": {},
   "outputs": [],
   "source": [
    "from numpy import sign"
   ]
  },
  {
   "cell_type": "code",
   "execution_count": 96,
   "id": "naughty-developer",
   "metadata": {},
   "outputs": [
    {
     "data": {
      "text/plain": [
       "0"
      ]
     },
     "execution_count": 96,
     "metadata": {},
     "output_type": "execute_result"
    }
   ],
   "source": [
    "sign(Decimal('0E-52'))"
   ]
  },
  {
   "cell_type": "code",
   "execution_count": 92,
   "id": "imported-vinyl",
   "metadata": {},
   "outputs": [
    {
     "data": {
      "text/plain": [
       "Decimal('-0E-52')"
      ]
     },
     "execution_count": 92,
     "metadata": {},
     "output_type": "execute_result"
    }
   ],
   "source": [
    "temp_low"
   ]
  },
  {
   "cell_type": "code",
   "execution_count": 89,
   "id": "positive-embassy",
   "metadata": {},
   "outputs": [
    {
     "data": {
      "text/plain": [
       "Decimal('0E-52')"
      ]
     },
     "execution_count": 89,
     "metadata": {},
     "output_type": "execute_result"
    }
   ],
   "source": [
    "abs(temp_low)"
   ]
  },
  {
   "cell_type": "code",
   "execution_count": 94,
   "id": "civil-majority",
   "metadata": {},
   "outputs": [
    {
     "data": {
      "text/plain": [
       "Decimal('-0.1223478111315242424242424')"
      ]
     },
     "execution_count": 94,
     "metadata": {},
     "output_type": "execute_result"
    }
   ],
   "source": [
    "f_low"
   ]
  },
  {
   "cell_type": "code",
   "execution_count": 101,
   "id": "hollywood-ceiling",
   "metadata": {},
   "outputs": [
    {
     "data": {
      "text/plain": [
       "Decimal('0E-27')"
      ]
     },
     "execution_count": 101,
     "metadata": {},
     "output_type": "execute_result"
    }
   ],
   "source": [
    "f_cur"
   ]
  },
  {
   "cell_type": "code",
   "execution_count": null,
   "id": "prescription-hollow",
   "metadata": {},
   "outputs": [],
   "source": []
  },
  {
   "cell_type": "code",
   "execution_count": 105,
   "id": "postal-station",
   "metadata": {},
   "outputs": [
    {
     "name": "stdout",
     "output_type": "stream",
     "text": [
      "2.2\n",
      "2.25\n",
      "2.225\n",
      "2.2125\n",
      "2.21875\n",
      "2.221875\n",
      "2.2234375\n",
      "2.22421875\n",
      "2.223828125\n",
      "2.2236328125\n",
      "2.22353515625\n",
      "2.223583984375\n",
      "2.2235595703125\n",
      "2.22357177734375\n",
      "2.223565673828125\n",
      "2.2235626220703125\n",
      "2.22356109619140625\n",
      "2.223560333251953125\n",
      "2.2235607147216796875\n",
      "2.22356090545654296875\n",
      "2.223561000823974609375\n",
      "2.2235610485076904296875\n",
      "2.22356102466583251953125\n",
      "2.223561012744903564453125\n",
      "2.2235610187053680419921875\n",
      "2.22356102168560028076171875\n",
      "2.223561020195484161376953125\n",
      "2.223561019450426101684570312\n",
      "2.223561019077897071838378906\n",
      "2.223561019264161586761474609\n",
      "2.223561019357293844223022460\n",
      "2.223561019310727715492248534\n",
      "2.223561019334010779857635497\n",
      "2.223561019322369247674942016\n",
      "2.223561019316548481583595275\n",
      "2.223561019313638098537921904\n",
      "2.223561019312182907015085219\n",
      "2.223561019312910502776503562\n",
      "2.223561019313274300657212733\n",
      "2.223561019313456199597567318\n",
      "2.223561019313547149067744611\n",
      "2.223561019313592623802833258\n",
      "2.223561019313569886435288934\n",
      "2.223561019313558517751516772\n",
      "2.223561019313552833409630692\n",
      "2.223561019313555675580573732\n",
      "2.223561019313554254495102212\n",
      "2.223561019313553543952366452\n",
      "2.223561019313553899223734332\n",
      "2.223561019313554076859418272\n",
      "2.223561019313554165677260242\n",
      "2.223561019313554121268339257\n",
      "2.223561019313554099063878764\n",
      "2.223561019313554110166109010\n",
      "2.223561019313554104614993887\n",
      "2.223561019313554107390551448\n",
      "2.223561019313554106002772668\n",
      "2.223561019313554106696662058\n",
      "2.223561019313554106349717363\n",
      "2.223561019313554106176245016\n",
      "2.223561019313554106089508842\n",
      "2.223561019313554106132876929\n",
      "2.223561019313554106154560972\n",
      "2.223561019313554106165402994\n",
      "2.223561019313554106170824005\n",
      "2.223561019313554106173534510\n",
      "2.223561019313554106172179258\n",
      "2.223561019313554106172856884\n",
      "2.223561019313554106173195697\n",
      "2.223561019313554106173026290\n",
      "2.223561019313554106173110994\n",
      "2.223561019313554106173153346\n",
      "2.223561019313554106173174522\n",
      "2.223561019313554106173185110\n",
      "2.223561019313554106173179816\n",
      "2.223561019313554106173177169\n",
      "2.223561019313554106173175846\n",
      "2.223561019313554106173176508\n",
      "2.223561019313554106173176838\n",
      "2.223561019313554106173177004\n",
      "2.223561019313554106173176921\n",
      "2.223561019313554106173176962\n",
      "2.223561019313554106173176983\n",
      "2.223561019313554106173176994\n",
      "2.223561019313554106173176999\n",
      "2.223561019313554106173177002\n",
      "2.223561019313554106173177000\n"
     ]
    },
    {
     "ename": "InvalidOperation",
     "evalue": "[<class 'decimal.DivisionUndefined'>]",
     "output_type": "error",
     "traceback": [
      "\u001b[0;31m---------------------------------------------------------------------------\u001b[0m",
      "\u001b[0;31mInvalidOperation\u001b[0m                          Traceback (most recent call last)",
      "\u001b[0;32m<ipython-input-105-647f72f48ddd>\u001b[0m in \u001b[0;36m<module>\u001b[0;34m\u001b[0m\n\u001b[1;32m     11\u001b[0m     \u001b[0mf_cur\u001b[0m \u001b[0;34m=\u001b[0m \u001b[0mminimization_function\u001b[0m\u001b[0;34m(\u001b[0m\u001b[0mcur\u001b[0m\u001b[0;34m,\u001b[0m \u001b[0mprec\u001b[0m\u001b[0;34m)\u001b[0m\u001b[0;34m\u001b[0m\u001b[0;34m\u001b[0m\u001b[0m\n\u001b[1;32m     12\u001b[0m     \u001b[0mtemp_low\u001b[0m \u001b[0;34m=\u001b[0m \u001b[0mf_low\u001b[0m \u001b[0;34m*\u001b[0m \u001b[0mf_cur\u001b[0m\u001b[0;34m\u001b[0m\u001b[0;34m\u001b[0m\u001b[0m\n\u001b[0;32m---> 13\u001b[0;31m     \u001b[0;32mif\u001b[0m \u001b[0mtemp_low\u001b[0m \u001b[0;34m/\u001b[0m \u001b[0mabs\u001b[0m\u001b[0;34m(\u001b[0m\u001b[0mtemp_low\u001b[0m\u001b[0;34m)\u001b[0m \u001b[0;34m<\u001b[0m \u001b[0;36m0\u001b[0m\u001b[0;34m:\u001b[0m\u001b[0;34m\u001b[0m\u001b[0;34m\u001b[0m\u001b[0m\n\u001b[0m\u001b[1;32m     14\u001b[0m         \u001b[0mupper_bound\u001b[0m \u001b[0;34m=\u001b[0m \u001b[0mcur\u001b[0m\u001b[0;34m\u001b[0m\u001b[0;34m\u001b[0m\u001b[0m\n\u001b[1;32m     15\u001b[0m     \u001b[0;32melse\u001b[0m\u001b[0;34m:\u001b[0m\u001b[0;34m\u001b[0m\u001b[0;34m\u001b[0m\u001b[0m\n",
      "\u001b[0;31mInvalidOperation\u001b[0m: [<class 'decimal.DivisionUndefined'>]"
     ]
    }
   ],
   "source": [
    "lower_bound = Decimal('2.1')\n",
    "upper_bound = Decimal('2.3')\n",
    "prec = 24\n",
    "\n",
    "f_low = minimization_function(lower_bound, prec)\n",
    "f_up = minimization_function(upper_bound, prec)\n",
    "\n",
    "while abs(f_low - f_up) > Decimal(10**-prec):\n",
    "    cur = Decimal((upper_bound + lower_bound) / 2)\n",
    "    print(cur)\n",
    "    f_cur = minimization_function(cur, prec)\n",
    "    temp_low = f_low * f_cur\n",
    "    if temp_low / abs(temp_low) < 0:\n",
    "        upper_bound = cur\n",
    "    else:\n",
    "        lower_bound = cur"
   ]
  },
  {
   "cell_type": "code",
   "execution_count": 103,
   "id": "coastal-overhead",
   "metadata": {},
   "outputs": [
    {
     "data": {
      "text/plain": [
       "Decimal('0E-27')"
      ]
     },
     "execution_count": 103,
     "metadata": {},
     "output_type": "execute_result"
    }
   ],
   "source": [
    "minimization_function(Decimal(cur), prec)"
   ]
  },
  {
   "cell_type": "code",
   "execution_count": 104,
   "id": "polished-empty",
   "metadata": {},
   "outputs": [
    {
     "data": {
      "text/plain": [
       "Decimal('2.223561019313554106173177000')"
      ]
     },
     "execution_count": 104,
     "metadata": {},
     "output_type": "execute_result"
    }
   ],
   "source": [
    "cur"
   ]
  },
  {
   "cell_type": "code",
   "execution_count": 69,
   "id": "third-planet",
   "metadata": {},
   "outputs": [
    {
     "data": {
      "text/plain": [
       "Decimal('2.223577777777777777777913171827')"
      ]
     },
     "execution_count": 69,
     "metadata": {},
     "output_type": "execute_result"
    }
   ],
   "source": [
    "concatenation(Decimal(2.225000000000000088817841970012523233890533447265625), 30)"
   ]
  },
  {
   "cell_type": "code",
   "execution_count": 106,
   "id": "short-premiere",
   "metadata": {},
   "outputs": [
    {
     "data": {
      "text/plain": [
       "27"
      ]
     },
     "execution_count": 106,
     "metadata": {},
     "output_type": "execute_result"
    }
   ],
   "source": [
    "len(str(223561019313554106173177000))"
   ]
  },
  {
   "cell_type": "code",
   "execution_count": null,
   "id": "hindu-thickness",
   "metadata": {},
   "outputs": [],
   "source": []
  }
 ],
 "metadata": {
  "kernelspec": {
   "display_name": "Python 3",
   "language": "python",
   "name": "python3"
  },
  "language_info": {
   "codemirror_mode": {
    "name": "ipython",
    "version": 3
   },
   "file_extension": ".py",
   "mimetype": "text/x-python",
   "name": "python",
   "nbconvert_exporter": "python",
   "pygments_lexer": "ipython3",
   "version": "3.9.1"
  }
 },
 "nbformat": 4,
 "nbformat_minor": 5
}
