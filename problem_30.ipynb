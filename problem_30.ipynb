{
 "cells": [
  {
   "cell_type": "code",
   "execution_count": null,
   "id": "remarkable-annex",
   "metadata": {},
   "outputs": [],
   "source": [
    "\"\"\"\n",
    "\n",
    "\n",
    "Surprisingly there are only three numbers that can be written as the sum of fourth powers of their digits:\n",
    "\n",
    "    1634 = 14 + 64 + 34 + 44\n",
    "    8208 = 84 + 24 + 04 + 84\n",
    "    9474 = 94 + 44 + 74 + 44\n",
    "\n",
    "As 1 = 14 is not a sum it is not included.\n",
    "\n",
    "The sum of these numbers is 1634 + 8208 + 9474 = 19316.\n",
    "\n",
    "Find the sum of all the numbers that can be written as the sum of fifth powers of their digits.\n",
    "\n",
    "\"\"\""
   ]
  },
  {
   "cell_type": "code",
   "execution_count": 8,
   "id": "anonymous-india",
   "metadata": {},
   "outputs": [
    {
     "name": "stdout",
     "output_type": "stream",
     "text": [
      "0\n",
      "4150\n",
      "1\n",
      "4151\n"
     ]
    }
   ],
   "source": [
    "xp = 5\n",
    "for s1 in range(10):\n",
    "    for s2 in range(10):\n",
    "        for s3 in range(10):\n",
    "            for s4 in range(10):\n",
    "                nmbr = 1 * s1 + 10 * s2 + 100 * s3 + 1000 * s4\n",
    "                pwr = s1 ** xp + s2 ** xp + s3 ** xp + s4 ** xp\n",
    "                if nmbr == pwr:\n",
    "                    print(nmbr)"
   ]
  },
  {
   "cell_type": "code",
   "execution_count": 13,
   "id": "prospective-employee",
   "metadata": {},
   "outputs": [
    {
     "name": "stdout",
     "output_type": "stream",
     "text": [
      "0\n",
      "4150\n",
      "1\n",
      "4151\n",
      "93084\n",
      "92727\n",
      "54748\n"
     ]
    }
   ],
   "source": [
    "for s1 in range(10):\n",
    "    for s2 in range(10):\n",
    "        for s3 in range(10):\n",
    "            for s4 in range(10):\n",
    "                for s5 in range(10):\n",
    "                    nmbr = 1 * s1 + 10 * s2 + 100 * s3 + 1000 * s4 + 10000 * s5\n",
    "                    pwr = s1 ** xp + s2 ** xp + s3 ** xp + s4 ** xp + s5 ** xp\n",
    "                    if nmbr == pwr:\n",
    "                        print(nmbr)"
   ]
  },
  {
   "cell_type": "code",
   "execution_count": 21,
   "id": "strategic-internship",
   "metadata": {},
   "outputs": [
    {
     "name": "stdout",
     "output_type": "stream",
     "text": [
      "0\n",
      "4150\n",
      "1\n",
      "4151\n",
      "93084\n",
      "92727\n",
      "54748\n",
      "194979\n"
     ]
    }
   ],
   "source": [
    "for s1 in range(10):\n",
    "    for s2 in range(10):\n",
    "        for s3 in range(10):\n",
    "            for s4 in range(10):\n",
    "                for s5 in range(10):\n",
    "                    for s6 in range(10):\n",
    "                        for s7 in range(10):\n",
    "                            nmbr = 1 * s1 + 10 * s2 + 100 * s3 + 1000 * s4 + 10000 * s5 \\\n",
    "                                + 100000 * s6 + 1000000 * s7\n",
    "                            pwr = s1 ** xp + s2 ** xp + s3 ** xp + s4 ** xp + s5 ** xp \\\n",
    "                                + s6 ** xp + s7 ** xp\n",
    "                            if nmbr == pwr:\n",
    "                                print(nmbr)"
   ]
  },
  {
   "cell_type": "code",
   "execution_count": 23,
   "id": "impossible-refrigerator",
   "metadata": {},
   "outputs": [
    {
     "data": {
      "text/plain": [
       "443839"
      ]
     },
     "execution_count": 23,
     "metadata": {},
     "output_type": "execute_result"
    }
   ],
   "source": [
    "4150+4151+93084+92727+54748+194979"
   ]
  },
  {
   "cell_type": "code",
   "execution_count": null,
   "id": "copyrighted-holiday",
   "metadata": {},
   "outputs": [],
   "source": []
  }
 ],
 "metadata": {
  "kernelspec": {
   "display_name": "Python 3",
   "language": "python",
   "name": "python3"
  },
  "language_info": {
   "codemirror_mode": {
    "name": "ipython",
    "version": 3
   },
   "file_extension": ".py",
   "mimetype": "text/x-python",
   "name": "python",
   "nbconvert_exporter": "python",
   "pygments_lexer": "ipython3",
   "version": "3.8.6"
  }
 },
 "nbformat": 4,
 "nbformat_minor": 5
}
