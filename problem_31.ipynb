{
 "cells": [
  {
   "cell_type": "code",
   "execution_count": null,
   "id": "accompanied-aurora",
   "metadata": {},
   "outputs": [],
   "source": [
    "\"\"\"\n",
    "\n",
    "\n",
    "In the United Kingdom the currency is made up of pound (£) and pence (p). There are eight coins in general circulation:\n",
    "\n",
    "    1p, 2p, 5p, 10p, 20p, 50p, £1 (100p), and £2 (200p).\n",
    "\n",
    "It is possible to make £2 in the following way:\n",
    "\n",
    "    1×£1 + 1×50p + 2×20p + 1×5p + 1×2p + 3×1p\n",
    "\n",
    "How many different ways can £2 be made using any number of coins?\n",
    "\n",
    "\"\"\""
   ]
  },
  {
   "cell_type": "code",
   "execution_count": 1,
   "id": "standard-eugene",
   "metadata": {},
   "outputs": [],
   "source": [
    "def amount(pe1, pe2, pe5, pe10, pe20, pe50, po1, po2):\n",
    "    return 1 * pe1 + 2 * pe2 + 5 * pe5 + 10 * pe10 + 20 * pe20 +50 * pe50 + 100 * po1 + 200 * po2"
   ]
  },
  {
   "cell_type": "code",
   "execution_count": 5,
   "id": "existing-victorian",
   "metadata": {},
   "outputs": [
    {
     "data": {
      "text/plain": [
       "200"
      ]
     },
     "execution_count": 5,
     "metadata": {},
     "output_type": "execute_result"
    }
   ],
   "source": [
    "amount(3, 1, 1, 2, 1, 1, 1, 0)"
   ]
  },
  {
   "cell_type": "code",
   "execution_count": null,
   "id": "imposed-politics",
   "metadata": {},
   "outputs": [
    {
     "name": "stdout",
     "output_type": "stream",
     "text": [
      "58\r"
     ]
    }
   ],
   "source": [
    "poss_amounts = []\n",
    "for pe1 in range(201):\n",
    "    print(pe1, end = '\\r')\n",
    "    for pe2 in range(101):\n",
    "        for pe5 in range(51):\n",
    "            for pe10 in range(21):\n",
    "                for pe20 in range(11):\n",
    "                    for pe50 in range(5):\n",
    "                        for po1 in range(3):\n",
    "                            for po2 in range(2):\n",
    "                                poss_amounts += [amount(pe1, pe2, pe5, pe10, pe20, pe50, po1, po2)]"
   ]
  },
  {
   "cell_type": "code",
   "execution_count": 8,
   "id": "ideal-savannah",
   "metadata": {},
   "outputs": [
    {
     "data": {
      "text/plain": [
       "7174982430"
      ]
     },
     "execution_count": 8,
     "metadata": {},
     "output_type": "execute_result"
    }
   ],
   "source": [
    "201 * 101 * 51 * 21 * 11 * 5 * 3 * 2"
   ]
  },
  {
   "cell_type": "code",
   "execution_count": null,
   "id": "alleged-sample",
   "metadata": {},
   "outputs": [],
   "source": [
    "import matplotlib.pyplot as plt"
   ]
  },
  {
   "cell_type": "code",
   "execution_count": 15,
   "id": "contrary-accountability",
   "metadata": {},
   "outputs": [
    {
     "name": "stdout",
     "output_type": "stream",
     "text": [
      "21\r"
     ]
    },
    {
     "ename": "KeyboardInterrupt",
     "evalue": "",
     "output_type": "error",
     "traceback": [
      "\u001b[0;31m---------------------------------------------------------------------------\u001b[0m",
      "\u001b[0;31mKeyboardInterrupt\u001b[0m                         Traceback (most recent call last)",
      "\u001b[0;32m<ipython-input-15-d353d1fa8481>\u001b[0m in \u001b[0;36m<module>\u001b[0;34m\u001b[0m\n\u001b[1;32m      8\u001b[0m                     \u001b[0;32mfor\u001b[0m \u001b[0mpe50\u001b[0m \u001b[0;32min\u001b[0m \u001b[0mrange\u001b[0m\u001b[0;34m(\u001b[0m\u001b[0;36m3\u001b[0m\u001b[0;34m)\u001b[0m\u001b[0;34m:\u001b[0m\u001b[0;34m\u001b[0m\u001b[0;34m\u001b[0m\u001b[0m\n\u001b[1;32m      9\u001b[0m                         \u001b[0;32mfor\u001b[0m \u001b[0mpo1\u001b[0m \u001b[0;32min\u001b[0m \u001b[0mrange\u001b[0m\u001b[0;34m(\u001b[0m\u001b[0;36m2\u001b[0m\u001b[0;34m)\u001b[0m\u001b[0;34m:\u001b[0m\u001b[0;34m\u001b[0m\u001b[0;34m\u001b[0m\u001b[0m\n\u001b[0;32m---> 10\u001b[0;31m                             \u001b[0mposs_amounts\u001b[0m \u001b[0;34m+=\u001b[0m \u001b[0;34m[\u001b[0m\u001b[0mamount\u001b[0m\u001b[0;34m(\u001b[0m\u001b[0mpe1\u001b[0m\u001b[0;34m,\u001b[0m \u001b[0mpe2\u001b[0m\u001b[0;34m,\u001b[0m \u001b[0mpe5\u001b[0m\u001b[0;34m,\u001b[0m \u001b[0mpe10\u001b[0m\u001b[0;34m,\u001b[0m \u001b[0mpe20\u001b[0m\u001b[0;34m,\u001b[0m \u001b[0mpe50\u001b[0m\u001b[0;34m,\u001b[0m \u001b[0mpo1\u001b[0m\u001b[0;34m,\u001b[0m \u001b[0;36m0\u001b[0m\u001b[0;34m)\u001b[0m\u001b[0;34m]\u001b[0m\u001b[0;34m\u001b[0m\u001b[0;34m\u001b[0m\u001b[0m\n\u001b[0m",
      "\u001b[0;32m<ipython-input-1-212a155d771d>\u001b[0m in \u001b[0;36mamount\u001b[0;34m(pe1, pe2, pe5, pe10, pe20, pe50, po1, po2)\u001b[0m\n\u001b[1;32m      1\u001b[0m \u001b[0;32mdef\u001b[0m \u001b[0mamount\u001b[0m\u001b[0;34m(\u001b[0m\u001b[0mpe1\u001b[0m\u001b[0;34m,\u001b[0m \u001b[0mpe2\u001b[0m\u001b[0;34m,\u001b[0m \u001b[0mpe5\u001b[0m\u001b[0;34m,\u001b[0m \u001b[0mpe10\u001b[0m\u001b[0;34m,\u001b[0m \u001b[0mpe20\u001b[0m\u001b[0;34m,\u001b[0m \u001b[0mpe50\u001b[0m\u001b[0;34m,\u001b[0m \u001b[0mpo1\u001b[0m\u001b[0;34m,\u001b[0m \u001b[0mpo2\u001b[0m\u001b[0;34m)\u001b[0m\u001b[0;34m:\u001b[0m\u001b[0;34m\u001b[0m\u001b[0;34m\u001b[0m\u001b[0m\n\u001b[0;32m----> 2\u001b[0;31m     \u001b[0;32mreturn\u001b[0m \u001b[0;36m1\u001b[0m \u001b[0;34m*\u001b[0m \u001b[0mpe1\u001b[0m \u001b[0;34m+\u001b[0m \u001b[0;36m2\u001b[0m \u001b[0;34m*\u001b[0m \u001b[0mpe2\u001b[0m \u001b[0;34m+\u001b[0m \u001b[0;36m5\u001b[0m \u001b[0;34m*\u001b[0m \u001b[0mpe5\u001b[0m \u001b[0;34m+\u001b[0m \u001b[0;36m10\u001b[0m \u001b[0;34m*\u001b[0m \u001b[0mpe10\u001b[0m \u001b[0;34m+\u001b[0m \u001b[0;36m20\u001b[0m \u001b[0;34m*\u001b[0m \u001b[0mpe20\u001b[0m \u001b[0;34m+\u001b[0m\u001b[0;36m50\u001b[0m \u001b[0;34m*\u001b[0m \u001b[0mpe50\u001b[0m \u001b[0;34m+\u001b[0m \u001b[0;36m100\u001b[0m \u001b[0;34m*\u001b[0m \u001b[0mpo1\u001b[0m \u001b[0;34m+\u001b[0m \u001b[0;36m200\u001b[0m \u001b[0;34m*\u001b[0m \u001b[0mpo2\u001b[0m\u001b[0;34m\u001b[0m\u001b[0;34m\u001b[0m\u001b[0m\n\u001b[0m",
      "\u001b[0;31mKeyboardInterrupt\u001b[0m: "
     ]
    }
   ],
   "source": [
    "poss_amounts = []\n",
    "for pe1 in range(101):\n",
    "    print(pe1, end = '\\r')\n",
    "    for pe2 in range(51):\n",
    "        for pe5 in range(21):\n",
    "            for pe10 in range(11):\n",
    "                for pe20 in range(5):\n",
    "                    for pe50 in range(3):\n",
    "                        for po1 in range(2):\n",
    "                            poss_amounts += [amount(pe1, pe2, pe5, pe10, pe20, pe50, po1, 0)]"
   ]
  },
  {
   "cell_type": "code",
   "execution_count": 2,
   "id": "growing-indonesia",
   "metadata": {},
   "outputs": [
    {
     "data": {
      "text/plain": [
       "35696430"
      ]
     },
     "execution_count": 2,
     "metadata": {},
     "output_type": "execute_result"
    }
   ],
   "source": [
    "101 * 51 * 21 * 11 * 5 * 3 * 2"
   ]
  },
  {
   "cell_type": "code",
   "execution_count": 4,
   "id": "sealed-interaction",
   "metadata": {},
   "outputs": [],
   "source": [
    "import matplotlib.pyplot as plt"
   ]
  },
  {
   "cell_type": "code",
   "execution_count": 6,
   "id": "bizarre-marsh",
   "metadata": {},
   "outputs": [
    {
     "data": {
      "text/plain": [
       "[<matplotlib.lines.Line2D at 0x106f44280>]"
      ]
     },
     "execution_count": 6,
     "metadata": {},
     "output_type": "execute_result"
    },
    {
     "data": {
      "image/png": "[encoded data removed]",
      "text/plain": [
       "<Figure size 432x288 with 1 Axes>"
      ]
     },
     "metadata": {
      "needs_background": "light"
     },
     "output_type": "display_data"
    }
   ],
   "source": [
    "plt.plot(poss_amounts, ',')"
   ]
  },
  {
   "cell_type": "code",
   "execution_count": 7,
   "id": "unexpected-liabilities",
   "metadata": {},
   "outputs": [],
   "source": [
    "import numpy as np"
   ]
  },
  {
   "cell_type": "code",
   "execution_count": 11,
   "id": "phantom-spotlight",
   "metadata": {},
   "outputs": [],
   "source": [
    "poss_arr = np.array(poss_amounts)"
   ]
  },
  {
   "cell_type": "code",
   "execution_count": 13,
   "id": "uniform-orbit",
   "metadata": {},
   "outputs": [
    {
     "data": {
      "text/plain": [
       "(4562,)"
      ]
     },
     "execution_count": 13,
     "metadata": {},
     "output_type": "execute_result"
    }
   ],
   "source": [
    "poss_arr[poss_arr == 100].shape"
   ]
  },
  {
   "cell_type": "code",
   "execution_count": 14,
   "id": "swiss-endorsement",
   "metadata": {},
   "outputs": [
    {
     "data": {
      "text/plain": [
       "20816407"
      ]
     },
     "execution_count": 14,
     "metadata": {},
     "output_type": "execute_result"
    }
   ],
   "source": [
    "4562 * 4563 + 1"
   ]
  },
  {
   "cell_type": "code",
   "execution_count": null,
   "id": "fifty-chapter",
   "metadata": {},
   "outputs": [],
   "source": []
  }
 ],
 "metadata": {
  "kernelspec": {
   "display_name": "Python 3",
   "language": "python",
   "name": "python3"
  },
  "language_info": {
   "codemirror_mode": {
    "name": "ipython",
    "version": 3
   },
   "file_extension": ".py",
   "mimetype": "text/x-python",
   "name": "python",
   "nbconvert_exporter": "python",
   "pygments_lexer": "ipython3",
   "version": "3.8.6"
  }
 },
 "nbformat": 4,
 "nbformat_minor": 5
}
