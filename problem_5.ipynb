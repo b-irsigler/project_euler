{
 "cells": [
  {
   "cell_type": "code",
   "execution_count": null,
   "id": "noticed-bosnia",
   "metadata": {},
   "outputs": [],
   "source": [
    "\"\"\"\n",
    "\n",
    "\n",
    "2520 is the smallest number that can be divided by each of the numbers from 1 to 10 without \n",
    "any remainder.\n",
    "\n",
    "What is the smallest positive number that is evenly divisible by all of the numbers from 1 to 20?\n",
    "\n",
    "\"\"\""
   ]
  },
  {
   "cell_type": "code",
   "execution_count": 25,
   "id": "national-shower",
   "metadata": {},
   "outputs": [],
   "source": [
    "from copy import copy"
   ]
  },
  {
   "cell_type": "code",
   "execution_count": 10,
   "id": "challenging-subdivision",
   "metadata": {},
   "outputs": [],
   "source": [
    "def prime_factor(number):\n",
    "    assert number > 0\n",
    "    if number == 1:\n",
    "        return []\n",
    "    else:\n",
    "        for i in range(2, number+1):\n",
    "            if number % i == 0:\n",
    "                number = int(number / i)\n",
    "                return prime_factor(number) + [i]\n",
    "        return [2]"
   ]
  },
  {
   "cell_type": "code",
   "execution_count": 33,
   "id": "saved-junction",
   "metadata": {},
   "outputs": [
    {
     "data": {
      "text/plain": [
       "[7, 5, 3, 3, 2, 2, 2]"
      ]
     },
     "execution_count": 33,
     "metadata": {},
     "output_type": "execute_result"
    }
   ],
   "source": [
    "prime_factor(2520)"
   ]
  },
  {
   "cell_type": "code",
   "execution_count": 36,
   "id": "technical-description",
   "metadata": {},
   "outputs": [],
   "source": [
    "def smallest_div(number):\n",
    "    smallest_divisible_prime_factors = []\n",
    "    for i in range(2, number + 1):\n",
    "        factors = prime_factor(i)\n",
    "        temp = copy(smallest_divisible_prime_factors)\n",
    "        for elem in factors:\n",
    "            if elem in temp:\n",
    "                temp.remove(elem)\n",
    "            else:\n",
    "                smallest_divisible_prime_factors += [elem]\n",
    "    return smallest_divisible_prime_factors"
   ]
  },
  {
   "cell_type": "code",
   "execution_count": 37,
   "id": "eight-judge",
   "metadata": {},
   "outputs": [
    {
     "data": {
      "text/plain": [
       "[2, 3, 2, 5, 7, 2, 3]"
      ]
     },
     "execution_count": 37,
     "metadata": {},
     "output_type": "execute_result"
    }
   ],
   "source": [
    "smallest_div(10)"
   ]
  },
  {
   "cell_type": "code",
   "execution_count": 39,
   "id": "stuffed-dimension",
   "metadata": {},
   "outputs": [],
   "source": [
    "res_20 = smallest_div(20)"
   ]
  },
  {
   "cell_type": "code",
   "execution_count": 40,
   "id": "worldwide-intervention",
   "metadata": {},
   "outputs": [],
   "source": [
    "res = 1\n",
    "for elem in res_20:\n",
    "    res *= elem"
   ]
  },
  {
   "cell_type": "code",
   "execution_count": 48,
   "id": "exotic-crowd",
   "metadata": {},
   "outputs": [
    {
     "data": {
      "text/plain": [
       "15519504.0"
      ]
     },
     "execution_count": 48,
     "metadata": {},
     "output_type": "execute_result"
    }
   ],
   "source": [
    "res/15"
   ]
  },
  {
   "cell_type": "code",
   "execution_count": 51,
   "id": "unnecessary-vancouver",
   "metadata": {},
   "outputs": [
    {
     "name": "stdout",
     "output_type": "stream",
     "text": [
      "2 2\n",
      "3 6\n",
      "4 12\n",
      "5 60\n",
      "6 60\n",
      "7 420\n",
      "8 840\n",
      "9 2520\n",
      "10 2520\n",
      "11 27720\n",
      "12 27720\n",
      "13 360360\n",
      "14 360360\n",
      "15 360360\n",
      "16 720720\n",
      "17 12252240\n",
      "18 12252240\n",
      "19 232792560\n"
     ]
    }
   ],
   "source": [
    "from math import prod\n",
    "for i in range(2,20):\n",
    "    print(i, prod(smallest_div(i)))"
   ]
  },
  {
   "cell_type": "code",
   "execution_count": null,
   "id": "cooperative-childhood",
   "metadata": {},
   "outputs": [],
   "source": []
  }
 ],
 "metadata": {
  "kernelspec": {
   "display_name": "Python 3",
   "language": "python",
   "name": "python3"
  },
  "language_info": {
   "codemirror_mode": {
    "name": "ipython",
    "version": 3
   },
   "file_extension": ".py",
   "mimetype": "text/x-python",
   "name": "python",
   "nbconvert_exporter": "python",
   "pygments_lexer": "ipython3",
   "version": "3.9.1"
  }
 },
 "nbformat": 4,
 "nbformat_minor": 5
}
