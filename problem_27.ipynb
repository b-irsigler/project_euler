{
 "cells": [
  {
   "cell_type": "code",
   "execution_count": null,
   "id": "utility-bread",
   "metadata": {},
   "outputs": [],
   "source": [
    "\"\"\"\n",
    "Euler discovered the remarkable quadratic formula:\n",
    "\n",
    "It turns out that the formula will produce 40 primes for the consecutive integer values \n",
    ". However, when is divisible by 41, and certainly when\n",
    "\n",
    "is clearly divisible by 41.\n",
    "\n",
    "The incredible formula\n",
    "was discovered, which produces 80 primes for the consecutive values\n",
    "\n",
    ". The product of the coefficients, −79 and 1601, is −126479.\n",
    "\n",
    "Considering quadratics of the form:\n",
    "\n",
    ", where and\n",
    "\n",
    "where\n",
    "is the modulus/absolute value of\n",
    "e.g. and\n",
    "\n",
    "Find the product of the coefficients,\n",
    "and , for the quadratic expression that produces the maximum number of primes for \n",
    "consecutive values of , starting with .\n",
    "\"\"\""
   ]
  },
  {
   "cell_type": "code",
   "execution_count": 47,
   "id": "interstate-stuart",
   "metadata": {},
   "outputs": [],
   "source": [
    "def prime_factors(number):\n",
    "    if number == 1:\n",
    "        return []\n",
    "    else:\n",
    "        for i in range(2, number // 2 + 1):\n",
    "            if number % i == 0:\n",
    "                return [i] + prime_factors(number // i)\n",
    "        return [number]"
   ]
  },
  {
   "cell_type": "code",
   "execution_count": 48,
   "id": "electric-processing",
   "metadata": {},
   "outputs": [
    {
     "data": {
      "text/plain": [
       "[3, 11, 31]"
      ]
     },
     "execution_count": 48,
     "metadata": {},
     "output_type": "execute_result"
    }
   ],
   "source": [
    "prime_factors(1023)"
   ]
  },
  {
   "cell_type": "code",
   "execution_count": 50,
   "id": "conscious-developer",
   "metadata": {},
   "outputs": [],
   "source": [
    "def is_prime(number):\n",
    "    number = prime_factors(number)\n",
    "    number = len(number)\n",
    "    number = number == 1\n",
    "    return number"
   ]
  },
  {
   "cell_type": "code",
   "execution_count": 55,
   "id": "guided-librarian",
   "metadata": {},
   "outputs": [
    {
     "data": {
      "text/plain": [
       "False"
      ]
     },
     "execution_count": 55,
     "metadata": {},
     "output_type": "execute_result"
    }
   ],
   "source": [
    "is_prime(6)"
   ]
  },
  {
   "cell_type": "code",
   "execution_count": 56,
   "id": "entire-cradle",
   "metadata": {},
   "outputs": [],
   "source": [
    "def quadratic_formula(n, a, b):\n",
    "    return n ** 2 + a * n + b"
   ]
  },
  {
   "cell_type": "code",
   "execution_count": 59,
   "id": "thirty-begin",
   "metadata": {},
   "outputs": [
    {
     "name": "stdout",
     "output_type": "stream",
     "text": [
      "n = 0: 41 is prime is True\n",
      "n = 1: 43 is prime is True\n",
      "n = 2: 47 is prime is True\n",
      "n = 3: 53 is prime is True\n",
      "n = 4: 61 is prime is True\n",
      "n = 5: 71 is prime is True\n",
      "n = 6: 83 is prime is True\n",
      "n = 7: 97 is prime is True\n",
      "n = 8: 113 is prime is True\n",
      "n = 9: 131 is prime is True\n",
      "n = 10: 151 is prime is True\n",
      "n = 11: 173 is prime is True\n",
      "n = 12: 197 is prime is True\n",
      "n = 13: 223 is prime is True\n",
      "n = 14: 251 is prime is True\n",
      "n = 15: 281 is prime is True\n",
      "n = 16: 313 is prime is True\n",
      "n = 17: 347 is prime is True\n",
      "n = 18: 383 is prime is True\n",
      "n = 19: 421 is prime is True\n",
      "n = 20: 461 is prime is True\n",
      "n = 21: 503 is prime is True\n",
      "n = 22: 547 is prime is True\n",
      "n = 23: 593 is prime is True\n",
      "n = 24: 641 is prime is True\n",
      "n = 25: 691 is prime is True\n",
      "n = 26: 743 is prime is True\n",
      "n = 27: 797 is prime is True\n",
      "n = 28: 853 is prime is True\n",
      "n = 29: 911 is prime is True\n",
      "n = 30: 971 is prime is True\n",
      "n = 31: 1033 is prime is True\n",
      "n = 32: 1097 is prime is True\n",
      "n = 33: 1163 is prime is True\n",
      "n = 34: 1231 is prime is True\n",
      "n = 35: 1301 is prime is True\n",
      "n = 36: 1373 is prime is True\n",
      "n = 37: 1447 is prime is True\n",
      "n = 38: 1523 is prime is True\n",
      "n = 39: 1601 is prime is True\n"
     ]
    }
   ],
   "source": [
    "for n in range(0, 40):\n",
    "    number = quadratic_formula(n, 1, 41)\n",
    "    print(f'n = {n}: {number} is prime is {is_prime(number)}')"
   ]
  },
  {
   "cell_type": "code",
   "execution_count": 60,
   "id": "small-assault",
   "metadata": {},
   "outputs": [
    {
     "name": "stdout",
     "output_type": "stream",
     "text": [
      "n = 0: 1601 is prime is True\n",
      "n = 1: 1523 is prime is True\n",
      "n = 2: 1447 is prime is True\n",
      "n = 3: 1373 is prime is True\n",
      "n = 4: 1301 is prime is True\n",
      "n = 5: 1231 is prime is True\n",
      "n = 6: 1163 is prime is True\n",
      "n = 7: 1097 is prime is True\n",
      "n = 8: 1033 is prime is True\n",
      "n = 9: 971 is prime is True\n",
      "n = 10: 911 is prime is True\n",
      "n = 11: 853 is prime is True\n",
      "n = 12: 797 is prime is True\n",
      "n = 13: 743 is prime is True\n",
      "n = 14: 691 is prime is True\n",
      "n = 15: 641 is prime is True\n",
      "n = 16: 593 is prime is True\n",
      "n = 17: 547 is prime is True\n",
      "n = 18: 503 is prime is True\n",
      "n = 19: 461 is prime is True\n",
      "n = 20: 421 is prime is True\n",
      "n = 21: 383 is prime is True\n",
      "n = 22: 347 is prime is True\n",
      "n = 23: 313 is prime is True\n",
      "n = 24: 281 is prime is True\n",
      "n = 25: 251 is prime is True\n",
      "n = 26: 223 is prime is True\n",
      "n = 27: 197 is prime is True\n",
      "n = 28: 173 is prime is True\n",
      "n = 29: 151 is prime is True\n",
      "n = 30: 131 is prime is True\n",
      "n = 31: 113 is prime is True\n",
      "n = 32: 97 is prime is True\n",
      "n = 33: 83 is prime is True\n",
      "n = 34: 71 is prime is True\n",
      "n = 35: 61 is prime is True\n",
      "n = 36: 53 is prime is True\n",
      "n = 37: 47 is prime is True\n",
      "n = 38: 43 is prime is True\n",
      "n = 39: 41 is prime is True\n",
      "n = 40: 41 is prime is True\n",
      "n = 41: 43 is prime is True\n",
      "n = 42: 47 is prime is True\n",
      "n = 43: 53 is prime is True\n",
      "n = 44: 61 is prime is True\n",
      "n = 45: 71 is prime is True\n",
      "n = 46: 83 is prime is True\n",
      "n = 47: 97 is prime is True\n",
      "n = 48: 113 is prime is True\n",
      "n = 49: 131 is prime is True\n",
      "n = 50: 151 is prime is True\n",
      "n = 51: 173 is prime is True\n",
      "n = 52: 197 is prime is True\n",
      "n = 53: 223 is prime is True\n",
      "n = 54: 251 is prime is True\n",
      "n = 55: 281 is prime is True\n",
      "n = 56: 313 is prime is True\n",
      "n = 57: 347 is prime is True\n",
      "n = 58: 383 is prime is True\n",
      "n = 59: 421 is prime is True\n",
      "n = 60: 461 is prime is True\n",
      "n = 61: 503 is prime is True\n",
      "n = 62: 547 is prime is True\n",
      "n = 63: 593 is prime is True\n",
      "n = 64: 641 is prime is True\n",
      "n = 65: 691 is prime is True\n",
      "n = 66: 743 is prime is True\n",
      "n = 67: 797 is prime is True\n",
      "n = 68: 853 is prime is True\n",
      "n = 69: 911 is prime is True\n",
      "n = 70: 971 is prime is True\n",
      "n = 71: 1033 is prime is True\n",
      "n = 72: 1097 is prime is True\n",
      "n = 73: 1163 is prime is True\n",
      "n = 74: 1231 is prime is True\n",
      "n = 75: 1301 is prime is True\n",
      "n = 76: 1373 is prime is True\n",
      "n = 77: 1447 is prime is True\n",
      "n = 78: 1523 is prime is True\n",
      "n = 79: 1601 is prime is True\n"
     ]
    }
   ],
   "source": [
    "for n in range(0, 80):\n",
    "    number = quadratic_formula(n, -79, 1601)\n",
    "    print(f'n = {n}: {number} is prime is {is_prime(number)}')"
   ]
  },
  {
   "cell_type": "code",
   "execution_count": 61,
   "id": "fantastic-message",
   "metadata": {},
   "outputs": [],
   "source": [
    "def consecutive_primes(a, b):\n",
    "    n = 0\n",
    "    while True:\n",
    "        number = quadratic_formula(n, a, b)\n",
    "        if not is_prime(number):\n",
    "            return n\n",
    "        else:\n",
    "            n += 1"
   ]
  },
  {
   "cell_type": "code",
   "execution_count": 63,
   "id": "continued-bonus",
   "metadata": {},
   "outputs": [
    {
     "data": {
      "text/plain": [
       "80"
      ]
     },
     "execution_count": 63,
     "metadata": {},
     "output_type": "execute_result"
    }
   ],
   "source": [
    "consecutive_primes(-79, 1601)"
   ]
  },
  {
   "cell_type": "code",
   "execution_count": 64,
   "id": "premier-better",
   "metadata": {},
   "outputs": [],
   "source": [
    "import numpy as np"
   ]
  },
  {
   "cell_type": "code",
   "execution_count": 65,
   "id": "controlling-workplace",
   "metadata": {},
   "outputs": [],
   "source": [
    "cut_off = 1000"
   ]
  },
  {
   "cell_type": "code",
   "execution_count": 68,
   "id": "accessible-soldier",
   "metadata": {},
   "outputs": [
    {
     "name": "stdout",
     "output_type": "stream",
     "text": [
      "4000000\r"
     ]
    }
   ],
   "source": [
    "res_arr = np.zeros((2 * cut_off + 1, 2 * cut_off + 1))\n",
    "m = 0\n",
    "for i, a in enumerate(np.arange(-cut_off, cut_off + 1)):\n",
    "    for j, b in enumerate(np.arange(-cut_off, cut_off + 1)):\n",
    "        if m % 10000 == 0:\n",
    "            print(m, end = '\\r')\n",
    "        m += 1\n",
    "        res_arr[i, j] = consecutive_primes(a, b)"
   ]
  },
  {
   "cell_type": "code",
   "execution_count": 69,
   "id": "precise-vinyl",
   "metadata": {},
   "outputs": [],
   "source": [
    "import matplotlib.pyplot as plt"
   ]
  },
  {
   "cell_type": "code",
   "execution_count": 119,
   "id": "piano-caribbean",
   "metadata": {},
   "outputs": [
    {
     "data": {
      "text/plain": [
       "<matplotlib.colorbar.Colorbar at 0x135154040>"
      ]
     },
     "execution_count": 119,
     "metadata": {},
     "output_type": "execute_result"
    },
    {
     "data": {
      "image/png": "[encoded data removed]",
      "text/plain": [
       "<Figure size 432x288 with 2 Axes>"
      ]
     },
     "metadata": {
      "needs_background": "light"
     },
     "output_type": "display_data"
    }
   ],
   "source": [
    "plt.imshow(res_arr[1000:2000, 0:1000], cmap = 'flag')\n",
    "plt.colorbar()"
   ]
  },
  {
   "cell_type": "code",
   "execution_count": 101,
   "id": "injured-engineering",
   "metadata": {},
   "outputs": [
    {
     "data": {
      "text/plain": [
       "[<matplotlib.lines.Line2D at 0x1346bca90>]"
      ]
     },
     "execution_count": 101,
     "metadata": {},
     "output_type": "execute_result"
    },
    {
     "data": {
      "image/png": "[encoded data removed]",
      "text/plain": [
       "<Figure size 432x288 with 1 Axes>"
      ]
     },
     "metadata": {
      "needs_background": "light"
     },
     "output_type": "display_data"
    }
   ],
   "source": [
    "plt.plot(np.sort(res_arr.flatten()))\n"
   ]
  },
  {
   "cell_type": "code",
   "execution_count": 104,
   "id": "similar-surge",
   "metadata": {},
   "outputs": [
    {
     "data": {
      "text/plain": [
       "array([1003., 1003., 1004., 1004., 1004., 1005., 1005., 1005., 1010.,\n",
       "       1011.])"
      ]
     },
     "execution_count": 104,
     "metadata": {},
     "output_type": "execute_result"
    }
   ],
   "source": [
    "np.sort(res_arr.flatten())[-10:]"
   ]
  },
  {
   "cell_type": "code",
   "execution_count": 83,
   "id": "brutal-basis",
   "metadata": {},
   "outputs": [
    {
     "data": {
      "text/plain": [
       "1061"
      ]
     },
     "execution_count": 83,
     "metadata": {},
     "output_type": "execute_result"
    }
   ],
   "source": [
    "np.argmax(np.max(res_arr, axis = 0))"
   ]
  },
  {
   "cell_type": "code",
   "execution_count": 84,
   "id": "banner-yeast",
   "metadata": {},
   "outputs": [
    {
     "data": {
      "text/plain": [
       "1"
      ]
     },
     "execution_count": 84,
     "metadata": {},
     "output_type": "execute_result"
    }
   ],
   "source": [
    "np.argmax(np.max(res_arr, axis = 1))"
   ]
  },
  {
   "cell_type": "code",
   "execution_count": 87,
   "id": "favorite-barrel",
   "metadata": {},
   "outputs": [
    {
     "data": {
      "text/plain": [
       "1011.0"
      ]
     },
     "execution_count": 87,
     "metadata": {},
     "output_type": "execute_result"
    }
   ],
   "source": [
    "res_arr[1, 1061]"
   ]
  },
  {
   "cell_type": "code",
   "execution_count": 88,
   "id": "cellular-sunday",
   "metadata": {},
   "outputs": [
    {
     "data": {
      "text/plain": [
       "1011.0"
      ]
     },
     "execution_count": 88,
     "metadata": {},
     "output_type": "execute_result"
    }
   ],
   "source": [
    "np.max(res_arr)"
   ]
  },
  {
   "cell_type": "code",
   "execution_count": 94,
   "id": "administrative-gothic",
   "metadata": {},
   "outputs": [
    {
     "data": {
      "text/plain": [
       "-999"
      ]
     },
     "execution_count": 94,
     "metadata": {},
     "output_type": "execute_result"
    }
   ],
   "source": [
    "np.arange(-cut_off, cut_off + 1)[1]"
   ]
  },
  {
   "cell_type": "code",
   "execution_count": 95,
   "id": "pleasant-cement",
   "metadata": {},
   "outputs": [
    {
     "data": {
      "text/plain": [
       "61"
      ]
     },
     "execution_count": 95,
     "metadata": {},
     "output_type": "execute_result"
    }
   ],
   "source": [
    "np.arange(-cut_off, cut_off + 1)[1061]"
   ]
  },
  {
   "cell_type": "code",
   "execution_count": 96,
   "id": "amateur-wrist",
   "metadata": {},
   "outputs": [
    {
     "data": {
      "text/plain": [
       "-60939"
      ]
     },
     "execution_count": 96,
     "metadata": {},
     "output_type": "execute_result"
    }
   ],
   "source": [
    "-999 * 61"
   ]
  },
  {
   "cell_type": "code",
   "execution_count": 97,
   "id": "vital-nursing",
   "metadata": {},
   "outputs": [
    {
     "data": {
      "text/plain": [
       "1011"
      ]
     },
     "execution_count": 97,
     "metadata": {},
     "output_type": "execute_result"
    }
   ],
   "source": [
    "consecutive_primes(-999, 61)"
   ]
  },
  {
   "cell_type": "code",
   "execution_count": 105,
   "id": "generous-looking",
   "metadata": {},
   "outputs": [
    {
     "name": "stdout",
     "output_type": "stream",
     "text": [
      "n = 0: 61 is prime is True\n",
      "n = 1: -937 is prime is True\n",
      "n = 2: -1933 is prime is True\n",
      "n = 3: -2927 is prime is True\n",
      "n = 4: -3919 is prime is True\n",
      "n = 5: -4909 is prime is True\n",
      "n = 6: -5897 is prime is True\n",
      "n = 7: -6883 is prime is True\n",
      "n = 8: -7867 is prime is True\n",
      "n = 9: -8849 is prime is True\n",
      "n = 10: -9829 is prime is True\n",
      "n = 11: -10807 is prime is True\n",
      "n = 12: -11783 is prime is True\n",
      "n = 13: -12757 is prime is True\n",
      "n = 14: -13729 is prime is True\n",
      "n = 15: -14699 is prime is True\n",
      "n = 16: -15667 is prime is True\n",
      "n = 17: -16633 is prime is True\n",
      "n = 18: -17597 is prime is True\n",
      "n = 19: -18559 is prime is True\n",
      "n = 20: -19519 is prime is True\n",
      "n = 21: -20477 is prime is True\n",
      "n = 22: -21433 is prime is True\n",
      "n = 23: -22387 is prime is True\n",
      "n = 24: -23339 is prime is True\n",
      "n = 25: -24289 is prime is True\n",
      "n = 26: -25237 is prime is True\n",
      "n = 27: -26183 is prime is True\n",
      "n = 28: -27127 is prime is True\n",
      "n = 29: -28069 is prime is True\n",
      "n = 30: -29009 is prime is True\n",
      "n = 31: -29947 is prime is True\n",
      "n = 32: -30883 is prime is True\n",
      "n = 33: -31817 is prime is True\n",
      "n = 34: -32749 is prime is True\n",
      "n = 35: -33679 is prime is True\n",
      "n = 36: -34607 is prime is True\n",
      "n = 37: -35533 is prime is True\n",
      "n = 38: -36457 is prime is True\n",
      "n = 39: -37379 is prime is True\n",
      "n = 40: -38299 is prime is True\n",
      "n = 41: -39217 is prime is True\n",
      "n = 42: -40133 is prime is True\n",
      "n = 43: -41047 is prime is True\n",
      "n = 44: -41959 is prime is True\n",
      "n = 45: -42869 is prime is True\n",
      "n = 46: -43777 is prime is True\n",
      "n = 47: -44683 is prime is True\n",
      "n = 48: -45587 is prime is True\n",
      "n = 49: -46489 is prime is True\n",
      "n = 50: -47389 is prime is True\n",
      "n = 51: -48287 is prime is True\n",
      "n = 52: -49183 is prime is True\n",
      "n = 53: -50077 is prime is True\n",
      "n = 54: -50969 is prime is True\n",
      "n = 55: -51859 is prime is True\n",
      "n = 56: -52747 is prime is True\n",
      "n = 57: -53633 is prime is True\n",
      "n = 58: -54517 is prime is True\n",
      "n = 59: -55399 is prime is True\n",
      "n = 60: -56279 is prime is True\n",
      "n = 61: -57157 is prime is True\n",
      "n = 62: -58033 is prime is True\n",
      "n = 63: -58907 is prime is True\n",
      "n = 64: -59779 is prime is True\n",
      "n = 65: -60649 is prime is True\n",
      "n = 66: -61517 is prime is True\n",
      "n = 67: -62383 is prime is True\n",
      "n = 68: -63247 is prime is True\n",
      "n = 69: -64109 is prime is True\n",
      "n = 70: -64969 is prime is True\n",
      "n = 71: -65827 is prime is True\n",
      "n = 72: -66683 is prime is True\n",
      "n = 73: -67537 is prime is True\n",
      "n = 74: -68389 is prime is True\n",
      "n = 75: -69239 is prime is True\n",
      "n = 76: -70087 is prime is True\n",
      "n = 77: -70933 is prime is True\n",
      "n = 78: -71777 is prime is True\n",
      "n = 79: -72619 is prime is True\n",
      "n = 80: -73459 is prime is True\n",
      "n = 81: -74297 is prime is True\n",
      "n = 82: -75133 is prime is True\n",
      "n = 83: -75967 is prime is True\n",
      "n = 84: -76799 is prime is True\n",
      "n = 85: -77629 is prime is True\n",
      "n = 86: -78457 is prime is True\n",
      "n = 87: -79283 is prime is True\n",
      "n = 88: -80107 is prime is True\n",
      "n = 89: -80929 is prime is True\n",
      "n = 90: -81749 is prime is True\n",
      "n = 91: -82567 is prime is True\n",
      "n = 92: -83383 is prime is True\n",
      "n = 93: -84197 is prime is True\n",
      "n = 94: -85009 is prime is True\n",
      "n = 95: -85819 is prime is True\n",
      "n = 96: -86627 is prime is True\n",
      "n = 97: -87433 is prime is True\n",
      "n = 98: -88237 is prime is True\n",
      "n = 99: -89039 is prime is True\n",
      "n = 100: -89839 is prime is True\n",
      "n = 101: -90637 is prime is True\n",
      "n = 102: -91433 is prime is True\n",
      "n = 103: -92227 is prime is True\n",
      "n = 104: -93019 is prime is True\n",
      "n = 105: -93809 is prime is True\n",
      "n = 106: -94597 is prime is True\n",
      "n = 107: -95383 is prime is True\n",
      "n = 108: -96167 is prime is True\n",
      "n = 109: -96949 is prime is True\n",
      "n = 110: -97729 is prime is True\n",
      "n = 111: -98507 is prime is True\n",
      "n = 112: -99283 is prime is True\n",
      "n = 113: -100057 is prime is True\n",
      "n = 114: -100829 is prime is True\n",
      "n = 115: -101599 is prime is True\n",
      "n = 116: -102367 is prime is True\n",
      "n = 117: -103133 is prime is True\n",
      "n = 118: -103897 is prime is True\n",
      "n = 119: -104659 is prime is True\n",
      "n = 120: -105419 is prime is True\n",
      "n = 121: -106177 is prime is True\n",
      "n = 122: -106933 is prime is True\n",
      "n = 123: -107687 is prime is True\n",
      "n = 124: -108439 is prime is True\n",
      "n = 125: -109189 is prime is True\n",
      "n = 126: -109937 is prime is True\n",
      "n = 127: -110683 is prime is True\n",
      "n = 128: -111427 is prime is True\n",
      "n = 129: -112169 is prime is True\n",
      "n = 130: -112909 is prime is True\n",
      "n = 131: -113647 is prime is True\n",
      "n = 132: -114383 is prime is True\n",
      "n = 133: -115117 is prime is True\n",
      "n = 134: -115849 is prime is True\n",
      "n = 135: -116579 is prime is True\n",
      "n = 136: -117307 is prime is True\n",
      "n = 137: -118033 is prime is True\n",
      "n = 138: -118757 is prime is True\n",
      "n = 139: -119479 is prime is True\n",
      "n = 140: -120199 is prime is True\n",
      "n = 141: -120917 is prime is True\n",
      "n = 142: -121633 is prime is True\n",
      "n = 143: -122347 is prime is True\n",
      "n = 144: -123059 is prime is True\n",
      "n = 145: -123769 is prime is True\n",
      "n = 146: -124477 is prime is True\n",
      "n = 147: -125183 is prime is True\n",
      "n = 148: -125887 is prime is True\n",
      "n = 149: -126589 is prime is True\n",
      "n = 150: -127289 is prime is True\n",
      "n = 151: -127987 is prime is True\n",
      "n = 152: -128683 is prime is True\n",
      "n = 153: -129377 is prime is True\n",
      "n = 154: -130069 is prime is True\n",
      "n = 155: -130759 is prime is True\n",
      "n = 156: -131447 is prime is True\n",
      "n = 157: -132133 is prime is True\n",
      "n = 158: -132817 is prime is True\n",
      "n = 159: -133499 is prime is True\n",
      "n = 160: -134179 is prime is True\n",
      "n = 161: -134857 is prime is True\n",
      "n = 162: -135533 is prime is True\n",
      "n = 163: -136207 is prime is True\n",
      "n = 164: -136879 is prime is True\n",
      "n = 165: -137549 is prime is True\n",
      "n = 166: -138217 is prime is True\n",
      "n = 167: -138883 is prime is True\n",
      "n = 168: -139547 is prime is True\n",
      "n = 169: -140209 is prime is True\n",
      "n = 170: -140869 is prime is True\n",
      "n = 171: -141527 is prime is True\n",
      "n = 172: -142183 is prime is True\n",
      "n = 173: -142837 is prime is True\n",
      "n = 174: -143489 is prime is True\n",
      "n = 175: -144139 is prime is True\n",
      "n = 176: -144787 is prime is True\n",
      "n = 177: -145433 is prime is True\n",
      "n = 178: -146077 is prime is True\n",
      "n = 179: -146719 is prime is True\n",
      "n = 180: -147359 is prime is True\n",
      "n = 181: -147997 is prime is True\n",
      "n = 182: -148633 is prime is True\n",
      "n = 183: -149267 is prime is True\n",
      "n = 184: -149899 is prime is True\n",
      "n = 185: -150529 is prime is True\n",
      "n = 186: -151157 is prime is True\n",
      "n = 187: -151783 is prime is True\n",
      "n = 188: -152407 is prime is True\n",
      "n = 189: -153029 is prime is True\n",
      "n = 190: -153649 is prime is True\n",
      "n = 191: -154267 is prime is True\n",
      "n = 192: -154883 is prime is True\n",
      "n = 193: -155497 is prime is True\n",
      "n = 194: -156109 is prime is True\n",
      "n = 195: -156719 is prime is True\n",
      "n = 196: -157327 is prime is True\n",
      "n = 197: -157933 is prime is True\n",
      "n = 198: -158537 is prime is True\n",
      "n = 199: -159139 is prime is True\n",
      "n = 200: -159739 is prime is True\n",
      "n = 201: -160337 is prime is True\n",
      "n = 202: -160933 is prime is True\n",
      "n = 203: -161527 is prime is True\n",
      "n = 204: -162119 is prime is True\n",
      "n = 205: -162709 is prime is True\n",
      "n = 206: -163297 is prime is True\n",
      "n = 207: -163883 is prime is True\n",
      "n = 208: -164467 is prime is True\n",
      "n = 209: -165049 is prime is True\n",
      "n = 210: -165629 is prime is True\n",
      "n = 211: -166207 is prime is True\n",
      "n = 212: -166783 is prime is True\n",
      "n = 213: -167357 is prime is True\n",
      "n = 214: -167929 is prime is True\n",
      "n = 215: -168499 is prime is True\n",
      "n = 216: -169067 is prime is True\n",
      "n = 217: -169633 is prime is True\n",
      "n = 218: -170197 is prime is True\n",
      "n = 219: -170759 is prime is True\n",
      "n = 220: -171319 is prime is True\n",
      "n = 221: -171877 is prime is True\n",
      "n = 222: -172433 is prime is True\n",
      "n = 223: -172987 is prime is True\n",
      "n = 224: -173539 is prime is True\n",
      "n = 225: -174089 is prime is True\n",
      "n = 226: -174637 is prime is True\n",
      "n = 227: -175183 is prime is True\n",
      "n = 228: -175727 is prime is True\n",
      "n = 229: -176269 is prime is True\n",
      "n = 230: -176809 is prime is True\n",
      "n = 231: -177347 is prime is True\n",
      "n = 232: -177883 is prime is True\n",
      "n = 233: -178417 is prime is True\n",
      "n = 234: -178949 is prime is True\n",
      "n = 235: -179479 is prime is True\n",
      "n = 236: -180007 is prime is True\n",
      "n = 237: -180533 is prime is True\n",
      "n = 238: -181057 is prime is True\n",
      "n = 239: -181579 is prime is True\n",
      "n = 240: -182099 is prime is True\n",
      "n = 241: -182617 is prime is True\n",
      "n = 242: -183133 is prime is True\n",
      "n = 243: -183647 is prime is True\n",
      "n = 244: -184159 is prime is True\n",
      "n = 245: -184669 is prime is True\n",
      "n = 246: -185177 is prime is True\n",
      "n = 247: -185683 is prime is True\n",
      "n = 248: -186187 is prime is True\n",
      "n = 249: -186689 is prime is True\n",
      "n = 250: -187189 is prime is True\n",
      "n = 251: -187687 is prime is True\n",
      "n = 252: -188183 is prime is True\n",
      "n = 253: -188677 is prime is True\n",
      "n = 254: -189169 is prime is True\n",
      "n = 255: -189659 is prime is True\n",
      "n = 256: -190147 is prime is True\n",
      "n = 257: -190633 is prime is True\n",
      "n = 258: -191117 is prime is True\n",
      "n = 259: -191599 is prime is True\n",
      "n = 260: -192079 is prime is True\n",
      "n = 261: -192557 is prime is True\n",
      "n = 262: -193033 is prime is True\n",
      "n = 263: -193507 is prime is True\n",
      "n = 264: -193979 is prime is True\n",
      "n = 265: -194449 is prime is True\n",
      "n = 266: -194917 is prime is True\n",
      "n = 267: -195383 is prime is True\n",
      "n = 268: -195847 is prime is True\n",
      "n = 269: -196309 is prime is True\n",
      "n = 270: -196769 is prime is True\n",
      "n = 271: -197227 is prime is True\n",
      "n = 272: -197683 is prime is True\n",
      "n = 273: -198137 is prime is True\n",
      "n = 274: -198589 is prime is True\n",
      "n = 275: -199039 is prime is True\n",
      "n = 276: -199487 is prime is True\n",
      "n = 277: -199933 is prime is True\n",
      "n = 278: -200377 is prime is True\n",
      "n = 279: -200819 is prime is True\n",
      "n = 280: -201259 is prime is True\n",
      "n = 281: -201697 is prime is True\n",
      "n = 282: -202133 is prime is True\n",
      "n = 283: -202567 is prime is True\n",
      "n = 284: -202999 is prime is True\n",
      "n = 285: -203429 is prime is True\n",
      "n = 286: -203857 is prime is True\n",
      "n = 287: -204283 is prime is True\n",
      "n = 288: -204707 is prime is True\n",
      "n = 289: -205129 is prime is True\n",
      "n = 290: -205549 is prime is True\n",
      "n = 291: -205967 is prime is True\n",
      "n = 292: -206383 is prime is True\n",
      "n = 293: -206797 is prime is True\n",
      "n = 294: -207209 is prime is True\n",
      "n = 295: -207619 is prime is True\n",
      "n = 296: -208027 is prime is True\n",
      "n = 297: -208433 is prime is True\n",
      "n = 298: -208837 is prime is True\n",
      "n = 299: -209239 is prime is True\n",
      "n = 300: -209639 is prime is True\n",
      "n = 301: -210037 is prime is True\n",
      "n = 302: -210433 is prime is True\n",
      "n = 303: -210827 is prime is True\n",
      "n = 304: -211219 is prime is True\n",
      "n = 305: -211609 is prime is True\n",
      "n = 306: -211997 is prime is True\n",
      "n = 307: -212383 is prime is True\n",
      "n = 308: -212767 is prime is True\n",
      "n = 309: -213149 is prime is True\n",
      "n = 310: -213529 is prime is True\n",
      "n = 311: -213907 is prime is True\n",
      "n = 312: -214283 is prime is True\n",
      "n = 313: -214657 is prime is True\n",
      "n = 314: -215029 is prime is True\n",
      "n = 315: -215399 is prime is True\n",
      "n = 316: -215767 is prime is True\n",
      "n = 317: -216133 is prime is True\n",
      "n = 318: -216497 is prime is True\n",
      "n = 319: -216859 is prime is True\n",
      "n = 320: -217219 is prime is True\n",
      "n = 321: -217577 is prime is True\n",
      "n = 322: -217933 is prime is True\n",
      "n = 323: -218287 is prime is True\n",
      "n = 324: -218639 is prime is True\n",
      "n = 325: -218989 is prime is True\n",
      "n = 326: -219337 is prime is True\n",
      "n = 327: -219683 is prime is True\n",
      "n = 328: -220027 is prime is True\n",
      "n = 329: -220369 is prime is True\n",
      "n = 330: -220709 is prime is True\n",
      "n = 331: -221047 is prime is True\n",
      "n = 332: -221383 is prime is True\n",
      "n = 333: -221717 is prime is True\n",
      "n = 334: -222049 is prime is True\n",
      "n = 335: -222379 is prime is True\n",
      "n = 336: -222707 is prime is True\n",
      "n = 337: -223033 is prime is True\n",
      "n = 338: -223357 is prime is True\n",
      "n = 339: -223679 is prime is True\n",
      "n = 340: -223999 is prime is True\n",
      "n = 341: -224317 is prime is True\n",
      "n = 342: -224633 is prime is True\n",
      "n = 343: -224947 is prime is True\n",
      "n = 344: -225259 is prime is True\n",
      "n = 345: -225569 is prime is True\n",
      "n = 346: -225877 is prime is True\n",
      "n = 347: -226183 is prime is True\n",
      "n = 348: -226487 is prime is True\n",
      "n = 349: -226789 is prime is True\n",
      "n = 350: -227089 is prime is True\n",
      "n = 351: -227387 is prime is True\n",
      "n = 352: -227683 is prime is True\n",
      "n = 353: -227977 is prime is True\n",
      "n = 354: -228269 is prime is True\n",
      "n = 355: -228559 is prime is True\n",
      "n = 356: -228847 is prime is True\n",
      "n = 357: -229133 is prime is True\n",
      "n = 358: -229417 is prime is True\n",
      "n = 359: -229699 is prime is True\n",
      "n = 360: -229979 is prime is True\n",
      "n = 361: -230257 is prime is True\n",
      "n = 362: -230533 is prime is True\n",
      "n = 363: -230807 is prime is True\n",
      "n = 364: -231079 is prime is True\n",
      "n = 365: -231349 is prime is True\n",
      "n = 366: -231617 is prime is True\n",
      "n = 367: -231883 is prime is True\n",
      "n = 368: -232147 is prime is True\n",
      "n = 369: -232409 is prime is True\n",
      "n = 370: -232669 is prime is True\n",
      "n = 371: -232927 is prime is True\n",
      "n = 372: -233183 is prime is True\n",
      "n = 373: -233437 is prime is True\n",
      "n = 374: -233689 is prime is True\n",
      "n = 375: -233939 is prime is True\n",
      "n = 376: -234187 is prime is True\n",
      "n = 377: -234433 is prime is True\n",
      "n = 378: -234677 is prime is True\n",
      "n = 379: -234919 is prime is True\n",
      "n = 380: -235159 is prime is True\n",
      "n = 381: -235397 is prime is True\n",
      "n = 382: -235633 is prime is True\n",
      "n = 383: -235867 is prime is True\n",
      "n = 384: -236099 is prime is True\n",
      "n = 385: -236329 is prime is True\n",
      "n = 386: -236557 is prime is True\n",
      "n = 387: -236783 is prime is True\n",
      "n = 388: -237007 is prime is True\n",
      "n = 389: -237229 is prime is True\n",
      "n = 390: -237449 is prime is True\n",
      "n = 391: -237667 is prime is True\n",
      "n = 392: -237883 is prime is True\n",
      "n = 393: -238097 is prime is True\n",
      "n = 394: -238309 is prime is True\n",
      "n = 395: -238519 is prime is True\n",
      "n = 396: -238727 is prime is True\n",
      "n = 397: -238933 is prime is True\n",
      "n = 398: -239137 is prime is True\n",
      "n = 399: -239339 is prime is True\n",
      "n = 400: -239539 is prime is True\n",
      "n = 401: -239737 is prime is True\n",
      "n = 402: -239933 is prime is True\n",
      "n = 403: -240127 is prime is True\n",
      "n = 404: -240319 is prime is True\n",
      "n = 405: -240509 is prime is True\n",
      "n = 406: -240697 is prime is True\n",
      "n = 407: -240883 is prime is True\n",
      "n = 408: -241067 is prime is True\n",
      "n = 409: -241249 is prime is True\n",
      "n = 410: -241429 is prime is True\n",
      "n = 411: -241607 is prime is True\n",
      "n = 412: -241783 is prime is True\n",
      "n = 413: -241957 is prime is True\n",
      "n = 414: -242129 is prime is True\n",
      "n = 415: -242299 is prime is True\n",
      "n = 416: -242467 is prime is True\n",
      "n = 417: -242633 is prime is True\n",
      "n = 418: -242797 is prime is True\n",
      "n = 419: -242959 is prime is True\n",
      "n = 420: -243119 is prime is True\n",
      "n = 421: -243277 is prime is True\n",
      "n = 422: -243433 is prime is True\n",
      "n = 423: -243587 is prime is True\n",
      "n = 424: -243739 is prime is True\n",
      "n = 425: -243889 is prime is True\n",
      "n = 426: -244037 is prime is True\n",
      "n = 427: -244183 is prime is True\n",
      "n = 428: -244327 is prime is True\n",
      "n = 429: -244469 is prime is True\n",
      "n = 430: -244609 is prime is True\n",
      "n = 431: -244747 is prime is True\n",
      "n = 432: -244883 is prime is True\n",
      "n = 433: -245017 is prime is True\n",
      "n = 434: -245149 is prime is True\n",
      "n = 435: -245279 is prime is True\n",
      "n = 436: -245407 is prime is True\n",
      "n = 437: -245533 is prime is True\n",
      "n = 438: -245657 is prime is True\n",
      "n = 439: -245779 is prime is True\n",
      "n = 440: -245899 is prime is True\n",
      "n = 441: -246017 is prime is True\n",
      "n = 442: -246133 is prime is True\n",
      "n = 443: -246247 is prime is True\n",
      "n = 444: -246359 is prime is True\n",
      "n = 445: -246469 is prime is True\n",
      "n = 446: -246577 is prime is True\n",
      "n = 447: -246683 is prime is True\n",
      "n = 448: -246787 is prime is True\n",
      "n = 449: -246889 is prime is True\n",
      "n = 450: -246989 is prime is True\n",
      "n = 451: -247087 is prime is True\n",
      "n = 452: -247183 is prime is True\n",
      "n = 453: -247277 is prime is True\n",
      "n = 454: -247369 is prime is True\n",
      "n = 455: -247459 is prime is True\n",
      "n = 456: -247547 is prime is True\n",
      "n = 457: -247633 is prime is True\n",
      "n = 458: -247717 is prime is True\n",
      "n = 459: -247799 is prime is True\n",
      "n = 460: -247879 is prime is True\n",
      "n = 461: -247957 is prime is True\n",
      "n = 462: -248033 is prime is True\n",
      "n = 463: -248107 is prime is True\n",
      "n = 464: -248179 is prime is True\n",
      "n = 465: -248249 is prime is True\n",
      "n = 466: -248317 is prime is True\n",
      "n = 467: -248383 is prime is True\n",
      "n = 468: -248447 is prime is True\n",
      "n = 469: -248509 is prime is True\n",
      "n = 470: -248569 is prime is True\n",
      "n = 471: -248627 is prime is True\n",
      "n = 472: -248683 is prime is True\n",
      "n = 473: -248737 is prime is True\n",
      "n = 474: -248789 is prime is True\n",
      "n = 475: -248839 is prime is True\n",
      "n = 476: -248887 is prime is True\n",
      "n = 477: -248933 is prime is True\n",
      "n = 478: -248977 is prime is True\n",
      "n = 479: -249019 is prime is True\n",
      "n = 480: -249059 is prime is True\n",
      "n = 481: -249097 is prime is True\n",
      "n = 482: -249133 is prime is True\n",
      "n = 483: -249167 is prime is True\n",
      "n = 484: -249199 is prime is True\n",
      "n = 485: -249229 is prime is True\n",
      "n = 486: -249257 is prime is True\n",
      "n = 487: -249283 is prime is True\n",
      "n = 488: -249307 is prime is True\n",
      "n = 489: -249329 is prime is True\n",
      "n = 490: -249349 is prime is True\n",
      "n = 491: -249367 is prime is True\n",
      "n = 492: -249383 is prime is True\n",
      "n = 493: -249397 is prime is True\n",
      "n = 494: -249409 is prime is True\n",
      "n = 495: -249419 is prime is True\n",
      "n = 496: -249427 is prime is True\n",
      "n = 497: -249433 is prime is True\n",
      "n = 498: -249437 is prime is True\n",
      "n = 499: -249439 is prime is True\n",
      "n = 500: -249439 is prime is True\n",
      "n = 501: -249437 is prime is True\n",
      "n = 502: -249433 is prime is True\n",
      "n = 503: -249427 is prime is True\n",
      "n = 504: -249419 is prime is True\n",
      "n = 505: -249409 is prime is True\n",
      "n = 506: -249397 is prime is True\n",
      "n = 507: -249383 is prime is True\n",
      "n = 508: -249367 is prime is True\n",
      "n = 509: -249349 is prime is True\n",
      "n = 510: -249329 is prime is True\n",
      "n = 511: -249307 is prime is True\n",
      "n = 512: -249283 is prime is True\n",
      "n = 513: -249257 is prime is True\n",
      "n = 514: -249229 is prime is True\n",
      "n = 515: -249199 is prime is True\n",
      "n = 516: -249167 is prime is True\n",
      "n = 517: -249133 is prime is True\n",
      "n = 518: -249097 is prime is True\n",
      "n = 519: -249059 is prime is True\n",
      "n = 520: -249019 is prime is True\n",
      "n = 521: -248977 is prime is True\n",
      "n = 522: -248933 is prime is True\n",
      "n = 523: -248887 is prime is True\n",
      "n = 524: -248839 is prime is True\n",
      "n = 525: -248789 is prime is True\n",
      "n = 526: -248737 is prime is True\n",
      "n = 527: -248683 is prime is True\n",
      "n = 528: -248627 is prime is True\n",
      "n = 529: -248569 is prime is True\n",
      "n = 530: -248509 is prime is True\n",
      "n = 531: -248447 is prime is True\n",
      "n = 532: -248383 is prime is True\n",
      "n = 533: -248317 is prime is True\n",
      "n = 534: -248249 is prime is True\n",
      "n = 535: -248179 is prime is True\n",
      "n = 536: -248107 is prime is True\n",
      "n = 537: -248033 is prime is True\n",
      "n = 538: -247957 is prime is True\n",
      "n = 539: -247879 is prime is True\n",
      "n = 540: -247799 is prime is True\n",
      "n = 541: -247717 is prime is True\n",
      "n = 542: -247633 is prime is True\n",
      "n = 543: -247547 is prime is True\n",
      "n = 544: -247459 is prime is True\n",
      "n = 545: -247369 is prime is True\n",
      "n = 546: -247277 is prime is True\n",
      "n = 547: -247183 is prime is True\n",
      "n = 548: -247087 is prime is True\n",
      "n = 549: -246989 is prime is True\n",
      "n = 550: -246889 is prime is True\n",
      "n = 551: -246787 is prime is True\n",
      "n = 552: -246683 is prime is True\n",
      "n = 553: -246577 is prime is True\n",
      "n = 554: -246469 is prime is True\n",
      "n = 555: -246359 is prime is True\n",
      "n = 556: -246247 is prime is True\n",
      "n = 557: -246133 is prime is True\n",
      "n = 558: -246017 is prime is True\n",
      "n = 559: -245899 is prime is True\n",
      "n = 560: -245779 is prime is True\n",
      "n = 561: -245657 is prime is True\n",
      "n = 562: -245533 is prime is True\n",
      "n = 563: -245407 is prime is True\n",
      "n = 564: -245279 is prime is True\n",
      "n = 565: -245149 is prime is True\n",
      "n = 566: -245017 is prime is True\n",
      "n = 567: -244883 is prime is True\n",
      "n = 568: -244747 is prime is True\n",
      "n = 569: -244609 is prime is True\n",
      "n = 570: -244469 is prime is True\n",
      "n = 571: -244327 is prime is True\n",
      "n = 572: -244183 is prime is True\n",
      "n = 573: -244037 is prime is True\n",
      "n = 574: -243889 is prime is True\n",
      "n = 575: -243739 is prime is True\n",
      "n = 576: -243587 is prime is True\n",
      "n = 577: -243433 is prime is True\n",
      "n = 578: -243277 is prime is True\n",
      "n = 579: -243119 is prime is True\n",
      "n = 580: -242959 is prime is True\n",
      "n = 581: -242797 is prime is True\n",
      "n = 582: -242633 is prime is True\n",
      "n = 583: -242467 is prime is True\n",
      "n = 584: -242299 is prime is True\n",
      "n = 585: -242129 is prime is True\n",
      "n = 586: -241957 is prime is True\n",
      "n = 587: -241783 is prime is True\n",
      "n = 588: -241607 is prime is True\n",
      "n = 589: -241429 is prime is True\n",
      "n = 590: -241249 is prime is True\n",
      "n = 591: -241067 is prime is True\n",
      "n = 592: -240883 is prime is True\n",
      "n = 593: -240697 is prime is True\n",
      "n = 594: -240509 is prime is True\n",
      "n = 595: -240319 is prime is True\n",
      "n = 596: -240127 is prime is True\n",
      "n = 597: -239933 is prime is True\n",
      "n = 598: -239737 is prime is True\n",
      "n = 599: -239539 is prime is True\n",
      "n = 600: -239339 is prime is True\n",
      "n = 601: -239137 is prime is True\n",
      "n = 602: -238933 is prime is True\n",
      "n = 603: -238727 is prime is True\n",
      "n = 604: -238519 is prime is True\n",
      "n = 605: -238309 is prime is True\n",
      "n = 606: -238097 is prime is True\n",
      "n = 607: -237883 is prime is True\n",
      "n = 608: -237667 is prime is True\n",
      "n = 609: -237449 is prime is True\n",
      "n = 610: -237229 is prime is True\n",
      "n = 611: -237007 is prime is True\n",
      "n = 612: -236783 is prime is True\n",
      "n = 613: -236557 is prime is True\n",
      "n = 614: -236329 is prime is True\n",
      "n = 615: -236099 is prime is True\n",
      "n = 616: -235867 is prime is True\n",
      "n = 617: -235633 is prime is True\n",
      "n = 618: -235397 is prime is True\n",
      "n = 619: -235159 is prime is True\n",
      "n = 620: -234919 is prime is True\n",
      "n = 621: -234677 is prime is True\n",
      "n = 622: -234433 is prime is True\n",
      "n = 623: -234187 is prime is True\n",
      "n = 624: -233939 is prime is True\n",
      "n = 625: -233689 is prime is True\n",
      "n = 626: -233437 is prime is True\n",
      "n = 627: -233183 is prime is True\n",
      "n = 628: -232927 is prime is True\n",
      "n = 629: -232669 is prime is True\n",
      "n = 630: -232409 is prime is True\n",
      "n = 631: -232147 is prime is True\n",
      "n = 632: -231883 is prime is True\n",
      "n = 633: -231617 is prime is True\n",
      "n = 634: -231349 is prime is True\n",
      "n = 635: -231079 is prime is True\n",
      "n = 636: -230807 is prime is True\n",
      "n = 637: -230533 is prime is True\n",
      "n = 638: -230257 is prime is True\n",
      "n = 639: -229979 is prime is True\n",
      "n = 640: -229699 is prime is True\n",
      "n = 641: -229417 is prime is True\n",
      "n = 642: -229133 is prime is True\n",
      "n = 643: -228847 is prime is True\n",
      "n = 644: -228559 is prime is True\n",
      "n = 645: -228269 is prime is True\n",
      "n = 646: -227977 is prime is True\n",
      "n = 647: -227683 is prime is True\n",
      "n = 648: -227387 is prime is True\n",
      "n = 649: -227089 is prime is True\n",
      "n = 650: -226789 is prime is True\n",
      "n = 651: -226487 is prime is True\n",
      "n = 652: -226183 is prime is True\n",
      "n = 653: -225877 is prime is True\n",
      "n = 654: -225569 is prime is True\n",
      "n = 655: -225259 is prime is True\n",
      "n = 656: -224947 is prime is True\n",
      "n = 657: -224633 is prime is True\n",
      "n = 658: -224317 is prime is True\n",
      "n = 659: -223999 is prime is True\n",
      "n = 660: -223679 is prime is True\n",
      "n = 661: -223357 is prime is True\n",
      "n = 662: -223033 is prime is True\n",
      "n = 663: -222707 is prime is True\n",
      "n = 664: -222379 is prime is True\n",
      "n = 665: -222049 is prime is True\n",
      "n = 666: -221717 is prime is True\n",
      "n = 667: -221383 is prime is True\n",
      "n = 668: -221047 is prime is True\n",
      "n = 669: -220709 is prime is True\n",
      "n = 670: -220369 is prime is True\n",
      "n = 671: -220027 is prime is True\n",
      "n = 672: -219683 is prime is True\n",
      "n = 673: -219337 is prime is True\n",
      "n = 674: -218989 is prime is True\n",
      "n = 675: -218639 is prime is True\n",
      "n = 676: -218287 is prime is True\n",
      "n = 677: -217933 is prime is True\n",
      "n = 678: -217577 is prime is True\n",
      "n = 679: -217219 is prime is True\n",
      "n = 680: -216859 is prime is True\n",
      "n = 681: -216497 is prime is True\n",
      "n = 682: -216133 is prime is True\n",
      "n = 683: -215767 is prime is True\n",
      "n = 684: -215399 is prime is True\n",
      "n = 685: -215029 is prime is True\n",
      "n = 686: -214657 is prime is True\n",
      "n = 687: -214283 is prime is True\n",
      "n = 688: -213907 is prime is True\n",
      "n = 689: -213529 is prime is True\n",
      "n = 690: -213149 is prime is True\n",
      "n = 691: -212767 is prime is True\n",
      "n = 692: -212383 is prime is True\n",
      "n = 693: -211997 is prime is True\n",
      "n = 694: -211609 is prime is True\n",
      "n = 695: -211219 is prime is True\n",
      "n = 696: -210827 is prime is True\n",
      "n = 697: -210433 is prime is True\n",
      "n = 698: -210037 is prime is True\n",
      "n = 699: -209639 is prime is True\n",
      "n = 700: -209239 is prime is True\n",
      "n = 701: -208837 is prime is True\n",
      "n = 702: -208433 is prime is True\n",
      "n = 703: -208027 is prime is True\n",
      "n = 704: -207619 is prime is True\n",
      "n = 705: -207209 is prime is True\n",
      "n = 706: -206797 is prime is True\n",
      "n = 707: -206383 is prime is True\n",
      "n = 708: -205967 is prime is True\n",
      "n = 709: -205549 is prime is True\n",
      "n = 710: -205129 is prime is True\n",
      "n = 711: -204707 is prime is True\n",
      "n = 712: -204283 is prime is True\n",
      "n = 713: -203857 is prime is True\n",
      "n = 714: -203429 is prime is True\n",
      "n = 715: -202999 is prime is True\n",
      "n = 716: -202567 is prime is True\n",
      "n = 717: -202133 is prime is True\n",
      "n = 718: -201697 is prime is True\n",
      "n = 719: -201259 is prime is True\n",
      "n = 720: -200819 is prime is True\n",
      "n = 721: -200377 is prime is True\n",
      "n = 722: -199933 is prime is True\n",
      "n = 723: -199487 is prime is True\n",
      "n = 724: -199039 is prime is True\n",
      "n = 725: -198589 is prime is True\n",
      "n = 726: -198137 is prime is True\n",
      "n = 727: -197683 is prime is True\n",
      "n = 728: -197227 is prime is True\n",
      "n = 729: -196769 is prime is True\n",
      "n = 730: -196309 is prime is True\n",
      "n = 731: -195847 is prime is True\n",
      "n = 732: -195383 is prime is True\n",
      "n = 733: -194917 is prime is True\n",
      "n = 734: -194449 is prime is True\n",
      "n = 735: -193979 is prime is True\n",
      "n = 736: -193507 is prime is True\n",
      "n = 737: -193033 is prime is True\n",
      "n = 738: -192557 is prime is True\n",
      "n = 739: -192079 is prime is True\n",
      "n = 740: -191599 is prime is True\n",
      "n = 741: -191117 is prime is True\n",
      "n = 742: -190633 is prime is True\n",
      "n = 743: -190147 is prime is True\n",
      "n = 744: -189659 is prime is True\n",
      "n = 745: -189169 is prime is True\n",
      "n = 746: -188677 is prime is True\n",
      "n = 747: -188183 is prime is True\n",
      "n = 748: -187687 is prime is True\n",
      "n = 749: -187189 is prime is True\n",
      "n = 750: -186689 is prime is True\n",
      "n = 751: -186187 is prime is True\n",
      "n = 752: -185683 is prime is True\n",
      "n = 753: -185177 is prime is True\n",
      "n = 754: -184669 is prime is True\n",
      "n = 755: -184159 is prime is True\n",
      "n = 756: -183647 is prime is True\n",
      "n = 757: -183133 is prime is True\n",
      "n = 758: -182617 is prime is True\n",
      "n = 759: -182099 is prime is True\n",
      "n = 760: -181579 is prime is True\n",
      "n = 761: -181057 is prime is True\n",
      "n = 762: -180533 is prime is True\n",
      "n = 763: -180007 is prime is True\n",
      "n = 764: -179479 is prime is True\n",
      "n = 765: -178949 is prime is True\n",
      "n = 766: -178417 is prime is True\n",
      "n = 767: -177883 is prime is True\n",
      "n = 768: -177347 is prime is True\n",
      "n = 769: -176809 is prime is True\n",
      "n = 770: -176269 is prime is True\n",
      "n = 771: -175727 is prime is True\n",
      "n = 772: -175183 is prime is True\n",
      "n = 773: -174637 is prime is True\n",
      "n = 774: -174089 is prime is True\n",
      "n = 775: -173539 is prime is True\n",
      "n = 776: -172987 is prime is True\n",
      "n = 777: -172433 is prime is True\n",
      "n = 778: -171877 is prime is True\n",
      "n = 779: -171319 is prime is True\n",
      "n = 780: -170759 is prime is True\n",
      "n = 781: -170197 is prime is True\n",
      "n = 782: -169633 is prime is True\n",
      "n = 783: -169067 is prime is True\n",
      "n = 784: -168499 is prime is True\n",
      "n = 785: -167929 is prime is True\n",
      "n = 786: -167357 is prime is True\n",
      "n = 787: -166783 is prime is True\n",
      "n = 788: -166207 is prime is True\n",
      "n = 789: -165629 is prime is True\n",
      "n = 790: -165049 is prime is True\n",
      "n = 791: -164467 is prime is True\n",
      "n = 792: -163883 is prime is True\n",
      "n = 793: -163297 is prime is True\n",
      "n = 794: -162709 is prime is True\n",
      "n = 795: -162119 is prime is True\n",
      "n = 796: -161527 is prime is True\n",
      "n = 797: -160933 is prime is True\n",
      "n = 798: -160337 is prime is True\n",
      "n = 799: -159739 is prime is True\n",
      "n = 800: -159139 is prime is True\n",
      "n = 801: -158537 is prime is True\n",
      "n = 802: -157933 is prime is True\n",
      "n = 803: -157327 is prime is True\n",
      "n = 804: -156719 is prime is True\n",
      "n = 805: -156109 is prime is True\n",
      "n = 806: -155497 is prime is True\n",
      "n = 807: -154883 is prime is True\n",
      "n = 808: -154267 is prime is True\n",
      "n = 809: -153649 is prime is True\n",
      "n = 810: -153029 is prime is True\n",
      "n = 811: -152407 is prime is True\n",
      "n = 812: -151783 is prime is True\n",
      "n = 813: -151157 is prime is True\n",
      "n = 814: -150529 is prime is True\n",
      "n = 815: -149899 is prime is True\n",
      "n = 816: -149267 is prime is True\n",
      "n = 817: -148633 is prime is True\n",
      "n = 818: -147997 is prime is True\n",
      "n = 819: -147359 is prime is True\n",
      "n = 820: -146719 is prime is True\n",
      "n = 821: -146077 is prime is True\n",
      "n = 822: -145433 is prime is True\n",
      "n = 823: -144787 is prime is True\n",
      "n = 824: -144139 is prime is True\n",
      "n = 825: -143489 is prime is True\n",
      "n = 826: -142837 is prime is True\n",
      "n = 827: -142183 is prime is True\n",
      "n = 828: -141527 is prime is True\n",
      "n = 829: -140869 is prime is True\n",
      "n = 830: -140209 is prime is True\n",
      "n = 831: -139547 is prime is True\n",
      "n = 832: -138883 is prime is True\n",
      "n = 833: -138217 is prime is True\n",
      "n = 834: -137549 is prime is True\n",
      "n = 835: -136879 is prime is True\n",
      "n = 836: -136207 is prime is True\n",
      "n = 837: -135533 is prime is True\n",
      "n = 838: -134857 is prime is True\n",
      "n = 839: -134179 is prime is True\n",
      "n = 840: -133499 is prime is True\n",
      "n = 841: -132817 is prime is True\n",
      "n = 842: -132133 is prime is True\n",
      "n = 843: -131447 is prime is True\n",
      "n = 844: -130759 is prime is True\n",
      "n = 845: -130069 is prime is True\n",
      "n = 846: -129377 is prime is True\n",
      "n = 847: -128683 is prime is True\n",
      "n = 848: -127987 is prime is True\n",
      "n = 849: -127289 is prime is True\n",
      "n = 850: -126589 is prime is True\n",
      "n = 851: -125887 is prime is True\n",
      "n = 852: -125183 is prime is True\n",
      "n = 853: -124477 is prime is True\n",
      "n = 854: -123769 is prime is True\n",
      "n = 855: -123059 is prime is True\n",
      "n = 856: -122347 is prime is True\n",
      "n = 857: -121633 is prime is True\n",
      "n = 858: -120917 is prime is True\n",
      "n = 859: -120199 is prime is True\n",
      "n = 860: -119479 is prime is True\n",
      "n = 861: -118757 is prime is True\n",
      "n = 862: -118033 is prime is True\n",
      "n = 863: -117307 is prime is True\n",
      "n = 864: -116579 is prime is True\n",
      "n = 865: -115849 is prime is True\n",
      "n = 866: -115117 is prime is True\n",
      "n = 867: -114383 is prime is True\n",
      "n = 868: -113647 is prime is True\n",
      "n = 869: -112909 is prime is True\n",
      "n = 870: -112169 is prime is True\n",
      "n = 871: -111427 is prime is True\n",
      "n = 872: -110683 is prime is True\n",
      "n = 873: -109937 is prime is True\n",
      "n = 874: -109189 is prime is True\n",
      "n = 875: -108439 is prime is True\n",
      "n = 876: -107687 is prime is True\n",
      "n = 877: -106933 is prime is True\n",
      "n = 878: -106177 is prime is True\n",
      "n = 879: -105419 is prime is True\n",
      "n = 880: -104659 is prime is True\n",
      "n = 881: -103897 is prime is True\n",
      "n = 882: -103133 is prime is True\n",
      "n = 883: -102367 is prime is True\n",
      "n = 884: -101599 is prime is True\n",
      "n = 885: -100829 is prime is True\n",
      "n = 886: -100057 is prime is True\n",
      "n = 887: -99283 is prime is True\n",
      "n = 888: -98507 is prime is True\n",
      "n = 889: -97729 is prime is True\n",
      "n = 890: -96949 is prime is True\n",
      "n = 891: -96167 is prime is True\n",
      "n = 892: -95383 is prime is True\n",
      "n = 893: -94597 is prime is True\n",
      "n = 894: -93809 is prime is True\n",
      "n = 895: -93019 is prime is True\n",
      "n = 896: -92227 is prime is True\n",
      "n = 897: -91433 is prime is True\n",
      "n = 898: -90637 is prime is True\n",
      "n = 899: -89839 is prime is True\n",
      "n = 900: -89039 is prime is True\n",
      "n = 901: -88237 is prime is True\n",
      "n = 902: -87433 is prime is True\n",
      "n = 903: -86627 is prime is True\n",
      "n = 904: -85819 is prime is True\n",
      "n = 905: -85009 is prime is True\n",
      "n = 906: -84197 is prime is True\n",
      "n = 907: -83383 is prime is True\n",
      "n = 908: -82567 is prime is True\n",
      "n = 909: -81749 is prime is True\n",
      "n = 910: -80929 is prime is True\n",
      "n = 911: -80107 is prime is True\n",
      "n = 912: -79283 is prime is True\n",
      "n = 913: -78457 is prime is True\n",
      "n = 914: -77629 is prime is True\n",
      "n = 915: -76799 is prime is True\n",
      "n = 916: -75967 is prime is True\n",
      "n = 917: -75133 is prime is True\n",
      "n = 918: -74297 is prime is True\n",
      "n = 919: -73459 is prime is True\n",
      "n = 920: -72619 is prime is True\n",
      "n = 921: -71777 is prime is True\n",
      "n = 922: -70933 is prime is True\n",
      "n = 923: -70087 is prime is True\n",
      "n = 924: -69239 is prime is True\n",
      "n = 925: -68389 is prime is True\n",
      "n = 926: -67537 is prime is True\n",
      "n = 927: -66683 is prime is True\n",
      "n = 928: -65827 is prime is True\n",
      "n = 929: -64969 is prime is True\n",
      "n = 930: -64109 is prime is True\n",
      "n = 931: -63247 is prime is True\n",
      "n = 932: -62383 is prime is True\n",
      "n = 933: -61517 is prime is True\n",
      "n = 934: -60649 is prime is True\n",
      "n = 935: -59779 is prime is True\n",
      "n = 936: -58907 is prime is True\n",
      "n = 937: -58033 is prime is True\n",
      "n = 938: -57157 is prime is True\n",
      "n = 939: -56279 is prime is True\n",
      "n = 940: -55399 is prime is True\n",
      "n = 941: -54517 is prime is True\n",
      "n = 942: -53633 is prime is True\n",
      "n = 943: -52747 is prime is True\n",
      "n = 944: -51859 is prime is True\n",
      "n = 945: -50969 is prime is True\n",
      "n = 946: -50077 is prime is True\n",
      "n = 947: -49183 is prime is True\n",
      "n = 948: -48287 is prime is True\n",
      "n = 949: -47389 is prime is True\n",
      "n = 950: -46489 is prime is True\n",
      "n = 951: -45587 is prime is True\n",
      "n = 952: -44683 is prime is True\n",
      "n = 953: -43777 is prime is True\n",
      "n = 954: -42869 is prime is True\n",
      "n = 955: -41959 is prime is True\n",
      "n = 956: -41047 is prime is True\n",
      "n = 957: -40133 is prime is True\n",
      "n = 958: -39217 is prime is True\n",
      "n = 959: -38299 is prime is True\n",
      "n = 960: -37379 is prime is True\n",
      "n = 961: -36457 is prime is True\n",
      "n = 962: -35533 is prime is True\n",
      "n = 963: -34607 is prime is True\n",
      "n = 964: -33679 is prime is True\n",
      "n = 965: -32749 is prime is True\n",
      "n = 966: -31817 is prime is True\n",
      "n = 967: -30883 is prime is True\n",
      "n = 968: -29947 is prime is True\n",
      "n = 969: -29009 is prime is True\n",
      "n = 970: -28069 is prime is True\n",
      "n = 971: -27127 is prime is True\n",
      "n = 972: -26183 is prime is True\n",
      "n = 973: -25237 is prime is True\n",
      "n = 974: -24289 is prime is True\n",
      "n = 975: -23339 is prime is True\n",
      "n = 976: -22387 is prime is True\n",
      "n = 977: -21433 is prime is True\n",
      "n = 978: -20477 is prime is True\n",
      "n = 979: -19519 is prime is True\n",
      "n = 980: -18559 is prime is True\n",
      "n = 981: -17597 is prime is True\n",
      "n = 982: -16633 is prime is True\n",
      "n = 983: -15667 is prime is True\n",
      "n = 984: -14699 is prime is True\n",
      "n = 985: -13729 is prime is True\n",
      "n = 986: -12757 is prime is True\n",
      "n = 987: -11783 is prime is True\n",
      "n = 988: -10807 is prime is True\n",
      "n = 989: -9829 is prime is True\n",
      "n = 990: -8849 is prime is True\n",
      "n = 991: -7867 is prime is True\n",
      "n = 992: -6883 is prime is True\n",
      "n = 993: -5897 is prime is True\n",
      "n = 994: -4909 is prime is True\n",
      "n = 995: -3919 is prime is True\n",
      "n = 996: -2927 is prime is True\n",
      "n = 997: -1933 is prime is True\n",
      "n = 998: -937 is prime is True\n",
      "n = 999: 61 is prime is True\n",
      "n = 1000: 1061 is prime is True\n",
      "n = 1001: 2063 is prime is True\n",
      "n = 1002: 3067 is prime is True\n",
      "n = 1003: 4073 is prime is True\n",
      "n = 1004: 5081 is prime is True\n",
      "n = 1005: 6091 is prime is True\n",
      "n = 1006: 7103 is prime is True\n",
      "n = 1007: 8117 is prime is True\n",
      "n = 1008: 9133 is prime is True\n",
      "n = 1009: 10151 is prime is True\n",
      "n = 1010: 11171 is prime is True\n"
     ]
    }
   ],
   "source": [
    "for n in range(0, 1011):\n",
    "    number = quadratic_formula(n, -999, 61)\n",
    "    print(f'n = {n}: {number} is prime is {is_prime(number)}')"
   ]
  },
  {
   "cell_type": "code",
   "execution_count": 116,
   "id": "hybrid-marathon",
   "metadata": {},
   "outputs": [],
   "source": [
    "def consecutive_primes_non_neg(a, b):\n",
    "    n = 0\n",
    "    nn = 0\n",
    "    while True:\n",
    "        number = quadratic_formula(n, a, b)\n",
    "        if not is_prime(number):\n",
    "            return nn\n",
    "        else:\n",
    "            n += 1\n",
    "            if number > 1:\n",
    "                nn += 1"
   ]
  },
  {
   "cell_type": "code",
   "execution_count": 118,
   "id": "official-typing",
   "metadata": {},
   "outputs": [
    {
     "name": "stdout",
     "output_type": "stream",
     "text": [
      "4000000\r"
     ]
    }
   ],
   "source": [
    "res_arr_non_neg = np.zeros((2 * cut_off + 1, 2 * cut_off + 1))\n",
    "m = 0\n",
    "for i, a in enumerate(np.arange(-cut_off, cut_off + 1)):\n",
    "    for j, b in enumerate(np.arange(-cut_off, cut_off + 1)):\n",
    "        if m % 10000 == 0:\n",
    "            print(m, end = '\\r')\n",
    "        m += 1\n",
    "        res_arr_non_neg[i, j] = consecutive_primes_non_neg(a, b)"
   ]
  },
  {
   "cell_type": "code",
   "execution_count": 133,
   "id": "communist-imagination",
   "metadata": {},
   "outputs": [
    {
     "data": {
      "text/plain": [
       "<matplotlib.image.AxesImage at 0x137f48f70>"
      ]
     },
     "execution_count": 133,
     "metadata": {},
     "output_type": "execute_result"
    },
    {
     "data": {
      "image/png": "[encoded data removed]",
      "text/plain": [
       "<Figure size 432x288 with 1 Axes>"
      ]
     },
     "metadata": {
      "needs_background": "light"
     },
     "output_type": "display_data"
    }
   ],
   "source": [
    "plt.imshow(res_arr_non_neg[990:1010,990:1010], cmap = 'flag', aspect='auto')\n",
    "#plt.colorbar()"
   ]
  },
  {
   "cell_type": "code",
   "execution_count": 134,
   "id": "twelve-replica",
   "metadata": {},
   "outputs": [
    {
     "data": {
      "text/plain": [
       "[<matplotlib.lines.Line2D at 0x144c71a00>]"
      ]
     },
     "execution_count": 134,
     "metadata": {},
     "output_type": "execute_result"
    },
    {
     "data": {
      "image/png": "[encoded data removed]",
      "text/plain": [
       "<Figure size 432x288 with 1 Axes>"
      ]
     },
     "metadata": {
      "needs_background": "light"
     },
     "output_type": "display_data"
    }
   ],
   "source": [
    "plt.plot(np.sort(res_arr_non_neg.flatten()))"
   ]
  },
  {
   "cell_type": "code",
   "execution_count": 125,
   "id": "regulated-structure",
   "metadata": {},
   "outputs": [
    {
     "data": {
      "text/plain": [
       "71.0"
      ]
     },
     "execution_count": 125,
     "metadata": {},
     "output_type": "execute_result"
    }
   ],
   "source": [
    "np.max(res_arr_non_neg)"
   ]
  },
  {
   "cell_type": "code",
   "execution_count": 137,
   "id": "pretty-conversation",
   "metadata": {},
   "outputs": [
    {
     "data": {
      "text/plain": [
       "1971"
      ]
     },
     "execution_count": 137,
     "metadata": {},
     "output_type": "execute_result"
    }
   ],
   "source": [
    "np.argmax(np.max(res_arr_non_neg, axis = 0))"
   ]
  },
  {
   "cell_type": "code",
   "execution_count": 138,
   "id": "hindu-sleeping",
   "metadata": {},
   "outputs": [
    {
     "data": {
      "text/plain": [
       "939"
      ]
     },
     "execution_count": 138,
     "metadata": {},
     "output_type": "execute_result"
    }
   ],
   "source": [
    "np.argmax(np.max(res_arr_non_neg, axis = 1))"
   ]
  },
  {
   "cell_type": "code",
   "execution_count": 139,
   "id": "processed-uzbekistan",
   "metadata": {},
   "outputs": [
    {
     "data": {
      "text/plain": [
       "71.0"
      ]
     },
     "execution_count": 139,
     "metadata": {},
     "output_type": "execute_result"
    }
   ],
   "source": [
    "res_arr_non_neg[939, 1971]"
   ]
  },
  {
   "cell_type": "code",
   "execution_count": 140,
   "id": "specified-titanium",
   "metadata": {},
   "outputs": [
    {
     "data": {
      "text/plain": [
       "-61"
      ]
     },
     "execution_count": 140,
     "metadata": {},
     "output_type": "execute_result"
    }
   ],
   "source": [
    "np.arange(-cut_off, cut_off + 1)[939]"
   ]
  },
  {
   "cell_type": "code",
   "execution_count": 141,
   "id": "extreme-topic",
   "metadata": {},
   "outputs": [
    {
     "data": {
      "text/plain": [
       "971"
      ]
     },
     "execution_count": 141,
     "metadata": {},
     "output_type": "execute_result"
    }
   ],
   "source": [
    "np.arange(-cut_off, cut_off + 1)[1971]"
   ]
  },
  {
   "cell_type": "code",
   "execution_count": 142,
   "id": "fifteen-uncertainty",
   "metadata": {},
   "outputs": [
    {
     "data": {
      "text/plain": [
       "71"
      ]
     },
     "execution_count": 142,
     "metadata": {},
     "output_type": "execute_result"
    }
   ],
   "source": [
    "consecutive_primes_non_neg(-61, 971)"
   ]
  },
  {
   "cell_type": "code",
   "execution_count": 143,
   "id": "saving-english",
   "metadata": {},
   "outputs": [
    {
     "data": {
      "text/plain": [
       "-59231"
      ]
     },
     "execution_count": 143,
     "metadata": {},
     "output_type": "execute_result"
    }
   ],
   "source": [
    "-61 * 971"
   ]
  },
  {
   "cell_type": "code",
   "execution_count": null,
   "id": "labeled-command",
   "metadata": {},
   "outputs": [],
   "source": []
  }
 ],
 "metadata": {
  "kernelspec": {
   "display_name": "Python 3",
   "language": "python",
   "name": "python3"
  },
  "language_info": {
   "codemirror_mode": {
    "name": "ipython",
    "version": 3
   },
   "file_extension": ".py",
   "mimetype": "text/x-python",
   "name": "python",
   "nbconvert_exporter": "python",
   "pygments_lexer": "ipython3",
   "version": "3.8.6"
  }
 },
 "nbformat": 4,
 "nbformat_minor": 5
}
