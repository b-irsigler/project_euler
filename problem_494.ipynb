{
 "cells": [
  {
   "cell_type": "code",
   "execution_count": null,
   "id": "available-western",
   "metadata": {},
   "outputs": [],
   "source": [
    "\"\"\"\n",
    "The Collatz sequence is defined as: \n",
    " \n",
    "a\n",
    "i\n",
    "+\n",
    "1\n",
    "=\n",
    "{\n",
    "a\n",
    "i\n",
    "2\n",
    "3\n",
    "a\n",
    "i\n",
    "+\n",
    "1\n",
    "if \n",
    "a\n",
    "i\n",
    " is even\n",
    "if \n",
    "a\n",
    "i\n",
    " is odd\n",
    ".\n",
    "\n",
    "The Collatz conjecture states that starting from any positive integer, the sequence eventually reaches the cycle 1,4,2,1....\n",
    "We shall define the sequence prefix p(n) for the Collatz sequence starting with a1 = n as the sub-sequence of all numbers not a power of 2 (20=1 is considered a power of 2 for this problem). For example:\n",
    "p(13) = {13, 40, 20, 10, 5} \n",
    "p(8) = {}\n",
    "Any number invalidating the conjecture would have an infinite length sequence prefix.\n",
    "\n",
    "Let Sm be the set of all sequence prefixes of length m. Two sequences {a1, a2, ..., am} and {b1, b2, ..., bm} in Sm are said to belong to the same prefix family if ai < aj if and only if bi < bj for all 1 ≤ i,j ≤ m.\n",
    "\n",
    "For example, in S4, {6, 3, 10, 5} is in the same family as {454, 227, 682, 341}, but not {113, 340, 170, 85}.\n",
    "Let f(m) be the number of distinct prefix families in Sm.\n",
    "You are given f(5) = 5, f(10) = 55, f(20) = 6771.\n",
    "\n",
    "Find f(90).\n",
    "\"\"\""
   ]
  },
  {
   "cell_type": "code",
   "execution_count": 6,
   "id": "pacific-penetration",
   "metadata": {},
   "outputs": [],
   "source": [
    "from math import log2"
   ]
  },
  {
   "cell_type": "code",
   "execution_count": 7,
   "id": "opening-jewelry",
   "metadata": {},
   "outputs": [],
   "source": [
    "def collatz_seq(n, cut_off):\n",
    "    seq = []\n",
    "    while len(seq) <= cut_off:\n",
    "        if log2(n).is_integer():\n",
    "            return tuple(seq)\n",
    "        else:\n",
    "            seq += [n]\n",
    "            if n % 2 == 0:\n",
    "                n = n // 2\n",
    "            else:\n",
    "                n = 3 * n + 1\n",
    "    else:\n",
    "        return None"
   ]
  },
  {
   "cell_type": "code",
   "execution_count": 8,
   "id": "distinguished-christmas",
   "metadata": {},
   "outputs": [],
   "source": [
    "import numpy as np"
   ]
  },
  {
   "cell_type": "code",
   "execution_count": 9,
   "id": "collaborative-organic",
   "metadata": {},
   "outputs": [],
   "source": [
    "def seq_family(sq1, sq2):\n",
    "    sq1 = np.array([sq1[i] < sq1 for i in range(len(sq1))])\n",
    "    sq2 = np.array([sq2[i] < sq2 for i in range(len(sq2))])\n",
    "    \n",
    "    return not np.logical_xor(sq1, sq2).any()"
   ]
  },
  {
   "cell_type": "code",
   "execution_count": 10,
   "id": "consecutive-morning",
   "metadata": {},
   "outputs": [],
   "source": [
    "import matplotlib.pyplot as plt"
   ]
  },
  {
   "cell_type": "code",
   "execution_count": null,
   "id": "discrete-touch",
   "metadata": {},
   "outputs": [],
   "source": []
  },
  {
   "cell_type": "code",
   "execution_count": 16,
   "id": "hawaiian-heath",
   "metadata": {},
   "outputs": [
    {
     "data": {
      "image/png": "[encoded data removed]",
      "text/plain": [
       "<Figure size 432x288 with 1 Axes>"
      ]
     },
     "metadata": {
      "needs_background": "light"
     },
     "output_type": "display_data"
    }
   ],
   "source": [
    "for i in range(1, 1000000):\n",
    "    sq = collatz_seq(i, 10)\n",
    "    if sq != None:\n",
    "        plt.plot(i, len(sq), '.')"
   ]
  },
  {
   "cell_type": "code",
   "execution_count": 23,
   "id": "convertible-purse",
   "metadata": {},
   "outputs": [
    {
     "name": "stdout",
     "output_type": "stream",
     "text": [
      "90%\r"
     ]
    }
   ],
   "source": [
    "set_5 = []\n",
    "max_range = 10000000\n",
    "for i in range(1, max_range):\n",
    "    if i % (max_range // 10) == 0:\n",
    "        print(100 * i // max_range, end = '%\\r')\n",
    "    sq = collatz_seq(i, 5)\n",
    "    if sq != None and len(sq) == 5:\n",
    "        set_5 += [sq]"
   ]
  },
  {
   "cell_type": "code",
   "execution_count": 24,
   "id": "streaming-terrain",
   "metadata": {},
   "outputs": [
    {
     "data": {
      "text/plain": [
       "21"
      ]
     },
     "execution_count": 24,
     "metadata": {},
     "output_type": "execute_result"
    }
   ],
   "source": [
    "len(set_5)"
   ]
  },
  {
   "cell_type": "code",
   "execution_count": 38,
   "id": "level-newcastle",
   "metadata": {},
   "outputs": [
    {
     "name": "stdout",
     "output_type": "stream",
     "text": [
      "90%\r"
     ]
    }
   ],
   "source": [
    "set_10 = []\n",
    "max_range = 100000000\n",
    "for i in range(1, max_range):\n",
    "    if i % (max_range // 10) == 0:\n",
    "        print(100 * i // max_range, end = '%\\r')\n",
    "    sq = collatz_seq(i, 10)\n",
    "    if sq != None and len(sq) == 10:\n",
    "        set_10 += [sq]"
   ]
  },
  {
   "cell_type": "code",
   "execution_count": 39,
   "id": "bibliographic-globe",
   "metadata": {},
   "outputs": [
    {
     "data": {
      "text/plain": [
       "66"
      ]
     },
     "execution_count": 39,
     "metadata": {},
     "output_type": "execute_result"
    }
   ],
   "source": [
    "len(set_10)"
   ]
  },
  {
   "cell_type": "code",
   "execution_count": 25,
   "id": "champion-hotel",
   "metadata": {},
   "outputs": [
    {
     "name": "stdout",
     "output_type": "stream",
     "text": [
      "90%\r"
     ]
    }
   ],
   "source": [
    "set_20 = []\n",
    "max_range = 10000000\n",
    "for i in range(1, max_range):\n",
    "    if i % (max_range // 10) == 0:\n",
    "        print(100 * i // max_range, end = '%\\r')\n",
    "    sq = collatz_seq(i, 20)\n",
    "    if sq != None and len(sq) == 20:\n",
    "        set_20 += [sq]"
   ]
  },
  {
   "cell_type": "code",
   "execution_count": 26,
   "id": "quiet-constant",
   "metadata": {},
   "outputs": [
    {
     "data": {
      "text/plain": [
       "392"
      ]
     },
     "execution_count": 26,
     "metadata": {},
     "output_type": "execute_result"
    }
   ],
   "source": [
    "len(set_20)"
   ]
  },
  {
   "cell_type": "code",
   "execution_count": null,
   "id": "electoral-rugby",
   "metadata": {},
   "outputs": [],
   "source": []
  },
  {
   "cell_type": "code",
   "execution_count": 40,
   "id": "infrared-better",
   "metadata": {},
   "outputs": [],
   "source": [
    "die_liste = set_10"
   ]
  },
  {
   "cell_type": "code",
   "execution_count": 43,
   "id": "durable-tract",
   "metadata": {},
   "outputs": [],
   "source": [
    "def distinct_families(die_liste):\n",
    "    categories = []\n",
    "\n",
    "    for elem in die_liste:\n",
    "        die_neue_liste = []\n",
    "        category = []\n",
    "        for elem2 in die_liste:\n",
    "            if not seq_family(np.array(elem), np.array(elem2)):\n",
    "                die_neue_liste += [elem2]\n",
    "            else:\n",
    "                category += [elem2]\n",
    "        if len(category) > 0:\n",
    "            categories += [category]\n",
    "        die_liste = die_neue_liste\n",
    "    \n",
    "    return len(categories)"
   ]
  },
  {
   "cell_type": "code",
   "execution_count": 44,
   "id": "interior-marshall",
   "metadata": {},
   "outputs": [
    {
     "data": {
      "text/plain": [
       "40"
      ]
     },
     "execution_count": 44,
     "metadata": {},
     "output_type": "execute_result"
    }
   ],
   "source": [
    "distinct_families(set_10)"
   ]
  },
  {
   "cell_type": "code",
   "execution_count": 51,
   "id": "absolute-halifax",
   "metadata": {},
   "outputs": [
    {
     "name": "stdout",
     "output_type": "stream",
     "text": [
      "90%\r"
     ]
    }
   ],
   "source": [
    "lst1 = []\n",
    "lst2 = []\n",
    "\n",
    "set_20 = []\n",
    "max_range = 10000000\n",
    "for i in range(1, max_range):\n",
    "    if i % (max_range // 10) == 0:\n",
    "        print(100 * i // max_range, end = '%\\r')\n",
    "    sq = collatz_seq(i, 20)\n",
    "    if sq != None and len(sq) == 20:\n",
    "        set_20 += [sq]\n",
    "    if i % 10000 == 0:\n",
    "        lst1 += [i]\n",
    "        lst2 += [distinct_families(set_20)]"
   ]
  },
  {
   "cell_type": "code",
   "execution_count": 52,
   "id": "convenient-retrieval",
   "metadata": {},
   "outputs": [
    {
     "data": {
      "text/plain": [
       "[<matplotlib.lines.Line2D at 0x13028a9d0>]"
      ]
     },
     "execution_count": 52,
     "metadata": {},
     "output_type": "execute_result"
    },
    {
     "data": {
      "image/png": "[encoded data removed]",
      "text/plain": [
       "<Figure size 432x288 with 1 Axes>"
      ]
     },
     "metadata": {
      "needs_background": "light"
     },
     "output_type": "display_data"
    }
   ],
   "source": [
    "\n",
    "plt.plot(lst1, lst2,'.')"
   ]
  },
  {
   "cell_type": "code",
   "execution_count": null,
   "id": "institutional-amateur",
   "metadata": {},
   "outputs": [],
   "source": []
  }
 ],
 "metadata": {
  "kernelspec": {
   "display_name": "Python 3",
   "language": "python",
   "name": "python3"
  },
  "language_info": {
   "codemirror_mode": {
    "name": "ipython",
    "version": 3
   },
   "file_extension": ".py",
   "mimetype": "text/x-python",
   "name": "python",
   "nbconvert_exporter": "python",
   "pygments_lexer": "ipython3",
   "version": "3.8.6"
  }
 },
 "nbformat": 4,
 "nbformat_minor": 5
}
