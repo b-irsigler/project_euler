{
 "cells": [
  {
   "cell_type": "code",
   "execution_count": null,
   "id": "favorite-broadway",
   "metadata": {},
   "outputs": [],
   "source": [
    "\"\"\"\n",
    "\n",
    "\n",
    "Using names.txt (right click and 'Save Link/Target As...'), a 46K text file containing over \n",
    "five-thousand first names, begin by sorting it into alphabetical order. Then working out the\n",
    "alphabetical value for each name, multiply this value by its alphabetical position in the \n",
    "list to obtain a name score.\n",
    "\n",
    "For example, when the list is sorted into alphabetical order, COLIN, which is worth \n",
    "3 + 15 + 12 + 9 + 14 = 53, is the 938th name in the list. So, COLIN would obtain a score \n",
    "of 938 × 53 = 49714.\n",
    "\n",
    "What is the total of all the name scores in the file?\n",
    "\n",
    "\"\"\""
   ]
  },
  {
   "cell_type": "code",
   "execution_count": 12,
   "id": "precious-copyright",
   "metadata": {},
   "outputs": [],
   "source": [
    "import urllib\n",
    "\n",
    "url = \"https://projecteuler.net/project/resources/p022_names.txt\"\n",
    "file = urllib.request.urlopen(url)\n",
    "\n",
    "names = []\n",
    "\n",
    "for line in file:\n",
    "    decoded_line = line.decode(\"utf-8\")\n",
    "    names = decoded_line"
   ]
  },
  {
   "cell_type": "code",
   "execution_count": 15,
   "id": "level-deficit",
   "metadata": {},
   "outputs": [
    {
     "data": {
      "text/plain": [
       "str"
      ]
     },
     "execution_count": 15,
     "metadata": {},
     "output_type": "execute_result"
    }
   ],
   "source": [
    "type(names)"
   ]
  },
  {
   "cell_type": "code",
   "execution_count": 58,
   "id": "minimal-aruba",
   "metadata": {},
   "outputs": [],
   "source": [
    "names = sorted(names.split(','))"
   ]
  },
  {
   "cell_type": "code",
   "execution_count": 54,
   "id": "further-favor",
   "metadata": {},
   "outputs": [],
   "source": [
    "def name_to_number(name):\n",
    "    num = 0\n",
    "    for char in name:\n",
    "        num += ord(char) - ord('A') + 1\n",
    "    return num"
   ]
  },
  {
   "cell_type": "code",
   "execution_count": 56,
   "id": "standard-banks",
   "metadata": {},
   "outputs": [
    {
     "data": {
      "text/plain": [
       "53"
      ]
     },
     "execution_count": 56,
     "metadata": {},
     "output_type": "execute_result"
    }
   ],
   "source": [
    "name_to_number('COLIN')"
   ]
  },
  {
   "cell_type": "code",
   "execution_count": 59,
   "id": "thousand-recommendation",
   "metadata": {},
   "outputs": [
    {
     "data": {
      "text/plain": [
       "5163"
      ]
     },
     "execution_count": 59,
     "metadata": {},
     "output_type": "execute_result"
    }
   ],
   "source": [
    "len(names)"
   ]
  },
  {
   "cell_type": "code",
   "execution_count": 61,
   "id": "forbidden-concert",
   "metadata": {},
   "outputs": [
    {
     "data": {
      "text/plain": [
       "'\"COLIN\"'"
      ]
     },
     "execution_count": 61,
     "metadata": {},
     "output_type": "execute_result"
    }
   ],
   "source": [
    "names[937]"
   ]
  },
  {
   "cell_type": "code",
   "execution_count": 62,
   "id": "quiet-worth",
   "metadata": {},
   "outputs": [],
   "source": [
    "name_scores = []\n",
    "for i in range(len(names)):\n",
    "    name = names[i][1:-1]\n",
    "    name_scores += [(i + 1) * name_to_number(name)]"
   ]
  },
  {
   "cell_type": "code",
   "execution_count": 64,
   "id": "breathing-roberts",
   "metadata": {},
   "outputs": [
    {
     "data": {
      "text/plain": [
       "49714"
      ]
     },
     "execution_count": 64,
     "metadata": {},
     "output_type": "execute_result"
    }
   ],
   "source": [
    "name_scores[937]"
   ]
  },
  {
   "cell_type": "code",
   "execution_count": 65,
   "id": "indoor-investing",
   "metadata": {},
   "outputs": [
    {
     "data": {
      "text/plain": [
       "871198282"
      ]
     },
     "execution_count": 65,
     "metadata": {},
     "output_type": "execute_result"
    }
   ],
   "source": [
    "sum(name_scores)"
   ]
  },
  {
   "cell_type": "code",
   "execution_count": null,
   "id": "peripheral-moisture",
   "metadata": {},
   "outputs": [],
   "source": []
  }
 ],
 "metadata": {
  "kernelspec": {
   "display_name": "Python 3",
   "language": "python",
   "name": "python3"
  },
  "language_info": {
   "codemirror_mode": {
    "name": "ipython",
    "version": 3
   },
   "file_extension": ".py",
   "mimetype": "text/x-python",
   "name": "python",
   "nbconvert_exporter": "python",
   "pygments_lexer": "ipython3",
   "version": "3.9.1"
  }
 },
 "nbformat": 4,
 "nbformat_minor": 5
}
