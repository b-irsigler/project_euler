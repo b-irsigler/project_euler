{
 "cells": [
  {
   "cell_type": "code",
   "execution_count": null,
   "id": "focused-member",
   "metadata": {},
   "outputs": [],
   "source": [
    "\"\"\"\n",
    "\n",
    "Starting in the top left corner of a 2×2 grid, and only being able to move to the right and \n",
    "down, there are exactly 6 routes to the bottom right corner.\n",
    "\n",
    "How many such routes are there through a 20×20 grid?\n",
    "\n",
    "\"\"\""
   ]
  },
  {
   "cell_type": "code",
   "execution_count": 16,
   "id": "small-height",
   "metadata": {},
   "outputs": [],
   "source": [
    "import numpy as np"
   ]
  },
  {
   "cell_type": "code",
   "execution_count": 12,
   "id": "stuck-occupation",
   "metadata": {},
   "outputs": [],
   "source": [
    "class Grid():\n",
    "    def __init__(self, size):\n",
    "        self.size = size\n",
    "    "
   ]
  },
  {
   "cell_type": "code",
   "execution_count": 14,
   "id": "encouraging-respect",
   "metadata": {},
   "outputs": [],
   "source": [
    "grid = Grid(2)"
   ]
  },
  {
   "cell_type": "code",
   "execution_count": 15,
   "id": "consolidated-certification",
   "metadata": {},
   "outputs": [
    {
     "data": {
      "text/plain": [
       "2"
      ]
     },
     "execution_count": 15,
     "metadata": {},
     "output_type": "execute_result"
    }
   ],
   "source": [
    "grid.size"
   ]
  },
  {
   "cell_type": "code",
   "execution_count": 47,
   "id": "affiliated-korea",
   "metadata": {},
   "outputs": [],
   "source": [
    "size = 21\n",
    "grid = np.zeros((size, size))\n",
    "grid[0,0] = 1\n",
    "for i in range(1, size):\n",
    "    for j in range(i+1):\n",
    "        #print(i, j, i - j)\n",
    "        if j > 0 and  i - j > 0:\n",
    "            grid[j, i - j] = grid[j - 1, i - j] + grid[j, i - j - 1]\n",
    "        elif j > 0:\n",
    "            grid[j, i - j] = grid[j - 1, i - j]\n",
    "        else:\n",
    "            grid[j, i - j] = grid[j,     i - j - 1]"
   ]
  },
  {
   "cell_type": "code",
   "execution_count": 48,
   "id": "moral-poland",
   "metadata": {},
   "outputs": [
    {
     "data": {
      "text/plain": [
       "137846528820.0"
      ]
     },
     "execution_count": 48,
     "metadata": {},
     "output_type": "execute_result"
    }
   ],
   "source": [
    "sum(grid[::-1].diagonal()**2)"
   ]
  },
  {
   "cell_type": "code",
   "execution_count": null,
   "id": "modern-israel",
   "metadata": {},
   "outputs": [],
   "source": []
  }
 ],
 "metadata": {
  "kernelspec": {
   "display_name": "Python 3",
   "language": "python",
   "name": "python3"
  },
  "language_info": {
   "codemirror_mode": {
    "name": "ipython",
    "version": 3
   },
   "file_extension": ".py",
   "mimetype": "text/x-python",
   "name": "python",
   "nbconvert_exporter": "python",
   "pygments_lexer": "ipython3",
   "version": "3.9.1"
  }
 },
 "nbformat": 4,
 "nbformat_minor": 5
}
