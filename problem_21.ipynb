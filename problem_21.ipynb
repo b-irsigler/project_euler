{
 "cells": [
  {
   "cell_type": "code",
   "execution_count": null,
   "id": "eastern-trader",
   "metadata": {},
   "outputs": [],
   "source": [
    "\"\"\"\n",
    "\n",
    "\n",
    "Let d(n) be defined as the sum of proper divisors of n (numbers less than n which divide \n",
    "evenly into n).\n",
    "If d(a) = b and d(b) = a, where a ≠ b, then a and b are an amicable pair and each of a and \n",
    "b are called amicable numbers.\n",
    "\n",
    "For example, the proper divisors of 220 are 1, 2, 4, 5, 10, 11, 20, 22, 44, 55 and 110; \n",
    "therefore d(220) = 284. The proper divisors of 284 are 1, 2, 4, 71 and 142; so d(284) = 220.\n",
    "\n",
    "Evaluate the sum of all the amicable numbers under 10000.\n",
    "\n",
    "\"\"\""
   ]
  },
  {
   "cell_type": "code",
   "execution_count": 27,
   "id": "decent-valentine",
   "metadata": {},
   "outputs": [],
   "source": [
    "from math import sqrt, ceil"
   ]
  },
  {
   "cell_type": "code",
   "execution_count": 28,
   "id": "emotional-translator",
   "metadata": {},
   "outputs": [],
   "source": [
    "def divisors(number):\n",
    "    divs = [1]\n",
    "    for i in range(2, ceil(sqrt(number))):\n",
    "        if number % i == 0:\n",
    "            divs += [i, number // i]\n",
    "    \n",
    "    return divs"
   ]
  },
  {
   "cell_type": "code",
   "execution_count": 38,
   "id": "compressed-harris",
   "metadata": {},
   "outputs": [
    {
     "data": {
      "text/plain": [
       "[1, 2, 3]"
      ]
     },
     "execution_count": 38,
     "metadata": {},
     "output_type": "execute_result"
    }
   ],
   "source": [
    "divisors(6)"
   ]
  },
  {
   "cell_type": "code",
   "execution_count": 30,
   "id": "preliminary-hobby",
   "metadata": {},
   "outputs": [],
   "source": [
    "def d(n):\n",
    "    return sum(divisors(n))"
   ]
  },
  {
   "cell_type": "code",
   "execution_count": 37,
   "id": "stone-matthew",
   "metadata": {},
   "outputs": [
    {
     "data": {
      "text/plain": [
       "6"
      ]
     },
     "execution_count": 37,
     "metadata": {},
     "output_type": "execute_result"
    }
   ],
   "source": [
    "d(6)"
   ]
  },
  {
   "cell_type": "code",
   "execution_count": 50,
   "id": "found-cruise",
   "metadata": {},
   "outputs": [],
   "source": [
    "amicable_numbers = []\n",
    "for i in range(10000):\n",
    "    a = i\n",
    "    d_a = d(a)\n",
    "    b = d_a\n",
    "    d_b = d(b)\n",
    "    if d_b == a and a != b:\n",
    "        amicable_numbers += [i]"
   ]
  },
  {
   "cell_type": "code",
   "execution_count": 51,
   "id": "geological-supply",
   "metadata": {},
   "outputs": [
    {
     "data": {
      "text/plain": [
       "[220, 284, 1184, 1210, 2620, 2924, 5020, 5564, 6232, 6368]"
      ]
     },
     "execution_count": 51,
     "metadata": {},
     "output_type": "execute_result"
    }
   ],
   "source": [
    "amicable_numbers"
   ]
  },
  {
   "cell_type": "code",
   "execution_count": 52,
   "id": "active-romantic",
   "metadata": {},
   "outputs": [
    {
     "data": {
      "text/plain": [
       "31626"
      ]
     },
     "execution_count": 52,
     "metadata": {},
     "output_type": "execute_result"
    }
   ],
   "source": [
    "sum(amicable_numbers)"
   ]
  },
  {
   "cell_type": "code",
   "execution_count": null,
   "id": "controlling-nurse",
   "metadata": {},
   "outputs": [],
   "source": []
  }
 ],
 "metadata": {
  "kernelspec": {
   "display_name": "Python 3",
   "language": "python",
   "name": "python3"
  },
  "language_info": {
   "codemirror_mode": {
    "name": "ipython",
    "version": 3
   },
   "file_extension": ".py",
   "mimetype": "text/x-python",
   "name": "python",
   "nbconvert_exporter": "python",
   "pygments_lexer": "ipython3",
   "version": "3.9.1"
  }
 },
 "nbformat": 4,
 "nbformat_minor": 5
}
