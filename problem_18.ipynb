{
 "cells": [
  {
   "cell_type": "code",
   "execution_count": null,
   "id": "electronic-teaching",
   "metadata": {},
   "outputs": [],
   "source": [
    "\"\"\"\n",
    "\n",
    "\n",
    "By starting at the top of the triangle below and moving to adjacent numbers on the row \n",
    "below, the maximum total from top to bottom is 23.\n",
    "\n",
    "3\n",
    "7 4\n",
    "2 4 6\n",
    "8 5 9 3\n",
    "\n",
    "That is, 3 + 7 + 4 + 9 = 23.\n",
    "\n",
    "Find the maximum total from top to bottom of the triangle below:\n",
    "\n",
    "75\n",
    "95 64\n",
    "17 47 82\n",
    "18 35 87 10\n",
    "20 04 82 47 65\n",
    "19 01 23 75 03 34\n",
    "88 02 77 73 07 63 67\n",
    "99 65 04 28 06 16 70 92\n",
    "41 41 26 56 83 40 80 70 33\n",
    "41 48 72 33 47 32 37 16 94 29\n",
    "53 71 44 65 25 43 91 52 97 51 14\n",
    "70 11 33 28 77 73 17 78 39 68 17 57\n",
    "91 71 52 38 17 14 91 43 58 50 27 29 48\n",
    "63 66 04 68 89 53 67 30 73 16 69 87 40 31\n",
    "04 62 98 27 23 09 70 98 73 93 38 53 60 04 23\n",
    "\n",
    "NOTE: As there are only 16384 routes, it is possible to solve this problem by trying every \n",
    "route. However, Problem 67, is the same challenge with a triangle containing one-hundred \n",
    "rows; it cannot be solved by brute force, and requires a clever method! ;o)\n",
    "\n",
    "\"\"\""
   ]
  },
  {
   "cell_type": "code",
   "execution_count": 44,
   "id": "copyrighted-shark",
   "metadata": {},
   "outputs": [],
   "source": [
    "triangle = \"\"\"3\n",
    "7 4\n",
    "2 4 6\n",
    "8 5 9 3\"\"\""
   ]
  },
  {
   "cell_type": "code",
   "execution_count": 45,
   "id": "fifty-generation",
   "metadata": {},
   "outputs": [],
   "source": [
    "triangle = triangle.split('\\n')"
   ]
  },
  {
   "cell_type": "code",
   "execution_count": 46,
   "id": "distinct-primary",
   "metadata": {},
   "outputs": [],
   "source": [
    "import numpy as np"
   ]
  },
  {
   "cell_type": "code",
   "execution_count": 47,
   "id": "dynamic-interaction",
   "metadata": {},
   "outputs": [],
   "source": [
    "triangle = list(map(lambda x: np.array(x.split(' '), dtype = int), triangle))"
   ]
  },
  {
   "cell_type": "code",
   "execution_count": 48,
   "id": "obvious-spank",
   "metadata": {},
   "outputs": [
    {
     "data": {
      "text/plain": [
       "[array([3]), array([7, 4]), array([2, 4, 6]), array([8, 5, 9, 3])]"
      ]
     },
     "execution_count": 48,
     "metadata": {},
     "output_type": "execute_result"
    }
   ],
   "source": [
    "triangle"
   ]
  },
  {
   "cell_type": "code",
   "execution_count": 71,
   "id": "collect-sterling",
   "metadata": {},
   "outputs": [],
   "source": [
    "r = triangle[-1][1:] * triangle[-2]"
   ]
  },
  {
   "cell_type": "code",
   "execution_count": 72,
   "id": "atlantic-testament",
   "metadata": {},
   "outputs": [
    {
     "data": {
      "text/plain": [
       "array([10, 36, 18])"
      ]
     },
     "execution_count": 72,
     "metadata": {},
     "output_type": "execute_result"
    }
   ],
   "source": [
    "r"
   ]
  },
  {
   "cell_type": "code",
   "execution_count": 73,
   "id": "moving-shepherd",
   "metadata": {},
   "outputs": [],
   "source": [
    "l = triangle[-1][:-1] * triangle[-2]"
   ]
  },
  {
   "cell_type": "code",
   "execution_count": 74,
   "id": "opening-venice",
   "metadata": {},
   "outputs": [
    {
     "data": {
      "text/plain": [
       "array([16, 20, 54])"
      ]
     },
     "execution_count": 74,
     "metadata": {},
     "output_type": "execute_result"
    }
   ],
   "source": [
    "l"
   ]
  },
  {
   "cell_type": "code",
   "execution_count": 75,
   "id": "better-configuration",
   "metadata": {},
   "outputs": [
    {
     "data": {
      "text/plain": [
       "array([16, 36, 54])"
      ]
     },
     "execution_count": 75,
     "metadata": {},
     "output_type": "execute_result"
    }
   ],
   "source": [
    "np.maximum(r, l)"
   ]
  },
  {
   "cell_type": "code",
   "execution_count": 43,
   "id": "respected-thousand",
   "metadata": {},
   "outputs": [],
   "source": [
    "\n",
    "for i in range(len(triangle) - 1):\n",
    "    r = triangle[- i - 1][1:] + triangle[- i - 2]\n",
    "    l = triangle[- i - 1][:1] + triangle[- i - 2]\n",
    "    triangle[- i - 2] = np.maximum(r, l)"
   ]
  },
  {
   "cell_type": "code",
   "execution_count": 44,
   "id": "lesser-cooking",
   "metadata": {},
   "outputs": [
    {
     "data": {
      "text/plain": [
       "[array([23]), array([20, 18]), array([10, 13, 14]), array([8, 5, 9, 3])]"
      ]
     },
     "execution_count": 44,
     "metadata": {},
     "output_type": "execute_result"
    }
   ],
   "source": [
    "triangle"
   ]
  },
  {
   "cell_type": "code",
   "execution_count": 53,
   "id": "willing-limitation",
   "metadata": {},
   "outputs": [],
   "source": [
    "triangle = \"\"\"75\n",
    "95 64\n",
    "17 47 82\n",
    "18 35 87 10\n",
    "20 04 82 47 65\n",
    "19 01 23 75 03 34\n",
    "88 02 77 73 07 63 67\n",
    "99 65 04 28 06 16 70 92\n",
    "41 41 26 56 83 40 80 70 33\n",
    "41 48 72 33 47 32 37 16 94 29\n",
    "53 71 44 65 25 43 91 52 97 51 14\n",
    "70 11 33 28 77 73 17 78 39 68 17 57\n",
    "91 71 52 38 17 14 91 43 58 50 27 29 48\n",
    "63 66 04 68 89 53 67 30 73 16 69 87 40 31\n",
    "04 62 98 27 23 09 70 98 73 93 38 53 60 04 23\"\"\""
   ]
  },
  {
   "cell_type": "code",
   "execution_count": 54,
   "id": "italian-broad",
   "metadata": {},
   "outputs": [],
   "source": [
    "triangle = triangle.split('\\n')"
   ]
  },
  {
   "cell_type": "code",
   "execution_count": 55,
   "id": "statewide-extraction",
   "metadata": {},
   "outputs": [],
   "source": [
    "triangle = list(map(lambda x: np.array(x.split(' '), dtype = int), triangle))"
   ]
  },
  {
   "cell_type": "code",
   "execution_count": 48,
   "id": "crucial-stability",
   "metadata": {},
   "outputs": [],
   "source": [
    "\n",
    "for i in range(len(triangle) - 1):\n",
    "    r = triangle[- i - 1][1:] + triangle[- i - 2]\n",
    "    l = triangle[- i - 1][:1] + triangle[- i - 2]\n",
    "    triangle[- i - 2] = np.maximum(r, l)"
   ]
  },
  {
   "cell_type": "code",
   "execution_count": 49,
   "id": "green-cornwall",
   "metadata": {},
   "outputs": [
    {
     "data": {
      "text/plain": [
       "[array([1076]),\n",
       " array([1001,  970]),\n",
       " array([906, 897, 888]),\n",
       " array([754, 889, 850, 806]),\n",
       " array([736, 724, 854, 763, 796]),\n",
       " array([716, 698, 720, 772, 700, 731]),\n",
       " array([697, 611, 686, 682, 616, 675, 676]),\n",
       " array([609, 543, 497, 567, 484, 534, 612, 570]),\n",
       " array([478, 510, 463, 493, 539, 477, 518, 542, 470]),\n",
       " array([437, 426, 469, 411, 425, 456, 415, 438, 472, 407]),\n",
       " array([378, 396, 369, 397, 353, 368, 424, 377, 422, 376, 339]),\n",
       " array([325, 266, 288, 283, 332, 328, 272, 333, 294, 323, 272, 312]),\n",
       " array([255, 196, 177, 163, 142, 179, 216, 209, 183, 175, 174, 154, 173]),\n",
       " array([125, 164,  31,  91,  98, 123, 165, 103, 166,  54, 122, 147,  44,\n",
       "         54]),\n",
       " array([ 4, 62, 98, 27, 23,  9, 70, 98, 73, 93, 38, 53, 60,  4, 23])]"
      ]
     },
     "execution_count": 49,
     "metadata": {},
     "output_type": "execute_result"
    }
   ],
   "source": [
    "triangle"
   ]
  },
  {
   "cell_type": "code",
   "execution_count": 50,
   "id": "given-institute",
   "metadata": {},
   "outputs": [
    {
     "data": {
      "text/plain": [
       "15"
      ]
     },
     "execution_count": 50,
     "metadata": {},
     "output_type": "execute_result"
    }
   ],
   "source": [
    "len(triangle)"
   ]
  },
  {
   "cell_type": "code",
   "execution_count": 52,
   "id": "grand-apache",
   "metadata": {},
   "outputs": [
    {
     "data": {
      "text/plain": [
       "16384"
      ]
     },
     "execution_count": 52,
     "metadata": {},
     "output_type": "execute_result"
    }
   ],
   "source": [
    "2**(15 - 1)"
   ]
  },
  {
   "cell_type": "code",
   "execution_count": 56,
   "id": "quantitative-oxygen",
   "metadata": {},
   "outputs": [],
   "source": [
    "res = np.zeros(2**(len(triangle) - 1))\n",
    "for i in range(2**(len(triangle) - 1)):\n",
    "    comb = bin(i)[2:].zfill(len(triangle) - 1)[::-1]\n",
    "    temp = triangle[0][0]\n",
    "    cur = 0\n",
    "    for j in range(1, len(triangle)):\n",
    "        cur += int(comb[j-1])\n",
    "        temp += triangle[j][cur]\n",
    "    res[i] = temp\n",
    "    temp = 0"
   ]
  },
  {
   "cell_type": "code",
   "execution_count": 57,
   "id": "complex-regard",
   "metadata": {},
   "outputs": [
    {
     "data": {
      "text/plain": [
       "array([794., 663., 694., ..., 761., 792., 724.])"
      ]
     },
     "execution_count": 57,
     "metadata": {},
     "output_type": "execute_result"
    }
   ],
   "source": [
    "res"
   ]
  },
  {
   "cell_type": "code",
   "execution_count": 58,
   "id": "standard-israel",
   "metadata": {},
   "outputs": [
    {
     "data": {
      "text/plain": [
       "1074.0"
      ]
     },
     "execution_count": 58,
     "metadata": {},
     "output_type": "execute_result"
    }
   ],
   "source": [
    "res.max()"
   ]
  },
  {
   "cell_type": "code",
   "execution_count": null,
   "id": "fitting-timing",
   "metadata": {},
   "outputs": [],
   "source": []
  }
 ],
 "metadata": {
  "kernelspec": {
   "display_name": "Python 3",
   "language": "python",
   "name": "python3"
  },
  "language_info": {
   "codemirror_mode": {
    "name": "ipython",
    "version": 3
   },
   "file_extension": ".py",
   "mimetype": "text/x-python",
   "name": "python",
   "nbconvert_exporter": "python",
   "pygments_lexer": "ipython3",
   "version": "3.9.1"
  }
 },
 "nbformat": 4,
 "nbformat_minor": 5
}
