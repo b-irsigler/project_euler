{
 "cells": [
  {
   "cell_type": "code",
   "execution_count": null,
   "id": "efficient-female",
   "metadata": {},
   "outputs": [],
   "source": [
    "\"\"\"\n",
    "\n",
    "\n",
    "If the numbers 1 to 5 are written out in words: one, two, three, four, five, then there are \n",
    "3 + 3 + 5 + 4 + 4 = 19 letters used in total.\n",
    "\n",
    "If all the numbers from 1 to 1000 (one thousand) inclusive were written out in words, how \n",
    "many letters would be used?\n",
    "\n",
    "NOTE: Do not count spaces or hyphens. For example, 342 (three hundred and forty-two) \n",
    "contains 23 letters and 115 (one hundred and fifteen) contains 20 letters. The use of \n",
    "\"and\" when writing out numbers is in compliance with British usage.\n",
    "\n",
    "\"\"\""
   ]
  },
  {
   "cell_type": "code",
   "execution_count": 77,
   "id": "answering-playback",
   "metadata": {},
   "outputs": [],
   "source": [
    "def digit_name(d):\n",
    "    assert d // 10 == 0\n",
    "    if d == 0:\n",
    "        return False\n",
    "    else:\n",
    "        return ['one', 'two', 'three', 'four', 'five', 'six', 'seven', 'eight', 'nine'][d - 1]\n",
    "    "
   ]
  },
  {
   "cell_type": "code",
   "execution_count": 78,
   "id": "junior-kruger",
   "metadata": {},
   "outputs": [],
   "source": [
    "def tens_name(d):\n",
    "    assert d // 10 == 0\n",
    "    \n",
    "    if d == 1:\n",
    "        return False\n",
    "    else:\n",
    "        return ['twenty', 'thirty', 'forty', 'fifty', 'sixty', 'seventy', 'eighty', 'ninety'][d - 2]\n",
    "    "
   ]
  },
  {
   "cell_type": "code",
   "execution_count": 79,
   "id": "solid-prince",
   "metadata": {},
   "outputs": [],
   "source": [
    "def tens_are_one_name(d):\n",
    "    assert d // 10 == 0\n",
    "    \n",
    "    return ['ten', 'eleven', 'twelve', 'thirteen', 'fourteen', 'fifteen', 'sixteen', \n",
    "            'seventeen', 'eighteen', 'nineteen'][d]\n",
    "    "
   ]
  },
  {
   "cell_type": "code",
   "execution_count": 80,
   "id": "adaptive-louis",
   "metadata": {},
   "outputs": [
    {
     "data": {
      "text/plain": [
       "'two'"
      ]
     },
     "execution_count": 80,
     "metadata": {},
     "output_type": "execute_result"
    }
   ],
   "source": [
    "digit_name(2)"
   ]
  },
  {
   "cell_type": "code",
   "execution_count": 81,
   "id": "polished-railway",
   "metadata": {},
   "outputs": [
    {
     "data": {
      "text/plain": [
       "'ninety'"
      ]
     },
     "execution_count": 81,
     "metadata": {},
     "output_type": "execute_result"
    }
   ],
   "source": [
    "tens_name(9)"
   ]
  },
  {
   "cell_type": "code",
   "execution_count": 82,
   "id": "rotary-vertex",
   "metadata": {},
   "outputs": [
    {
     "data": {
      "text/plain": [
       "'onehundredandtwentythree'"
      ]
     },
     "execution_count": 82,
     "metadata": {},
     "output_type": "execute_result"
    }
   ],
   "source": [
    "number_name(123)"
   ]
  },
  {
   "cell_type": "code",
   "execution_count": 83,
   "id": "logical-bhutan",
   "metadata": {},
   "outputs": [],
   "source": [
    "def number_name(num):\n",
    "    assert num >= 1 and num <= 1000\n",
    "    \n",
    "    if num == 1000:\n",
    "        return 'onethousand'\n",
    "    \n",
    "    hundreds = num // 100\n",
    "    tens = num % 100 // 10\n",
    "    ones = num % 10\n",
    "    \n",
    "    tens_are_one = tens == 1\n",
    "    \n",
    "    name = ''\n",
    "    \n",
    "    if hundreds:\n",
    "        name += digit_name(hundreds) + 'hundred'\n",
    "        if tens or ones:\n",
    "            name += 'and'\n",
    "        \n",
    "    if tens:\n",
    "        if tens_are_one:\n",
    "            name += tens_are_one_name(ones)\n",
    "        else:\n",
    "            name += tens_name(tens)\n",
    "        \n",
    "    if ones and not tens_are_one:\n",
    "        name += digit_name(ones)\n",
    "    \n",
    "    return name"
   ]
  },
  {
   "cell_type": "code",
   "execution_count": 84,
   "id": "august-eagle",
   "metadata": {},
   "outputs": [
    {
     "data": {
      "text/plain": [
       "'threehundredandfortytwo'"
      ]
     },
     "execution_count": 84,
     "metadata": {},
     "output_type": "execute_result"
    }
   ],
   "source": [
    "number_name(342)"
   ]
  },
  {
   "cell_type": "code",
   "execution_count": 86,
   "id": "shaped-recording",
   "metadata": {},
   "outputs": [
    {
     "data": {
      "text/plain": [
       "23"
      ]
     },
     "execution_count": 86,
     "metadata": {},
     "output_type": "execute_result"
    }
   ],
   "source": [
    "len('threehundredandfortytwo')"
   ]
  },
  {
   "cell_type": "code",
   "execution_count": 87,
   "id": "sustainable-stations",
   "metadata": {},
   "outputs": [],
   "source": [
    "length = 0\n",
    "for i in range(1, 1001):\n",
    "    length += len(number_name(i))"
   ]
  },
  {
   "cell_type": "code",
   "execution_count": 88,
   "id": "streaming-truck",
   "metadata": {},
   "outputs": [
    {
     "data": {
      "text/plain": [
       "21124"
      ]
     },
     "execution_count": 88,
     "metadata": {},
     "output_type": "execute_result"
    }
   ],
   "source": [
    "length"
   ]
  },
  {
   "cell_type": "code",
   "execution_count": null,
   "id": "seventh-sending",
   "metadata": {},
   "outputs": [],
   "source": []
  }
 ],
 "metadata": {
  "kernelspec": {
   "display_name": "Python 3",
   "language": "python",
   "name": "python3"
  },
  "language_info": {
   "codemirror_mode": {
    "name": "ipython",
    "version": 3
   },
   "file_extension": ".py",
   "mimetype": "text/x-python",
   "name": "python",
   "nbconvert_exporter": "python",
   "pygments_lexer": "ipython3",
   "version": "3.9.1"
  }
 },
 "nbformat": 4,
 "nbformat_minor": 5
}
