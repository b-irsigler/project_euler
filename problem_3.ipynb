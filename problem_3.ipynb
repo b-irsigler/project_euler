{
 "cells": [
  {
   "cell_type": "code",
   "execution_count": null,
   "id": "elect-windows",
   "metadata": {},
   "outputs": [],
   "source": [
    "\"\"\"\n",
    "\n",
    "\n",
    "The prime factors of 13195 are 5, 7, 13 and 29.\n",
    "\n",
    "What is the largest prime factor of the number 600851475143 ?\n",
    "\n",
    "\"\"\""
   ]
  },
  {
   "cell_type": "code",
   "execution_count": 5,
   "id": "proud-accreditation",
   "metadata": {},
   "outputs": [],
   "source": [
    "def prime_factor(number):\n",
    "    prime_factors = []\n",
    "    for i in range(2,number):\n",
    "        if number % i == 0:\n",
    "            number /= i\n",
    "            prime_factors += [i]\n",
    "    \n",
    "    return prime_factors"
   ]
  },
  {
   "cell_type": "code",
   "execution_count": 6,
   "id": "moderate-protection",
   "metadata": {},
   "outputs": [
    {
     "data": {
      "text/plain": [
       "[5, 7, 13, 29]"
      ]
     },
     "execution_count": 6,
     "metadata": {},
     "output_type": "execute_result"
    }
   ],
   "source": [
    "prime_factor(13195)"
   ]
  },
  {
   "cell_type": "code",
   "execution_count": 21,
   "id": "ordered-supplement",
   "metadata": {},
   "outputs": [],
   "source": [
    "def prime_factor_recursive(number):\n",
    "    if number == 1:\n",
    "        return None\n",
    "    else:\n",
    "        for i in range(2,number):\n",
    "            if number % i == 0:\n",
    "                number = int(number/i)\n",
    "                return prime_factor_recursive(number)\n",
    "        return number"
   ]
  },
  {
   "cell_type": "code",
   "execution_count": 22,
   "id": "stupid-silence",
   "metadata": {},
   "outputs": [
    {
     "data": {
      "text/plain": [
       "29"
      ]
     },
     "execution_count": 22,
     "metadata": {},
     "output_type": "execute_result"
    }
   ],
   "source": [
    "prime_factor_recursive(13195)"
   ]
  },
  {
   "cell_type": "code",
   "execution_count": 23,
   "id": "shared-columbus",
   "metadata": {},
   "outputs": [
    {
     "data": {
      "text/plain": [
       "6857"
      ]
     },
     "execution_count": 23,
     "metadata": {},
     "output_type": "execute_result"
    }
   ],
   "source": [
    "prime_factor_recursive(600851475143)"
   ]
  },
  {
   "cell_type": "code",
   "execution_count": null,
   "id": "activated-actress",
   "metadata": {},
   "outputs": [],
   "source": []
  }
 ],
 "metadata": {
  "kernelspec": {
   "display_name": "Python 3",
   "language": "python",
   "name": "python3"
  },
  "language_info": {
   "codemirror_mode": {
    "name": "ipython",
    "version": 3
   },
   "file_extension": ".py",
   "mimetype": "text/x-python",
   "name": "python",
   "nbconvert_exporter": "python",
   "pygments_lexer": "ipython3",
   "version": "3.9.1"
  }
 },
 "nbformat": 4,
 "nbformat_minor": 5
}
