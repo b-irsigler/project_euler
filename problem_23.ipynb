{
 "cells": [
  {
   "cell_type": "code",
   "execution_count": 1,
   "id": "sixth-pizza",
   "metadata": {},
   "outputs": [
    {
     "data": {
      "text/plain": [
       "'\\n\\n\\nA perfect number is a number for which the sum of its proper divisors is exactly equal to \\nthe number. For example, the sum of the proper divisors of 28 would be \\n1 + 2 + 4 + 7 + 14 = 28, which means that 28 is a perfect number.\\n\\nA number n is called deficient if the sum of its proper divisors is less than n and it is \\ncalled abundant if this sum exceeds n.\\n\\nAs 12 is the smallest abundant number, 1 + 2 + 3 + 4 + 6 = 16, the smallest number that \\ncan be written as the sum of two abundant numbers is 24. By mathematical analysis, it can \\nbe shown that all integers greater than 28123 can be written as the sum of two abundant \\nnumbers. However, this upper limit cannot be reduced any further by analysis even though \\nit is known that the greatest number that cannot be expressed as the sum of two abundant \\nnumbers is less than this limit.\\n\\nFind the sum of all the positive integers which cannot be written as the sum of two \\nabundant numbers.\\n\\n'"
      ]
     },
     "execution_count": 1,
     "metadata": {},
     "output_type": "execute_result"
    }
   ],
   "source": [
    "\"\"\"\n",
    "\n",
    "\n",
    "A perfect number is a number for which the sum of its proper divisors is exactly equal to \n",
    "the number. For example, the sum of the proper divisors of 28 would be \n",
    "1 + 2 + 4 + 7 + 14 = 28, which means that 28 is a perfect number.\n",
    "\n",
    "A number n is called deficient if the sum of its proper divisors is less than n and it is \n",
    "called abundant if this sum exceeds n.\n",
    "\n",
    "As 12 is the smallest abundant number, 1 + 2 + 3 + 4 + 6 = 16, the smallest number that \n",
    "can be written as the sum of two abundant numbers is 24. By mathematical analysis, it can \n",
    "be shown that all integers greater than 28123 can be written as the sum of two abundant \n",
    "numbers. However, this upper limit cannot be reduced any further by analysis even though \n",
    "it is known that the greatest number that cannot be expressed as the sum of two abundant \n",
    "numbers is less than this limit.\n",
    "\n",
    "Find the sum of all the positive integers which cannot be written as the sum of two \n",
    "abundant numbers.\n",
    "\n",
    "\"\"\""
   ]
  },
  {
   "cell_type": "code",
   "execution_count": 2,
   "id": "typical-spirituality",
   "metadata": {},
   "outputs": [],
   "source": [
    "from math import sqrt, ceil"
   ]
  },
  {
   "cell_type": "code",
   "execution_count": 3,
   "id": "prostate-alabama",
   "metadata": {},
   "outputs": [],
   "source": [
    "def divisors(number):\n",
    "    divs = [1]\n",
    "    for i in range(2, ceil(sqrt(number))):\n",
    "        if number % i == 0:\n",
    "            divs += [i, number // i]\n",
    "    return divs"
   ]
  },
  {
   "cell_type": "code",
   "execution_count": 4,
   "id": "synthetic-entity",
   "metadata": {},
   "outputs": [],
   "source": [
    "def sum_divisors(number):\n",
    "    return sum(divisors(number))"
   ]
  },
  {
   "cell_type": "code",
   "execution_count": 5,
   "id": "split-heaven",
   "metadata": {},
   "outputs": [
    {
     "data": {
      "text/plain": [
       "28"
      ]
     },
     "execution_count": 5,
     "metadata": {},
     "output_type": "execute_result"
    }
   ],
   "source": [
    "sum_divisors(28)"
   ]
  },
  {
   "cell_type": "code",
   "execution_count": 6,
   "id": "tracked-syntax",
   "metadata": {},
   "outputs": [
    {
     "data": {
      "text/plain": [
       "16"
      ]
     },
     "execution_count": 6,
     "metadata": {},
     "output_type": "execute_result"
    }
   ],
   "source": [
    "sum_divisors(12)"
   ]
  },
  {
   "cell_type": "code",
   "execution_count": 7,
   "id": "personal-wells",
   "metadata": {},
   "outputs": [],
   "source": [
    "MAXIMUM_SUM_ABUND = 28123"
   ]
  },
  {
   "cell_type": "code",
   "execution_count": 8,
   "id": "indonesian-hudson",
   "metadata": {},
   "outputs": [],
   "source": [
    "abundant_numbers = []\n",
    "for i in range(12, MAXIMUM_SUM_ABUND + 1):\n",
    "    candidate = sum_divisors(i)\n",
    "    if candidate > i:\n",
    "        abundant_numbers += [i]"
   ]
  },
  {
   "cell_type": "code",
   "execution_count": 9,
   "id": "personalized-kingston",
   "metadata": {},
   "outputs": [
    {
     "data": {
      "text/plain": [
       "40280"
      ]
     },
     "execution_count": 9,
     "metadata": {},
     "output_type": "execute_result"
    }
   ],
   "source": [
    "sum_divisors(28120)"
   ]
  },
  {
   "cell_type": "code",
   "execution_count": 11,
   "id": "adaptive-timber",
   "metadata": {},
   "outputs": [],
   "source": [
    "summed_abundant_numbers = []\n",
    "for i in range(len(abundant_numbers)):\n",
    "    a = abundant_numbers[i]\n",
    "    for j in range(len(abundant_numbers)):\n",
    "        b = abundant_numbers[j]\n",
    "        temp = a + b\n",
    "        if temp < MAXIMUM_SUM_ABUND:\n",
    "            summed_abundant_numbers += [temp]"
   ]
  },
  {
   "cell_type": "code",
   "execution_count": 12,
   "id": "wound-underwear",
   "metadata": {
    "scrolled": true
   },
   "outputs": [
    {
     "data": {
      "text/plain": [
       "28122"
      ]
     },
     "execution_count": 12,
     "metadata": {},
     "output_type": "execute_result"
    }
   ],
   "source": [
    "max(summed_abundant_numbers)"
   ]
  },
  {
   "cell_type": "code",
   "execution_count": 13,
   "id": "civil-specification",
   "metadata": {},
   "outputs": [
    {
     "data": {
      "text/plain": [
       "24266702"
      ]
     },
     "execution_count": 13,
     "metadata": {},
     "output_type": "execute_result"
    }
   ],
   "source": [
    "len(summed_abundant_numbers)"
   ]
  },
  {
   "cell_type": "code",
   "execution_count": 14,
   "id": "pressing-ontario",
   "metadata": {},
   "outputs": [],
   "source": [
    "summed_abundant_numbers = set(summed_abundant_numbers)"
   ]
  },
  {
   "cell_type": "code",
   "execution_count": 15,
   "id": "conditional-directory",
   "metadata": {},
   "outputs": [],
   "source": [
    "pos_ints = set(range(MAXIMUM_SUM_ABUND + 1))"
   ]
  },
  {
   "cell_type": "code",
   "execution_count": 16,
   "id": "tight-appreciation",
   "metadata": {},
   "outputs": [
    {
     "data": {
      "text/plain": [
       "28124"
      ]
     },
     "execution_count": 16,
     "metadata": {},
     "output_type": "execute_result"
    }
   ],
   "source": [
    "len(pos_ints)"
   ]
  },
  {
   "cell_type": "code",
   "execution_count": 17,
   "id": "mobile-dream",
   "metadata": {},
   "outputs": [],
   "source": [
    "pos_ints_non_abund = pos_ints - summed_abundant_numbers"
   ]
  },
  {
   "cell_type": "code",
   "execution_count": 18,
   "id": "brilliant-fifteen",
   "metadata": {},
   "outputs": [
    {
     "data": {
      "text/plain": [
       "4218527"
      ]
     },
     "execution_count": 18,
     "metadata": {},
     "output_type": "execute_result"
    }
   ],
   "source": [
    "sum(pos_ints_non_abund)"
   ]
  },
  {
   "cell_type": "code",
   "execution_count": null,
   "id": "viral-cleveland",
   "metadata": {},
   "outputs": [],
   "source": []
  }
 ],
 "metadata": {
  "kernelspec": {
   "display_name": "Python 3",
   "language": "python",
   "name": "python3"
  },
  "language_info": {
   "codemirror_mode": {
    "name": "ipython",
    "version": 3
   },
   "file_extension": ".py",
   "mimetype": "text/x-python",
   "name": "python",
   "nbconvert_exporter": "python",
   "pygments_lexer": "ipython3",
   "version": "3.9.1"
  }
 },
 "nbformat": 4,
 "nbformat_minor": 5
}
