{
 "cells": [
  {
   "cell_type": "code",
   "execution_count": null,
   "id": "proof-proposal",
   "metadata": {},
   "outputs": [],
   "source": [
    "\"\"\"\n",
    "\n",
    "\n",
    "Let S(A) represent the sum of elements in set A of size n. We shall call it a special sum \n",
    "set if for any two non-empty disjoint subsets, B and C, the following properties are true:\n",
    "\n",
    "    S(B) ≠ S(C); that is, sums of subsets cannot be equal.\n",
    "    If B contains more elements than C then S(B) > S(C).\n",
    "\n",
    "If S(A) is minimised for a given n, we shall call it an optimum special sum set. The first \n",
    "five optimum special sum sets are given below.\n",
    "\n",
    "n = 1: {1}\n",
    "n = 2: {1, 2}\n",
    "n = 3: {2, 3, 4}\n",
    "n = 4: {3, 5, 6, 7}\n",
    "n = 5: {6, 9, 11, 12, 13}\n",
    "\n",
    "It seems that for a given optimum set, A = {a1, a2, ... , an}, the next optimum set is of \n",
    "the form B = {b, a1+b, a2+b, ... ,an+b}, where b is the \"middle\" element on the previous \n",
    "row.\n",
    "\n",
    "By applying this \"rule\" we would expect the optimum set for n = 6 to be A = {11, 17, 20, 22,\n",
    "23, 24}, with S(A) = 117. However, this is not the optimum set, as we have merely applied \n",
    "an algorithm to provide a near optimum set. The optimum set for n = 6 is A = {11, 18, 19, \n",
    "20, 22, 25}, with S(A) = 115 and corresponding set string: 111819202225.\n",
    "\n",
    "Given that A is an optimum special sum set for n = 7, find its set string.\n",
    "\n",
    "NOTE: This problem is related to Problem 105 and Problem 106.\n",
    "\n",
    "\"\"\""
   ]
  },
  {
   "cell_type": "code",
   "execution_count": 18,
   "id": "cathedral-three",
   "metadata": {},
   "outputs": [],
   "source": [
    "A6 = {11, 18, 19, 20, 22, 25}"
   ]
  },
  {
   "cell_type": "code",
   "execution_count": 19,
   "id": "unusual-beatles",
   "metadata": {},
   "outputs": [],
   "source": [
    "A7_near = {20, 31, 38, 39, 40, 42, 45}"
   ]
  },
  {
   "cell_type": "code",
   "execution_count": null,
   "id": "productive-newspaper",
   "metadata": {},
   "outputs": [],
   "source": [
    "def is_special(A):\n",
    "    "
   ]
  },
  {
   "cell_type": "code",
   "execution_count": null,
   "id": "offensive-undergraduate",
   "metadata": {},
   "outputs": [],
   "source": []
  },
  {
   "cell_type": "code",
   "execution_count": 28,
   "id": "compressed-jumping",
   "metadata": {},
   "outputs": [],
   "source": [
    "a = {2, 3, 4, 5}\n",
    "n = len(a)"
   ]
  },
  {
   "cell_type": "code",
   "execution_count": 29,
   "id": "corrected-bacon",
   "metadata": {},
   "outputs": [
    {
     "name": "stdout",
     "output_type": "stream",
     "text": [
      "1 1\n",
      "1 2\n",
      "1 3\n",
      "2 1\n",
      "2 2\n",
      "3 1\n"
     ]
    }
   ],
   "source": [
    "for b_len in range(1, n):\n",
    "    for c_len in range(1, n + 1 - b_len):\n",
    "        print(b_len, c_len)"
   ]
  },
  {
   "cell_type": "code",
   "execution_count": null,
   "id": "coupled-sessions",
   "metadata": {},
   "outputs": [],
   "source": [
    "for i in range()"
   ]
  }
 ],
 "metadata": {
  "kernelspec": {
   "display_name": "Python 3",
   "language": "python",
   "name": "python3"
  },
  "language_info": {
   "codemirror_mode": {
    "name": "ipython",
    "version": 3
   },
   "file_extension": ".py",
   "mimetype": "text/x-python",
   "name": "python",
   "nbconvert_exporter": "python",
   "pygments_lexer": "ipython3",
   "version": "3.9.1"
  }
 },
 "nbformat": 4,
 "nbformat_minor": 5
}
